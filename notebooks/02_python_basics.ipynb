{
  "cells": [
    {
      "cell_type": "markdown",
      "metadata": {},
      "source": [
        "---\n",
        "title: \"Introduction to Python Programming Basics for Business\"\n",
        "format: \n",
        "  html:\n",
        "    code-fold: true\n",
        "jupyter: python3\n",
        "---\n",
        "\n",
        "## Introduction to Python Programming Basics for Business\n",
        "\n",
        "Python is a versatile, high-level programming language known for its readability and broad applicability, especially in the business world. This tutorial will introduce you to the fundamentals of Python, focusing on business-related examples. You will learn about variables, data types, control structures, functions, and basic modules.\n",
        "\n",
        "### Variables and Data Types\n",
        "\n",
        "#### Variables\n",
        "\n",
        "In Python, variables are used to store data values. You do not need to declare a variable before using it."
      ]
    },
    {
      "cell_type": "code",
      "metadata": {},
      "source": [
        "# Example\n",
        "company_name = \"Tech Solutions Inc.\"\n",
        "number_of_employees = 250\n",
        "is_public = True"
      ],
      "execution_count": null,
      "outputs": []
    },
    {
      "cell_type": "markdown",
      "metadata": {},
      "source": [
        "#### Data Types\n",
        "\n",
        "1. **Strings**: A sequence of characters."
      ]
    },
    {
      "cell_type": "code",
      "metadata": {
        "md-indent": "    "
      },
      "source": [
        "greeting = \"Welcome to our company!\""
      ],
      "execution_count": null,
      "outputs": []
    },
    {
      "cell_type": "markdown",
      "metadata": {},
      "source": [
        "2. **Integers**: Whole numbers."
      ]
    },
    {
      "cell_type": "code",
      "metadata": {
        "md-indent": "    "
      },
      "source": [
        "total_sales = 150000"
      ],
      "execution_count": null,
      "outputs": []
    },
    {
      "cell_type": "markdown",
      "metadata": {},
      "source": [
        "3. **Floats**: Decimal numbers."
      ]
    },
    {
      "cell_type": "code",
      "metadata": {
        "md-indent": "    "
      },
      "source": [
        "quarterly_profit = 35000.75"
      ],
      "execution_count": null,
      "outputs": []
    },
    {
      "cell_type": "markdown",
      "metadata": {},
      "source": [
        "4. **Booleans**: True or False values."
      ]
    },
    {
      "cell_type": "code",
      "metadata": {
        "md-indent": "    "
      },
      "source": [
        "is_profit_increasing = False"
      ],
      "execution_count": null,
      "outputs": []
    },
    {
      "cell_type": "markdown",
      "metadata": {},
      "source": [
        "### Basic Operations\n",
        "\n",
        "Python supports various operations on data types.\n",
        "\n",
        "#### Arithmetic Operations"
      ]
    },
    {
      "cell_type": "code",
      "metadata": {},
      "source": [
        "revenue = 100000\n",
        "expenses = 75000\n",
        "\n",
        "net_income = revenue - expenses  # Subtraction\n",
        "print(net_income)  # Output: 25000\n",
        "\n",
        "profit_margin = (net_income / revenue) * 100  # Division\n",
        "print(profit_margin)  # Output: 25.0"
      ],
      "execution_count": null,
      "outputs": []
    },
    {
      "cell_type": "markdown",
      "metadata": {},
      "source": [
        "#### String Operations"
      ]
    },
    {
      "cell_type": "code",
      "metadata": {},
      "source": [
        "department1 = \"Finance\"\n",
        "department2 = \"Marketing\"\n",
        "\n",
        "# Concatenation\n",
        "combined_departments = department1 + \" and \" + department2\n",
        "print(combined_departments)  # Output: Finance and Marketing\n",
        "\n",
        "# Length\n",
        "department_length = len(department1)\n",
        "print(department_length)  # Output: 7"
      ],
      "execution_count": null,
      "outputs": []
    },
    {
      "cell_type": "markdown",
      "metadata": {},
      "source": [
        "### Control Structures\n",
        "\n",
        "#### Conditional Statements\n",
        "\n",
        "Conditional statements allow you to execute code based on conditions."
      ]
    },
    {
      "cell_type": "code",
      "metadata": {},
      "source": [
        "annual_revenue = 1200000\n",
        "\n",
        "if annual_revenue > 1000000:\n",
        "    print(\"The company qualifies for the large enterprise category.\")\n",
        "else:\n",
        "    print(\"The company qualifies for the small enterprise category.\")"
      ],
      "execution_count": null,
      "outputs": []
    },
    {
      "cell_type": "markdown",
      "metadata": {},
      "source": [
        "#### Loops\n",
        "\n",
        "Loops are used to iterate over a sequence of elements.\n",
        "\n",
        "##### For Loop"
      ]
    },
    {
      "cell_type": "code",
      "metadata": {},
      "source": [
        "departments = [\"Finance\", \"Marketing\", \"HR\", \"IT\"]\n",
        "\n",
        "for department in departments:\n",
        "    print(department)"
      ],
      "execution_count": null,
      "outputs": []
    },
    {
      "cell_type": "markdown",
      "metadata": {},
      "source": [
        "##### While Loop"
      ]
    },
    {
      "cell_type": "code",
      "metadata": {},
      "source": [
        "pending_tasks = 5\n",
        "\n",
        "while pending_tasks > 0:\n",
        "    print(f\"Tasks remaining: {pending_tasks}\")\n",
        "    pending_tasks -= 1"
      ],
      "execution_count": null,
      "outputs": []
    },
    {
      "cell_type": "markdown",
      "metadata": {},
      "source": [
        "### Functions\n",
        "\n",
        "Functions are blocks of code that perform a specific task and can be reused.\n",
        "\n",
        "#### Defining and Calling Functions"
      ]
    },
    {
      "cell_type": "code",
      "metadata": {},
      "source": [
        "def calculate_bonus(salary, performance_rating):\n",
        "    bonus_percentage = 0.1 if performance_rating >= 4 else 0.05\n",
        "    return salary * bonus_percentage\n",
        "\n",
        "print(calculate_bonus(50000, 4.5))  # Output: 5000.0"
      ],
      "execution_count": null,
      "outputs": []
    },
    {
      "cell_type": "markdown",
      "metadata": {},
      "source": [
        "#### Functions with Multiple Arguments"
      ]
    },
    {
      "cell_type": "code",
      "metadata": {},
      "source": [
        "def calculate_total_cost(unit_price, quantity):\n",
        "    return unit_price * quantity\n",
        "\n",
        "print(calculate_total_cost(50, 100))  # Output: 5000"
      ],
      "execution_count": null,
      "outputs": []
    },
    {
      "cell_type": "markdown",
      "metadata": {},
      "source": [
        "### Lists\n",
        "\n",
        "Lists are ordered collections of items.\n",
        "\n",
        "#### Creating and Accessing Lists"
      ]
    },
    {
      "cell_type": "code",
      "metadata": {},
      "source": [
        "clients = [\"Client A\", \"Client B\", \"Client C\"]\n",
        "\n",
        "print(clients[0])  # Accessing first element, Output: Client A\n",
        "print(clients[-1]) # Accessing last element, Output: Client C"
      ],
      "execution_count": null,
      "outputs": []
    },
    {
      "cell_type": "markdown",
      "metadata": {},
      "source": [
        "#### Adding and Removing Elements"
      ]
    },
    {
      "cell_type": "code",
      "metadata": {},
      "source": [
        "clients.append(\"Client D\")  # Adding an element\n",
        "clients.remove(\"Client B\")  # Removing an element\n",
        "print(clients)  # Output: ['Client A', 'Client C', 'Client D']"
      ],
      "execution_count": null,
      "outputs": []
    },
    {
      "cell_type": "markdown",
      "metadata": {},
      "source": [
        "### Dictionaries\n",
        "\n",
        "Dictionaries store data in key-value pairs.\n",
        "\n",
        "#### Creating and Accessing Dictionaries"
      ]
    },
    {
      "cell_type": "code",
      "metadata": {},
      "source": [
        "employee = {\n",
        "    \"name\": \"John Doe\",\n",
        "    \"age\": 30,\n",
        "    \"position\": \"Data Analyst\"\n",
        "}\n",
        "\n",
        "print(employee[\"name\"])  # Accessing value by key, Output: John Doe"
      ],
      "execution_count": null,
      "outputs": []
    },
    {
      "cell_type": "markdown",
      "metadata": {},
      "source": [
        "#### Adding and Removing Key-Value Pairs"
      ]
    },
    {
      "cell_type": "code",
      "metadata": {},
      "source": [
        "employee[\"salary\"] = 70000  # Adding a new key-value pair\n",
        "del employee[\"age\"]         # Removing a key-value pair\n",
        "print(employee)  # Output: {'name': 'John Doe', 'position': 'Data Analyst', 'salary': 70000}"
      ],
      "execution_count": null,
      "outputs": []
    },
    {
      "cell_type": "markdown",
      "metadata": {},
      "source": [
        "### Basic Modules and Importing\n",
        "\n",
        "Python has a rich standard library of modules you can import to extend functionality.\n",
        "\n",
        "#### Importing Modules"
      ]
    },
    {
      "cell_type": "code",
      "metadata": {},
      "source": [
        "import math\n",
        "\n",
        "# Calculating the ceiling value of monthly earnings\n",
        "monthly_earnings = 10234.56\n",
        "print(math.ceil(monthly_earnings))  # Output: 10235"
      ],
      "execution_count": null,
      "outputs": []
    },
    {
      "cell_type": "markdown",
      "metadata": {},
      "source": [
        "#### Importing Specific Functions"
      ]
    },
    {
      "cell_type": "code",
      "metadata": {},
      "source": [
        "from math import sqrt\n",
        "\n",
        "# Calculating the square root of the annual growth percentage\n",
        "annual_growth = 16\n",
        "print(sqrt(annual_growth))  # Output: 4.0"
      ],
      "execution_count": null,
      "outputs": []
    },
    {
      "cell_type": "markdown",
      "metadata": {},
      "source": [
        "### Conclusion\n",
        "\n",
        "This tutorial covered the basics of Python programming with a focus on business-related examples, including variables, data types, control structures, functions, lists, dictionaries, and basic module usage. With these fundamentals, you can start building simple Python programs to solve business problems and gradually move on to more complex projects.\n",
        "\n",
        "# Deep Dive Tutorial into Python Basics\n",
        "\n",
        "Python is a high-level, interpreted programming language known for its readability, simplicity, and versatility. It is widely used for web development, data analysis, artificial intelligence, scientific computing, and more. This tutorial provides a comprehensive introduction to the basics of Python, covering essential concepts and practical examples.\n",
        "\n",
        "## Table of Contents\n",
        "\n",
        "- [Deep Dive Tutorial into Python Basics](#deep-dive-tutorial-into-python-basics)\n",
        "  - [Table of Contents](#table-of-contents)\n",
        "  - [Introduction to Python](#introduction-to-python)\n",
        "  - [Installing Python](#installing-python)\n",
        "  - [Running Python Programs](#running-python-programs)\n",
        "  - [Python Syntax and Semantics](#python-syntax-and-semantics)\n",
        "    - [Indentation](#indentation)\n",
        "    - [Comments](#comments)\n",
        "  - [Variables and Data Types](#variables-and-data-types-1)\n",
        "    - [Numbers](#numbers)\n",
        "    - [Strings](#strings)\n",
        "    - [Booleans](#booleans)\n",
        "    - [None](#none)\n",
        "  - [Operators](#operators)\n",
        "    - [Arithmetic Operators](#arithmetic-operators)\n",
        "    - [Comparison Operators](#comparison-operators)\n",
        "    - [Logical Operators](#logical-operators)\n",
        "    - [Assignment Operators](#assignment-operators)\n",
        "    - [Membership Operators](#membership-operators)\n",
        "    - [Identity Operators](#identity-operators)\n",
        "  - [Control Flow](#control-flow)\n",
        "    - [Conditional Statements](#conditional-statements-1)\n",
        "    - [Loops](#loops-1)\n",
        "      - [`for` Loop](#for-loop-1)\n",
        "      - [`while` Loop](#while-loop-1)\n",
        "      - [Loop Control Statements](#loop-control-statements)\n",
        "  - [Functions](#functions-1)\n",
        "    - [Defining Functions](#defining-functions)\n",
        "    - [Function Arguments](#function-arguments)\n",
        "    - [Return Values](#return-values)\n",
        "  - [Data Structures](#data-structures)\n",
        "    - [Lists](#lists-1)\n",
        "    - [Tuples](#tuples)\n",
        "    - [Sets](#sets)\n",
        "    - [Dictionaries](#dictionaries-1)\n",
        "  - [Modules and Packages](#modules-and-packages)\n",
        "    - [Importing Modules](#importing-modules-1)\n",
        "    - [Creating Modules](#creating-modules)\n",
        "    - [Using Packages](#using-packages)\n",
        "  - [File Handling](#file-handling)\n",
        "    - [Reading Files](#reading-files)\n",
        "    - [Writing Files](#writing-files)\n",
        "  - [Exception Handling](#exception-handling)\n",
        "  - [Conclusion](#conclusion-1)\n",
        "\n",
        "## Introduction to Python\n",
        "\n",
        "Python was created by Guido van Rossum and first released in 1991. It emphasizes code readability and allows programmers to express concepts in fewer lines of code than languages like C++ or Java. Python supports multiple programming paradigms, including procedural, object-oriented, and functional programming.\n",
        "\n",
        "## Installing Python\n",
        "\n",
        "To install Python, download the installer from the [official Python website](https://www.python.org/downloads/) and follow the installation instructions for your operating system.\n",
        "\n",
        "## Running Python Programs\n",
        "\n",
        "Python programs can be run in various ways:\n",
        "- **Interactive Mode**: Open a terminal or command prompt, type `python` or `python3`, and press Enter.\n",
        "- **Script Mode**: Write your code in a file with a `.py` extension and run it using `python filename.py` or `python3 filename.py`.\n",
        "\n",
        "## Python Syntax and Semantics\n",
        "\n",
        "### Indentation\n",
        "\n",
        "Python uses indentation to define the structure of the code. Consistent indentation is crucial as it defines blocks of code."
      ]
    },
    {
      "cell_type": "code",
      "metadata": {},
      "source": [
        "if 5 > 2:\n",
        "    print(\"Five is greater than two!\")"
      ],
      "execution_count": null,
      "outputs": []
    },
    {
      "cell_type": "markdown",
      "metadata": {},
      "source": [
        "### Comments\n",
        "\n",
        "Comments are used to explain code and are ignored by the interpreter. Single-line comments start with `#`."
      ]
    },
    {
      "cell_type": "code",
      "metadata": {},
      "source": [
        "# This is a comment\n",
        "print(\"Hello, World!\")  # This is an inline comment"
      ],
      "execution_count": null,
      "outputs": []
    },
    {
      "cell_type": "markdown",
      "metadata": {},
      "source": [
        "## Variables and Data Types\n",
        "\n",
        "Variables are used to store data values. In Python, you don't need to declare variables before using them."
      ]
    },
    {
      "cell_type": "code",
      "metadata": {},
      "source": [
        "x = 5\n",
        "y = \"Hello\""
      ],
      "execution_count": null,
      "outputs": []
    },
    {
      "cell_type": "markdown",
      "metadata": {},
      "source": [
        "### Numbers\n",
        "\n",
        "Python supports integers, floating-point numbers, and complex numbers."
      ]
    },
    {
      "cell_type": "code",
      "metadata": {},
      "source": [
        "a = 10       # Integer\n",
        "b = 3.14     # Float\n",
        "c = 1 + 2j   # Complex"
      ],
      "execution_count": null,
      "outputs": []
    },
    {
      "cell_type": "markdown",
      "metadata": {},
      "source": [
        "### Strings\n",
        "\n",
        "Strings are sequences of characters enclosed in single, double, or triple quotes."
      ]
    },
    {
      "cell_type": "code",
      "metadata": {},
      "source": [
        "name = \"Alice\"\n",
        "greeting = 'Hello, World!'\n",
        "multiline = \"\"\"This is\n",
        "a multiline\n",
        "string.\"\"\""
      ],
      "execution_count": null,
      "outputs": []
    },
    {
      "cell_type": "markdown",
      "metadata": {},
      "source": [
        "### Booleans\n",
        "\n",
        "Booleans represent `True` or `False`."
      ]
    },
    {
      "cell_type": "code",
      "metadata": {},
      "source": [
        "is_true = True\n",
        "is_false = False"
      ],
      "execution_count": null,
      "outputs": []
    },
    {
      "cell_type": "markdown",
      "metadata": {},
      "source": [
        "### None\n",
        "\n",
        "`None` represents the absence of a value."
      ]
    },
    {
      "cell_type": "code",
      "metadata": {},
      "source": [
        "nothing = None"
      ],
      "execution_count": null,
      "outputs": []
    },
    {
      "cell_type": "markdown",
      "metadata": {},
      "source": [
        "## Operators\n",
        "\n",
        "### Arithmetic Operators"
      ]
    },
    {
      "cell_type": "code",
      "metadata": {},
      "source": [
        "x = 10\n",
        "y = 3\n",
        "print(x + y)  # Addition\n",
        "print(x - y)  # Subtraction\n",
        "print(x * y)  # Multiplication\n",
        "print(x / y)  # Division\n",
        "print(x % y)  # Modulus\n",
        "print(x ** y) # Exponentiation\n",
        "print(x // y) # Floor Division"
      ],
      "execution_count": null,
      "outputs": []
    },
    {
      "cell_type": "markdown",
      "metadata": {},
      "source": [
        "### Comparison Operators"
      ]
    },
    {
      "cell_type": "code",
      "metadata": {},
      "source": [
        "print(x == y)  # Equal\n",
        "print(x != y)  # Not equal\n",
        "print(x > y)   # Greater than\n",
        "print(x < y)   # Less than\n",
        "print(x >= y)  # Greater than or equal to\n",
        "print(x <= y)  # Less than or equal to"
      ],
      "execution_count": null,
      "outputs": []
    },
    {
      "cell_type": "markdown",
      "metadata": {},
      "source": [
        "### Logical Operators"
      ]
    },
    {
      "cell_type": "code",
      "metadata": {},
      "source": [
        "print(x > 5 and y < 5)  # Logical AND\n",
        "print(x > 5 or y > 5)   # Logical OR\n",
        "print(not(x > 5))       # Logical NOT"
      ],
      "execution_count": null,
      "outputs": []
    },
    {
      "cell_type": "markdown",
      "metadata": {},
      "source": [
        "### Assignment Operators"
      ]
    },
    {
      "cell_type": "code",
      "metadata": {},
      "source": [
        "x = 10\n",
        "x += 5  # x = x + 5\n",
        "x -= 3  # x = x - 3\n",
        "x *= 2  # x = x * 2\n",
        "x /= 2  # x = x / 2\n",
        "x %= 3  # x = x % 3\n",
        "x **= 2 # x = x ** 2\n",
        "x //= 2 # x = x // 2"
      ],
      "execution_count": null,
      "outputs": []
    },
    {
      "cell_type": "markdown",
      "metadata": {},
      "source": [
        "### Membership Operators"
      ]
    },
    {
      "cell_type": "code",
      "metadata": {},
      "source": [
        "lst = [1, 2, 3, 4, 5]\n",
        "print(3 in lst)  # True\n",
        "print(6 in lst)  # False\n",
        "print(6 not in lst)  # True"
      ],
      "execution_count": null,
      "outputs": []
    },
    {
      "cell_type": "markdown",
      "metadata": {},
      "source": [
        "### Identity Operators"
      ]
    },
    {
      "cell_type": "code",
      "metadata": {},
      "source": [
        "a = [1, 2, 3]\n",
        "b = [1, 2, 3]\n",
        "print(a is b)      # False (different objects)\n",
        "print(a is not b)  # True\n",
        "print(a == b)      # True (same content)"
      ],
      "execution_count": null,
      "outputs": []
    },
    {
      "cell_type": "markdown",
      "metadata": {},
      "source": [
        "## Control Flow\n",
        "\n",
        "### Conditional Statements"
      ]
    },
    {
      "cell_type": "code",
      "metadata": {},
      "source": [
        "x = 10\n",
        "\n",
        "if x > 0:\n",
        "    print(\"x is positive\")\n",
        "elif x == 0:\n",
        "    print(\"x is zero\")\n",
        "else:\n",
        "    print(\"x is negative\")"
      ],
      "execution_count": null,
      "outputs": []
    },
    {
      "cell_type": "markdown",
      "metadata": {},
      "source": [
        "### Loops\n",
        "\n",
        "#### `for` Loop"
      ]
    },
    {
      "cell_type": "code",
      "metadata": {},
      "source": [
        "fruits = [\"apple\", \"banana\", \"cherry\"]\n",
        "for fruit in fruits:\n",
        "    print(fruit)"
      ],
      "execution_count": null,
      "outputs": []
    },
    {
      "cell_type": "markdown",
      "metadata": {},
      "source": [
        "#### `while` Loop"
      ]
    },
    {
      "cell_type": "code",
      "metadata": {},
      "source": [
        "i = 1\n",
        "while i < 6:\n",
        "    print(i)\n",
        "    i += 1"
      ],
      "execution_count": null,
      "outputs": []
    },
    {
      "cell_type": "markdown",
      "metadata": {},
      "source": [
        "#### Loop Control Statements"
      ]
    },
    {
      "cell_type": "code",
      "metadata": {},
      "source": [
        "for i in range(10):\n",
        "    if i == 5:\n",
        "        break  # Exit the loop\n",
        "    if i % 2 == 0:\n",
        "        continue  # Skip the rest of the loop\n",
        "    print(i)"
      ],
      "execution_count": null,
      "outputs": []
    },
    {
      "cell_type": "markdown",
      "metadata": {},
      "source": [
        "## Functions\n",
        "\n",
        "### Defining Functions"
      ]
    },
    {
      "cell_type": "code",
      "metadata": {},
      "source": [
        "def greet(name):\n",
        "    print(f\"Hello, {name}!\")\n",
        "greet(\"Alice\")"
      ],
      "execution_count": null,
      "outputs": []
    },
    {
      "cell_type": "markdown",
      "metadata": {},
      "source": [
        "### Function Arguments"
      ]
    },
    {
      "cell_type": "code",
      "metadata": {},
      "source": [
        "def add(a, b):\n",
        "    return a + b\n",
        "\n",
        "print(add(3, 5))  # Positional arguments\n",
        "print(add(a=3, b=5))  # Keyword arguments\n",
        "\n",
        "def greet(name, message=\"Hello\"):\n",
        "    print(f\"{message}, {name}!\")\n",
        "greet(\"Alice\")\n",
        "greet(\"Bob\", \"Hi\")"
      ],
      "execution_count": null,
      "outputs": []
    },
    {
      "cell_type": "markdown",
      "metadata": {},
      "source": [
        "### Return Values"
      ]
    },
    {
      "cell_type": "code",
      "metadata": {},
      "source": [
        "def square(x):\n",
        "    return x * x\n",
        "\n",
        "result = square(4)\n",
        "print(result)"
      ],
      "execution_count": null,
      "outputs": []
    },
    {
      "cell_type": "markdown",
      "metadata": {},
      "source": [
        "## Data Structures\n",
        "\n",
        "### Lists"
      ]
    },
    {
      "cell_type": "code",
      "metadata": {},
      "source": [
        "fruits = [\"apple\", \"banana\", \"cherry\"]\n",
        "print(fruits[0])  # Accessing elements\n",
        "fruits[1] = \"blackberry\"  # Modifying elements\n",
        "print(fruits)\n",
        "fruits.append(\"orange\")  # Adding elements\n",
        "print(fruits)"
      ],
      "execution_count": null,
      "outputs": []
    },
    {
      "cell_type": "markdown",
      "metadata": {},
      "source": [
        "### Tuples"
      ]
    },
    {
      "cell_type": "code",
      "metadata": {},
      "source": [
        "coordinates = (10, 20)\n",
        "print(coordinates[0])\n",
        "# coordinates[0] = 30  # Error: Tuples are immutable"
      ],
      "execution_count": null,
      "outputs": []
    },
    {
      "cell_type": "markdown",
      "metadata": {},
      "source": [
        "### Sets"
      ]
    },
    {
      "cell_type": "code",
      "metadata": {},
      "source": [
        "unique_numbers = {1, 2, 3, 3, 4}\n",
        "print(unique_numbers)  # {1, 2, 3, 4}\n",
        "unique_numbers.add(5)\n",
        "print(unique_numbers)"
      ],
      "execution_count": null,
      "outputs": []
    },
    {
      "cell_type": "markdown",
      "metadata": {},
      "source": [
        "### Dictionaries"
      ]
    },
    {
      "cell_type": "code",
      "metadata": {},
      "source": [
        "person = {\"name\": \"Alice\", \"age\": 30}\n",
        "print(person[\"name\"])\n",
        "person[\"age\"] = 31\n",
        "print(person)\n",
        "person[\"city\"] = \"New York\"\n",
        "print(person)"
      ],
      "execution_count": null,
      "outputs": []
    },
    {
      "cell_type": "markdown",
      "metadata": {},
      "source": [
        "## Modules and Packages\n",
        "\n",
        "### Importing Modules"
      ]
    },
    {
      "cell_type": "code",
      "metadata": {},
      "source": [
        "import math\n",
        "print(math.sqrt(16))\n",
        "\n",
        "from math import sqrt\n",
        "print(sqrt(16))"
      ],
      "execution_count": null,
      "outputs": []
    },
    {
      "cell_type": "markdown",
      "metadata": {},
      "source": [
        "### Creating Modules\n",
        "\n",
        "Create a file named `mymodule.py`:"
      ]
    },
    {
      "cell_type": "code",
      "metadata": {},
      "source": [
        "# mymodule.py\n",
        "def greet(name):\n",
        "    print(f\"Hello, {name}!\")"
      ],
      "execution_count": null,
      "outputs": []
    },
    {
      "cell_type": "markdown",
      "metadata": {},
      "source": [
        "Then import and use it:"
      ]
    },
    {
      "cell_type": "code",
      "metadata": {},
      "source": [
        "import mymodule\n",
        "mymodule.greet(\"Alice\")"
      ],
      "execution_count": null,
      "outputs": []
    },
    {
      "cell_type": "markdown",
      "metadata": {},
      "source": [
        "### Using Packages\n",
        "\n",
        "Create a package directory structure:\n",
        "\n",
        "```\n",
        "mypackage/\n",
        "    __init__.py\n",
        "    module1.py\n",
        "    module2.py\n",
        "```\n",
        "\n",
        "In `module1.py`:\n",
        "\n",
        "```python\n",
        "def function1():\n",
        "    print(\"Function 1 from module 1\")\n",
        "```\n",
        "\n",
        "In `module2.py`:\n",
        "\n",
        "```python\n",
        "def function2():\n",
        "    print(\"Function 2 from module 2\")\n",
        "```\n",
        "\n",
        "In `__init__.py`:\n",
        "\n",
        "```python\n",
        "from .module1 import function1\n",
        "from .module2 import function2\n",
        "```\n",
        "\n",
        "Then use the package:"
      ]
    },
    {
      "cell_type": "code",
      "metadata": {},
      "source": [
        "import mypackage\n",
        "mypackage.function1()\n",
        "mypackage.function2()"
      ],
      "execution_count": null,
      "outputs": []
    },
    {
      "cell_type": "markdown",
      "metadata": {},
      "source": [
        "## File Handling\n",
        "\n",
        "### Reading Files"
      ]
    },
    {
      "cell_type": "code",
      "metadata": {},
      "source": [
        "with open('file.txt', 'r') as file:\n",
        "    content = file.read()\n",
        "    print(content)"
      ],
      "execution_count": null,
      "outputs": []
    },
    {
      "cell_type": "markdown",
      "metadata": {},
      "source": [
        "### Writing Files"
      ]
    },
    {
      "cell_type": "code",
      "metadata": {},
      "source": [
        "with open('file.txt', 'w') as file:\n",
        "    file.write(\"Hello, World!\")"
      ],
      "execution_count": null,
      "outputs": []
    },
    {
      "cell_type": "markdown",
      "metadata": {},
      "source": [
        "## Exception Handling"
      ]
    },
    {
      "cell_type": "code",
      "metadata": {},
      "source": [
        "try:\n",
        "    x = 1 / 0\n",
        "except ZeroDivisionError:\n",
        "    print(\"Cannot divide by zero\")\n",
        "finally:\n",
        "    print(\"This is always executed\")"
      ],
      "execution_count": null,
      "outputs": []
    },
    {
      "cell_type": "markdown",
      "metadata": {},
      "source": [
        "## Conclusion\n",
        "\n",
        "This deep dive tutorial covered the basics of Python, including syntax, data types, operators, control flow, functions, data structures, modules, file handling, and exception handling. By mastering these fundamentals, you'll be well-equipped to explore more advanced topics and develop robust Python applications. Python's simplicity and readability make it an excellent choice for beginners and experienced developers alike."
      ]
    }
  ],
  "metadata": {
    "kernelspec": {
      "name": "python3",
      "language": "python",
      "display_name": "Python 3 (ipykernel)",
      "path": "/Users/markumreed/Documents/BAIS_program_updates/python_for_BAIS/bais_env/share/jupyter/kernels/python3"
    }
  },
  "nbformat": 4,
  "nbformat_minor": 4
}