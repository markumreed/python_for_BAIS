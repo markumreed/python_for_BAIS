{
  "cells": [
    {
      "cell_type": "markdown",
      "metadata": {},
      "source": [
        "# Deep Dive Tutorial on the `diagrams` Python Module for Creating Architectural Diagrams Programmatically\n",
        "\n",
        "The `diagrams` module is a powerful tool for creating architectural diagrams programmatically. It is particularly useful for visualizing cloud infrastructure, business processes, and network systems. This tutorial will guide you through using the `diagrams` module with business-related examples.\n",
        "\n",
        "### Table of Contents\n",
        "\n",
        "1. Introduction to the `diagrams` Module\n",
        "2. Installation\n",
        "3. Basic Usage\n",
        "4. Creating Business Architecture Diagrams\n",
        "   - Cloud Infrastructure Diagram\n",
        "   - Business Process Flow Diagram\n",
        "   - Network Architecture Diagram\n",
        "5. Advanced Features\n",
        "   - Custom Nodes\n",
        "   - Clustering\n",
        "   - Styling\n",
        "6. Conclusion\n",
        "\n",
        "### 1. Introduction to the `diagrams` Module\n",
        "\n",
        "The `diagrams` module allows you to create architecture diagrams using Python code. It supports various cloud providers (AWS, Azure, GCP), on-premise platforms, and SaaS services.\n",
        "\n",
        "### 2. Installation\n",
        "\n",
        "To use the `diagrams` module, you need to install it along with Graphviz.\n",
        "\n",
        "```sh\n",
        "pip install diagrams\n",
        "brew install graphviz  # On macOS\n",
        "# For other platforms, please refer to Graphviz installation documentation.\n",
        "```\n",
        "\n",
        "### 3. Basic Usage\n",
        "\n",
        "Let's start with a simple example to understand the basic usage of the `diagrams` module."
      ]
    },
    {
      "cell_type": "code",
      "metadata": {},
      "source": [
        "from diagrams import Diagram\n",
        "from diagrams.aws.compute import EC2\n",
        "from diagrams.aws.network import ELB\n",
        "from diagrams.aws.database import RDS\n",
        "\n",
        "with Diagram(\"Basic AWS Architecture\", show=True):\n",
        "    ELB(\"Load Balancer\") >> EC2(\"Web Server\") >> RDS(\"Database\")"
      ],
      "execution_count": null,
      "outputs": []
    },
    {
      "cell_type": "markdown",
      "metadata": {},
      "source": [
        "This code creates a basic AWS architecture diagram with a Load Balancer, Web Server, and Database.\n",
        "\n",
        "### 4. Creating Business Architecture Diagrams\n",
        "\n",
        "#### Cloud Infrastructure Diagram\n",
        "\n",
        "Let's create a more detailed cloud infrastructure diagram for a business application."
      ]
    },
    {
      "cell_type": "code",
      "metadata": {},
      "source": [
        "from diagrams import Diagram, Cluster\n",
        "from diagrams.aws.compute import EC2, ECS\n",
        "from diagrams.aws.network import ELB, Route53\n",
        "from diagrams.aws.database import RDS\n",
        "from diagrams.aws.storage import S3\n",
        "\n",
        "with Diagram(\"Business Cloud Infrastructure\", show=True):\n",
        "    dns = Route53(\"DNS\")\n",
        "    lb = ELB(\"Load Balancer\")\n",
        "    \n",
        "    with Cluster(\"Web Tier\"):\n",
        "        web_servers = [EC2(\"Web1\"), EC2(\"Web2\"), EC2(\"Web3\")]\n",
        "    \n",
        "    with Cluster(\"Application Tier\"):\n",
        "        app_servers = ECS(\"App Cluster\")\n",
        "    \n",
        "    with Cluster(\"Database Tier\"):\n",
        "        db = RDS(\"Database\")\n",
        "    \n",
        "    storage = S3(\"Static Files\")\n",
        "    \n",
        "    dns >> lb >> web_servers >> app_servers >> db\n",
        "    app_servers >> storage"
      ],
      "execution_count": null,
      "outputs": []
    },
    {
      "cell_type": "markdown",
      "metadata": {},
      "source": [
        "#### Business Process Flow Diagram\n",
        "\n",
        "Creating a business process flow diagram to visualize a sales process."
      ]
    },
    {
      "cell_type": "code",
      "metadata": {},
      "source": [
        "from diagrams import Diagram, Cluster\n",
        "from diagrams.generic.blank import Blank\n",
        "\n",
        "with Diagram(\"Sales Process Flow\", show=True):\n",
        "    start = Blank(\"Start\")\n",
        "    lead_gen = Blank(\"Lead Generation\")\n",
        "    lead_qual = Blank(\"Lead Qualification\")\n",
        "    proposal = Blank(\"Proposal\")\n",
        "    negotiation = Blank(\"Negotiation\")\n",
        "    close = Blank(\"Close\")\n",
        "    follow_up = Blank(\"Follow-Up\")\n",
        "\n",
        "    start >> lead_gen >> lead_qual >> proposal >> negotiation >> close >> follow_up"
      ],
      "execution_count": null,
      "outputs": []
    },
    {
      "cell_type": "markdown",
      "metadata": {},
      "source": [
        "#### Network Architecture Diagram\n",
        "\n",
        "Creating a network architecture diagram for a corporate network."
      ]
    },
    {
      "cell_type": "code",
      "metadata": {},
      "source": [
        "from diagrams import Diagram, Cluster\n",
        "from diagrams.aws.network import InternetGateway\n",
        "from diagrams.aws.compute import EC2\n",
        "from diagrams.aws.database import RDS\n",
        "from diagrams.aws.network import VPC\n",
        "from diagrams.aws.general import Client\n",
        "from diagrams.aws.security import Shield\n",
        "\n",
        "with Diagram(\"Corporate Network Architecture\", show=True):\n",
        "    internet = InternetGateway(\"Internet\")\n",
        "    shield = Shield(\"Firewall\")\n",
        "\n",
        "    with Cluster(\"Corporate VPC\"):\n",
        "        vpc = VPC(\"Corporate Network\")\n",
        "        \n",
        "        with Cluster(\"Public Subnet\"):\n",
        "            web_server = EC2(\"Web Server\")\n",
        "        \n",
        "        with Cluster(\"Private Subnet\"):\n",
        "            app_server = EC2(\"Application Server\")\n",
        "            database = RDS(\"Database\")\n",
        "\n",
        "    clients = Client(\"Clients\")\n",
        "\n",
        "    internet >> shield >> vpc\n",
        "    vpc >> web_server >> app_server >> database\n",
        "    clients >> internet"
      ],
      "execution_count": null,
      "outputs": []
    },
    {
      "cell_type": "markdown",
      "metadata": {},
      "source": [
        "In this example:\n",
        "\n",
        "- `InternetGateway` represents the internet gateway.\n",
        "- `Shield` represents the firewall.\n",
        "- `VPC` represents the virtual private cloud.\n",
        "- `EC2` represents the web and application servers.\n",
        "- `RDS` represents the database server.\n",
        "- `Client` represents the clients accessing the network.\n",
        "\n",
        "The diagram shows the flow from clients accessing the internet, passing through a firewall, into the corporate VPC which contains both public and private subnets housing the web server, application server, and database. The show=True parameter in the Diagram function call will automatically open the generated diagram image. This setup provides a clear visualization of the corporate network architecture.\n",
        "\n",
        "### 5. Advanced Features\n",
        "\n",
        "#### Custom Nodes\n",
        "\n",
        "Creating custom nodes to represent specific components in your architecture can enhance the clarity and specificity of your diagrams. Below is an example of how to create a custom node in the `diagrams` library to represent a specific service or component in your architecture.\n",
        "\n",
        "### Custom Node Example\n",
        "\n",
        "In this example, we'll create a custom node to represent a specific service in our architecture.\n",
        "\n",
        "```python\n",
        "from diagrams import Diagram, Node\n",
        "\n",
        "class CustomNode(Node):\n",
        "    _provider = \"custom\"\n",
        "    _icon_dir = \"path/to/icons\"  # Replace with the actual path to your custom icons\n",
        "    \n",
        "    fontcolor = \"#ffffff\"\n",
        "    color = \"#2E86C1\"  # Background color for the custom node\n",
        "\n",
        "    def __init__(self, label, **kwargs):\n",
        "        super().__init__(label, **kwargs)\n",
        "\n",
        "# Ensure you have the path to your custom icon correctly set\n",
        "custom_icon_path = \"path/to/icons/custom_service.png\"  # Provide the correct path to your custom icon\n",
        "\n",
        "with Diagram(\"Custom Node Example\", show=True, filename=\"custom_node_example\"):\n",
        "    custom_node = CustomNode(\"Custom Service\", icon_path=custom_icon_path)\n",
        "```\n",
        "\n",
        "### Steps to Create Custom Nodes\n",
        "\n",
        "1. **Define Custom Node Class**: Create a subclass of `Node` and define the `_provider` and `_icon_dir` attributes. Set `fontcolor` and any other visual attributes as needed.\n",
        "   \n",
        "2. **Icon Path**: Specify the path to your custom icon in `_icon_dir`.\n",
        "\n",
        "3. **Instantiate Custom Node**: Create an instance of the custom node within a `Diagram` context.\n",
        "\n",
        "### Notes\n",
        "\n",
        "- **Icon Directory**: Ensure that the `path/to/icons` directory exists and contains the custom icons you want to use. Replace `\"path/to/icons\"` with the actual path to your icons.\n",
        "- **Icon Path**: Provide the correct path to your custom icon when instantiating the `CustomNode`.\n",
        "\n",
        "By following these steps, you can create and use custom nodes to represent specific components in your diagrams, making your architectural representations more intuitive and aligned with your specific needs.\n",
        "#### Clustering\n",
        "\n",
        "Clustering allows you to group related components together for better visualization."
      ]
    },
    {
      "cell_type": "code",
      "metadata": {},
      "source": [
        "from diagrams import Diagram, Cluster\n",
        "from diagrams.aws.compute import EC2\n",
        "from diagrams.aws.database import RDS\n",
        "\n",
        "with Diagram(\"Clustered Architecture\", show=True):\n",
        "    with Cluster(\"Cluster 1\"):\n",
        "        ec2_1 = EC2(\"Instance 1\")\n",
        "        ec2_2 = EC2(\"Instance 2\")\n",
        "    \n",
        "    with Cluster(\"Cluster 2\"):\n",
        "        rds_1 = RDS(\"Database 1\")\n",
        "        rds_2 = RDS(\"Database 2\")\n",
        "    \n",
        "    ec2_1 >> rds_1\n",
        "    ec2_2 >> rds_2"
      ],
      "execution_count": null,
      "outputs": []
    },
    {
      "cell_type": "markdown",
      "metadata": {},
      "source": [
        "#### Styling\n",
        "\n",
        "You can customize the appearance of nodes and edges to improve readability."
      ]
    },
    {
      "cell_type": "code",
      "metadata": {},
      "source": [
        "from diagrams import Diagram\n",
        "from diagrams.aws.compute import EC2\n",
        "from diagrams.aws.network import ELB\n",
        "\n",
        "graph_attr = {\n",
        "    \"fontsize\": \"20\",\n",
        "    \"bgcolor\": \"lightblue\"\n",
        "}\n",
        "\n",
        "node_attr = {\n",
        "    \"style\": \"filled\",\n",
        "    \"color\": \"lightgrey\",\n",
        "    \"fontsize\": \"15\",\n",
        "    \"fontcolor\": \"black\"\n",
        "}\n",
        "\n",
        "edge_attr = {\n",
        "    \"color\": \"blue\",\n",
        "    \"style\": \"dashed\"\n",
        "}\n",
        "\n",
        "with Diagram(\"Styled Diagram\", show=True, graph_attr=graph_attr, node_attr=node_attr, edge_attr=edge_attr):\n",
        "    lb = ELB(\"Load Balancer\")\n",
        "    ec2 = EC2(\"Web Server\")\n",
        "    \n",
        "    lb >> ec2"
      ],
      "execution_count": null,
      "outputs": []
    },
    {
      "cell_type": "markdown",
      "metadata": {},
      "source": [
        "### 6. Conclusion\n",
        "\n",
        "The `diagrams` module is a versatile and powerful tool for creating architectural diagrams programmatically. It simplifies the process of visualizing complex systems and infrastructures, making it easier to understand and communicate your designs. By using the `diagrams` module, you can create clear and detailed diagrams for cloud infrastructures, business processes, and network architectures.\n",
        "\n",
        "By mastering the `diagrams` module, you can enhance your ability to plan, document, and communicate your business architectures effectively.\n",
        "\n",
        "\n",
        "### Deep Dive Tutorial on Graphviz for Creating Diagrams\n",
        "\n",
        "Graphviz is a powerful tool for creating diagrams programmatically. It provides a way to represent structural information as diagrams of abstract graphs and networks. In this tutorial, we will create a fully functional example using Graphviz to create a network architecture diagram for a corporate network.\n",
        "\n",
        "### Prerequisites\n",
        "\n",
        "Ensure you have Graphviz installed. You can install it using the following command:\n",
        "\n",
        "```sh\n",
        "pip install graphviz\n",
        "```\n",
        "\n",
        "### Example: Creating a Network Architecture Diagram\n",
        "\n",
        "We will create a diagram that represents a basic corporate network structure with servers, workstations, and network devices.\n",
        "\n",
        "### Step 1: Import Graphviz"
      ]
    },
    {
      "cell_type": "code",
      "metadata": {},
      "source": [
        "from graphviz import Digraph"
      ],
      "execution_count": null,
      "outputs": []
    },
    {
      "cell_type": "markdown",
      "metadata": {},
      "source": [
        "### Step 2: Initialize the Graph"
      ]
    },
    {
      "cell_type": "code",
      "metadata": {},
      "source": [
        "dot = Digraph(comment='Network Architecture')"
      ],
      "execution_count": null,
      "outputs": []
    },
    {
      "cell_type": "markdown",
      "metadata": {},
      "source": [
        "### Step 3: Define Nodes"
      ]
    },
    {
      "cell_type": "code",
      "metadata": {},
      "source": [
        "# Define nodes with different shapes and labels\n",
        "dot.node('Internet', 'Internet', shape='cloud')\n",
        "dot.node('Router', 'Router', shape='box')\n",
        "dot.node('Firewall', 'Firewall', shape='box')\n",
        "dot.node('Switch', 'Switch', shape='box')\n",
        "dot.node('Server1', 'Web Server', shape='ellipse')\n",
        "dot.node('Server2', 'Database Server', shape='ellipse')\n",
        "dot.node('Workstation1', 'Workstation 1', shape='ellipse')\n",
        "dot.node('Workstation2', 'Workstation 2', shape='ellipse')\n",
        "dot.node('Workstation3', 'Workstation 3', shape='ellipse')"
      ],
      "execution_count": null,
      "outputs": []
    },
    {
      "cell_type": "markdown",
      "metadata": {},
      "source": [
        "### Step 4: Define Edges"
      ]
    },
    {
      "cell_type": "code",
      "metadata": {},
      "source": [
        "# Define edges between nodes to represent connections\n",
        "dot.edge('Internet', 'Router')\n",
        "dot.edge('Router', 'Firewall')\n",
        "dot.edge('Firewall', 'Switch')\n",
        "dot.edge('Switch', 'Server1')\n",
        "dot.edge('Switch', 'Server2')\n",
        "dot.edge('Switch', 'Workstation1')\n",
        "dot.edge('Switch', 'Workstation2')\n",
        "dot.edge('Switch', 'Workstation3')"
      ],
      "execution_count": null,
      "outputs": []
    },
    {
      "cell_type": "markdown",
      "metadata": {},
      "source": [
        "### Step 5: Render the Graph"
      ]
    },
    {
      "cell_type": "code",
      "metadata": {},
      "source": [
        "# Render the graph to a file\n",
        "dot.render('network_architecture.gv', view=True)"
      ],
      "execution_count": null,
      "outputs": []
    },
    {
      "cell_type": "markdown",
      "metadata": {},
      "source": [
        "### Full Example\n",
        "\n",
        "Below is the complete code for creating a network architecture diagram using Graphviz:"
      ]
    },
    {
      "cell_type": "code",
      "metadata": {},
      "source": [
        "from graphviz import Digraph\n",
        "\n",
        "# Initialize the Graph\n",
        "dot = Digraph(comment='Network Architecture')\n",
        "\n",
        "# Define nodes with different shapes and labels\n",
        "dot.node('Internet', 'Internet', shape='cloud')\n",
        "dot.node('Router', 'Router', shape='box')\n",
        "dot.node('Firewall', 'Firewall', shape='box')\n",
        "dot.node('Switch', 'Switch', shape='box')\n",
        "dot.node('Server1', 'Web Server', shape='ellipse')\n",
        "dot.node('Server2', 'Database Server', shape='ellipse')\n",
        "dot.node('Workstation1', 'Workstation 1', shape='ellipse')\n",
        "dot.node('Workstation2', 'Workstation 2', shape='ellipse')\n",
        "dot.node('Workstation3', 'Workstation 3', shape='ellipse')\n",
        "\n",
        "# Define edges between nodes to represent connections\n",
        "dot.edge('Internet', 'Router')\n",
        "dot.edge('Router', 'Firewall')\n",
        "dot.edge('Firewall', 'Switch')\n",
        "dot.edge('Switch', 'Server1')\n",
        "dot.edge('Switch', 'Server2')\n",
        "dot.edge('Switch', 'Workstation1')\n",
        "dot.edge('Switch', 'Workstation2')\n",
        "dot.edge('Switch', 'Workstation3')\n",
        "\n",
        "# Render the graph to a file\n",
        "dot.render('network_architecture.gv', view=True)"
      ],
      "execution_count": null,
      "outputs": []
    },
    {
      "cell_type": "markdown",
      "metadata": {},
      "source": [
        "### Explanation\n",
        "\n",
        "1. **Import Graphviz**: We import the `Digraph` class from the Graphviz module.\n",
        "2. **Initialize the Graph**: We create an instance of `Digraph` with a comment.\n",
        "3. **Define Nodes**: We define nodes using the `dot.node()` method, specifying different shapes and labels to represent different types of network components.\n",
        "4. **Define Edges**: We define edges using the `dot.edge()` method to represent connections between nodes.\n",
        "5. **Render the Graph**: We render the graph to a file using the `dot.render()` method, which generates a file with the diagram and optionally opens it for viewing.\n",
        "\n",
        "By following these steps, you can create a variety of diagrams using Graphviz, ranging from simple to complex structures, tailored to represent various business and technical processes."
      ]
    }
  ],
  "metadata": {
    "kernelspec": {
      "name": "python3",
      "language": "python",
      "display_name": "Python 3 (ipykernel)",
      "path": "/Users/markumreed/Documents/BAIS_program_updates/python_for_BAIS/bais_env/share/jupyter/kernels/python3"
    }
  },
  "nbformat": 4,
  "nbformat_minor": 4
}