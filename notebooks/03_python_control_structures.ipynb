{
  "cells": [
    {
      "cell_type": "markdown",
      "metadata": {},
      "source": [
        "## Python Control Structures for Business Applications\n",
        "\n",
        "Control structures in Python allow you to control the flow of your program based on conditions and loops. This tutorial will focus on using control structures in business-related scenarios, including if statements, for loops, and while loops.\n",
        "\n",
        "### Conditional Statements\n",
        "\n",
        "Conditional statements execute code based on whether a condition is true or false.\n",
        "\n",
        "#### If Statements\n",
        "\n",
        "If statements are used to execute a block of code only if a specified condition is true.\n",
        "\n",
        "##### Example: Discount Calculation\n",
        "\n",
        "Let's say you want to apply a discount to a product based on the purchase quantity."
      ]
    },
    {
      "cell_type": "code",
      "metadata": {},
      "source": [
        "quantity = 15\n",
        "unit_price = 100\n",
        "total_cost = quantity * unit_price\n",
        "\n",
        "if quantity > 10:\n",
        "    discount = 0.1  # 10% discount\n",
        "    total_cost *= (1 - discount)\n",
        "\n",
        "print(f\"Total cost after discount: ${total_cost:.2f}\")"
      ],
      "execution_count": null,
      "outputs": []
    },
    {
      "cell_type": "markdown",
      "metadata": {},
      "source": [
        "#### If-Else Statements\n",
        "\n",
        "If-else statements provide an alternative block of code to execute if the condition is false.\n",
        "\n",
        "##### Example: Determine Employee Bonus Eligibility"
      ]
    },
    {
      "cell_type": "code",
      "metadata": {},
      "source": [
        "employee_performance = \"Excellent\"\n",
        "bonus = 0\n",
        "\n",
        "if employee_performance == \"Excellent\":\n",
        "    bonus = 1000\n",
        "else:\n",
        "    bonus = 500\n",
        "\n",
        "print(f\"Employee bonus: ${bonus}\")"
      ],
      "execution_count": null,
      "outputs": []
    },
    {
      "cell_type": "markdown",
      "metadata": {},
      "source": [
        "#### Elif Statements\n",
        "\n",
        "Elif statements are used to check multiple conditions.\n",
        "\n",
        "##### Example: Categorize Sales Performance"
      ]
    },
    {
      "cell_type": "code",
      "metadata": {},
      "source": [
        "monthly_sales = 75000\n",
        "\n",
        "if monthly_sales >= 100000:\n",
        "    performance_category = \"Outstanding\"\n",
        "elif monthly_sales >= 75000:\n",
        "    performance_category = \"Good\"\n",
        "elif monthly_sales >= 50000:\n",
        "    performance_category = \"Average\"\n",
        "else:\n",
        "    performance_category = \"Needs Improvement\"\n",
        "\n",
        "print(f\"Sales performance: {performance_category}\")"
      ],
      "execution_count": null,
      "outputs": []
    },
    {
      "cell_type": "markdown",
      "metadata": {},
      "source": [
        "### Loops\n",
        "\n",
        "Loops allow you to repeat a block of code multiple times.\n",
        "\n",
        "#### For Loops\n",
        "\n",
        "For loops are used to iterate over a sequence (such as a list, tuple, or range).\n",
        "\n",
        "##### Example: Calculate Total Revenue from Sales Data"
      ]
    },
    {
      "cell_type": "code",
      "metadata": {},
      "source": [
        "sales_data = [1000, 2000, 1500, 3000, 2500]\n",
        "total_revenue = 0\n",
        "\n",
        "for sale in sales_data:\n",
        "    total_revenue += sale\n",
        "\n",
        "print(f\"Total revenue: ${total_revenue}\")"
      ],
      "execution_count": null,
      "outputs": []
    },
    {
      "cell_type": "markdown",
      "metadata": {},
      "source": [
        "##### Example: Generate Quarterly Sales Report"
      ]
    },
    {
      "cell_type": "code",
      "metadata": {},
      "source": [
        "quarterly_sales = {\n",
        "    \"Q1\": 20000,\n",
        "    \"Q2\": 25000,\n",
        "    \"Q3\": 30000,\n",
        "    \"Q4\": 35000\n",
        "}\n",
        "\n",
        "for quarter, sales in quarterly_sales.items():\n",
        "    print(f\"{quarter} sales: ${sales}\")"
      ],
      "execution_count": null,
      "outputs": []
    },
    {
      "cell_type": "markdown",
      "metadata": {},
      "source": [
        "#### While Loops\n",
        "\n",
        "While loops are used to execute a block of code as long as a specified condition is true.\n",
        "\n",
        "##### Example: Track Inventory Levels"
      ]
    },
    {
      "cell_type": "code",
      "metadata": {},
      "source": [
        "inventory = 100\n",
        "\n",
        "while inventory > 0:\n",
        "    print(f\"Inventory level: {inventory}\")\n",
        "    inventory -= 10  # Selling 10 units\n",
        "\n",
        "print(\"Inventory depleted\")"
      ],
      "execution_count": null,
      "outputs": []
    },
    {
      "cell_type": "markdown",
      "metadata": {},
      "source": [
        "##### Example: Customer Payment Processing\n",
        "\n",
        "```python\n",
        "balance_due = 500\n",
        "\n",
        "while balance_due > 0:\n",
        "    payment = float(input(\"Enter payment amount: $\"))\n",
        "    balance_due -= payment\n",
        "    print(f\"Remaining balance: ${balance_due:.2f}\")\n",
        "\n",
        "print(\"Payment complete\")\n",
        "```\n",
        "\n",
        "### Nested Control Structures\n",
        "\n",
        "You can nest control structures within each other to handle more complex logic.\n",
        "\n",
        "##### Example: Approve Loan Application"
      ]
    },
    {
      "cell_type": "code",
      "metadata": {},
      "source": [
        "credit_score = 720\n",
        "annual_income = 50000\n",
        "loan_amount = 20000\n",
        "\n",
        "if credit_score >= 700:\n",
        "    if annual_income >= 40000:\n",
        "        if loan_amount <= 25000:\n",
        "            loan_approved = True\n",
        "        else:\n",
        "            loan_approved = False\n",
        "    else:\n",
        "        loan_approved = False\n",
        "else:\n",
        "    loan_approved = False\n",
        "\n",
        "if loan_approved:\n",
        "    print(\"Loan application approved\")\n",
        "else:\n",
        "    print(\"Loan application denied\")"
      ],
      "execution_count": null,
      "outputs": []
    },
    {
      "cell_type": "markdown",
      "metadata": {},
      "source": [
        "### Conclusion\n",
        "\n",
        "Control structures are essential for managing the flow of your programs based on conditions and repetitions. By using if statements, for loops, and while loops, you can create efficient and effective business applications. These examples demonstrate how to apply these concepts to common business scenarios, helping you to develop practical and functional Python programs.\n",
        "\n",
        "# Deep Dive Tutorial into Python Control Structures with Business Analytics and Information Systems Examples\n",
        "\n",
        "Control structures in Python allow you to control the flow of execution based on certain conditions or repetitive tasks. These structures include conditional statements, loops, and control flow tools like break, continue, and pass statements. Understanding these structures is crucial for writing efficient and effective Python programs. This tutorial provides a comprehensive overview of Python control structures with practical examples in business analytics and information systems (BAIS).\n",
        "\n",
        "## Table of Contents\n",
        "\n",
        "- [Deep Dive Tutorial into Python Control Structures with Business Analytics and Information Systems Examples](#deep-dive-tutorial-into-python-control-structures-with-business-analytics-and-information-systems-examples)\n",
        "  - [Table of Contents](#table-of-contents)\n",
        "  - [Conditional Statements](#conditional-statements-1)\n",
        "    - [if Statement](#if-statement)\n",
        "    - [else Statement](#else-statement)\n",
        "    - [elif Statement](#elif-statement)\n",
        "    - [Nested If Statements](#nested-if-statements)\n",
        "  - [Loops](#loops-1)\n",
        "    - [for Loop](#for-loop)\n",
        "    - [while Loop](#while-loop)\n",
        "    - [Nested Loops](#nested-loops)\n",
        "  - [Control Flow Tools](#control-flow-tools)\n",
        "    - [break Statement](#break-statement)\n",
        "    - [continue Statement](#continue-statement)\n",
        "    - [pass Statement](#pass-statement)\n",
        "    - [else Clause in Loops](#else-clause-in-loops)\n",
        "  - [List Comprehensions](#list-comprehensions)\n",
        "  - [Exception Handling](#exception-handling)\n",
        "  - [Conclusion](#conclusion-1)\n",
        "\n",
        "## Conditional Statements\n",
        "\n",
        "Conditional statements allow you to execute certain blocks of code based on specific conditions. Python provides `if`, `elif`, and `else` statements to handle conditional execution.\n",
        "\n",
        "### if Statement\n",
        "\n",
        "The `if` statement is used to test a condition. If the condition evaluates to `True`, the block of code inside the `if` statement is executed.\n",
        "\n",
        "**Example: Analyzing Sales Data**"
      ]
    },
    {
      "cell_type": "code",
      "metadata": {},
      "source": [
        "# Example: Check if sales exceed a target\n",
        "sales = 12000\n",
        "target = 10000\n",
        "if sales > target:\n",
        "    print(\"Sales target exceeded\")"
      ],
      "execution_count": null,
      "outputs": []
    },
    {
      "cell_type": "markdown",
      "metadata": {},
      "source": [
        "### else Statement\n",
        "\n",
        "The `else` statement follows an `if` statement and is executed if the `if` condition evaluates to `False`.\n",
        "\n",
        "**Example: Analyzing Sales Data**"
      ]
    },
    {
      "cell_type": "code",
      "metadata": {},
      "source": [
        "# Example: Check if sales exceed a target\n",
        "sales = 8000\n",
        "target = 10000\n",
        "if sales > target:\n",
        "    print(\"Sales target exceeded\")\n",
        "else:\n",
        "    print(\"Sales target not met\")"
      ],
      "execution_count": null,
      "outputs": []
    },
    {
      "cell_type": "markdown",
      "metadata": {},
      "source": [
        "### elif Statement\n",
        "\n",
        "The `elif` statement stands for \"else if\" and allows you to check multiple conditions. If the `if` condition is `False`, the `elif` condition is checked. If it is `True`, the corresponding block of code is executed.\n",
        "\n",
        "**Example: Categorizing Sales Performance**"
      ]
    },
    {
      "cell_type": "code",
      "metadata": {},
      "source": [
        "# Example: Categorizing sales performance\n",
        "sales = 10000\n",
        "target = 10000\n",
        "if sales > target:\n",
        "    print(\"Sales target exceeded\")\n",
        "elif sales == target:\n",
        "    print(\"Sales target met exactly\")\n",
        "else:\n",
        "    print(\"Sales target not met\")"
      ],
      "execution_count": null,
      "outputs": []
    },
    {
      "cell_type": "markdown",
      "metadata": {},
      "source": [
        "### Nested If Statements\n",
        "\n",
        "You can nest `if`, `elif`, and `else` statements to create complex conditional logic.\n",
        "\n",
        "**Example: Advanced Sales Analysis**"
      ]
    },
    {
      "cell_type": "code",
      "metadata": {},
      "source": [
        "# Example: Advanced sales analysis\n",
        "sales = 15000\n",
        "target = 10000\n",
        "region = \"North\"\n",
        "\n",
        "if sales > target:\n",
        "    print(\"Sales target exceeded\")\n",
        "    if region == \"North\":\n",
        "        print(\"Great performance in the North region!\")\n",
        "    else:\n",
        "        print(\"Consider boosting sales in other regions.\")\n",
        "else:\n",
        "    print(\"Sales target not met\")"
      ],
      "execution_count": null,
      "outputs": []
    },
    {
      "cell_type": "markdown",
      "metadata": {},
      "source": [
        "## Loops\n",
        "\n",
        "Loops are used to execute a block of code repeatedly. Python provides `for` and `while` loops to handle iterative execution.\n",
        "\n",
        "### for Loop\n",
        "\n",
        "The `for` loop is used to iterate over a sequence (e.g., list, tuple, dictionary, set, or string).\n",
        "\n",
        "**Example: Analyzing Multiple Sales Records**"
      ]
    },
    {
      "cell_type": "code",
      "metadata": {},
      "source": [
        "# Example: Analyzing multiple sales records\n",
        "sales_records = [12000, 8000, 15000, 9000, 13000]\n",
        "for sales in sales_records:\n",
        "    if sales > 10000:\n",
        "        print(f\"Sales target exceeded with {sales} in sales\")\n",
        "    else:\n",
        "        print(f\"Sales target not met with {sales} in sales\")"
      ],
      "execution_count": null,
      "outputs": []
    },
    {
      "cell_type": "markdown",
      "metadata": {},
      "source": [
        "The `range()` function is often used with the `for` loop to generate a sequence of numbers.\n",
        "\n",
        "**Example: Monthly Sales Analysis**"
      ]
    },
    {
      "cell_type": "code",
      "metadata": {},
      "source": [
        "# Example: Monthly sales analysis\n",
        "for month in range(1, 13):\n",
        "    print(f\"Analyzing sales data for month {month}\")"
      ],
      "execution_count": null,
      "outputs": []
    },
    {
      "cell_type": "markdown",
      "metadata": {},
      "source": [
        "### while Loop\n",
        "\n",
        "The `while` loop is used to execute a block of code as long as the condition is `True`.\n",
        "\n",
        "**Example: Simulating Sales Until Target Met**"
      ]
    },
    {
      "cell_type": "code",
      "metadata": {},
      "source": [
        "# Example: Simulating sales until target met\n",
        "sales = 0\n",
        "target = 50000\n",
        "increment = 10000\n",
        "while sales < target:\n",
        "    sales += increment\n",
        "    print(f\"Current sales: {sales}\")"
      ],
      "execution_count": null,
      "outputs": []
    },
    {
      "cell_type": "markdown",
      "metadata": {},
      "source": [
        "### Nested Loops\n",
        "\n",
        "You can nest loops to perform more complex iterative tasks.\n",
        "\n",
        "**Example: Comparing Sales Across Regions and Months**"
      ]
    },
    {
      "cell_type": "code",
      "metadata": {},
      "source": [
        "# Example: Comparing sales across regions and months\n",
        "regions = [\"North\", \"South\", \"East\", \"West\"]\n",
        "months = [\"January\", \"February\", \"March\"]\n",
        "\n",
        "for region in regions:\n",
        "    for month in months:\n",
        "        print(f\"Analyzing sales data for {region} region in {month}\")"
      ],
      "execution_count": null,
      "outputs": []
    },
    {
      "cell_type": "markdown",
      "metadata": {},
      "source": [
        "## Control Flow Tools\n",
        "\n",
        "Control flow tools like `break`, `continue`, and `pass` provide additional control over the execution of loops and conditional statements.\n",
        "\n",
        "### break Statement\n",
        "\n",
        "The `break` statement is used to exit a loop prematurely.\n",
        "\n",
        "**Example: Stop Analysis When Target Achieved**"
      ]
    },
    {
      "cell_type": "code",
      "metadata": {},
      "source": [
        "# Example: Stop analysis when target achieved\n",
        "sales_records = [8000, 9000, 15000, 7000, 12000]\n",
        "for sales in sales_records:\n",
        "    if sales > 10000:\n",
        "        print(f\"Sales target exceeded with {sales} in sales\")\n",
        "        break\n",
        "    print(f\"Sales target not met with {sales} in sales\")"
      ],
      "execution_count": null,
      "outputs": []
    },
    {
      "cell_type": "markdown",
      "metadata": {},
      "source": [
        "### continue Statement\n",
        "\n",
        "The `continue` statement is used to skip the rest of the code inside the loop for the current iteration and move to the next iteration.\n",
        "\n",
        "**Example: Skip Underperforming Sales Data**"
      ]
    },
    {
      "cell_type": "code",
      "metadata": {},
      "source": [
        "# Example: Skip underperforming sales data\n",
        "sales_records = [8000, 9000, 15000, 7000, 12000]\n",
        "for sales in sales_records:\n",
        "    if sales < 10000:\n",
        "        continue\n",
        "    print(f\"Sales target exceeded with {sales} in sales\")"
      ],
      "execution_count": null,
      "outputs": []
    },
    {
      "cell_type": "markdown",
      "metadata": {},
      "source": [
        "### pass Statement\n",
        "\n",
        "The `pass` statement is a null operation; nothing happens when it executes. It can be used as a placeholder.\n",
        "\n",
        "**Example: Placeholder for Future Code**"
      ]
    },
    {
      "cell_type": "code",
      "metadata": {},
      "source": [
        "# Example: Placeholder for future code\n",
        "for sales in sales_records:\n",
        "    if sales < 10000:\n",
        "        pass  # TODO: Handle underperforming sales data later\n",
        "    else:\n",
        "        print(f\"Sales target exceeded with {sales} in sales\")"
      ],
      "execution_count": null,
      "outputs": []
    },
    {
      "cell_type": "markdown",
      "metadata": {},
      "source": [
        "### else Clause in Loops\n",
        "\n",
        "The `else` clause can be used with loops. It is executed when the loop terminates naturally (i.e., not terminated by a `break` statement).\n",
        "\n",
        "**Example: Verify All Sales Records Analyzed**"
      ]
    },
    {
      "cell_type": "code",
      "metadata": {},
      "source": [
        "# Example: Verify all sales records analyzed\n",
        "sales_records = [8000, 9000, 15000, 7000, 12000]\n",
        "for sales in sales_records:\n",
        "    if sales > 10000:\n",
        "        print(f\"Sales target exceeded with {sales} in sales\")\n",
        "else:\n",
        "    print(\"All sales records analyzed\")"
      ],
      "execution_count": null,
      "outputs": []
    },
    {
      "cell_type": "markdown",
      "metadata": {},
      "source": [
        "## List Comprehensions\n",
        "\n",
        "List comprehensions provide a concise way to create lists. They consist of brackets containing an expression followed by a `for` clause and can have optional `if` clauses.\n",
        "\n",
        "**Example: Filter Sales Data**"
      ]
    },
    {
      "cell_type": "code",
      "metadata": {},
      "source": [
        "# Example: Filter sales data\n",
        "sales_records = [8000, 9000, 15000, 7000, 12000]\n",
        "high_sales = [sales for sales in sales_records if sales > 10000]\n",
        "print(high_sales)"
      ],
      "execution_count": null,
      "outputs": []
    },
    {
      "cell_type": "markdown",
      "metadata": {},
      "source": [
        "## Exception Handling\n",
        "\n",
        "Exception handling allows you to handle runtime errors gracefully. The `try` block lets you test a block of code for errors, the `except` block lets you handle the error, and the `finally` block lets you execute code regardless of the result.\n",
        "\n",
        "**Example: Handle Division by Zero in Financial Calculations**"
      ]
    },
    {
      "cell_type": "code",
      "metadata": {},
      "source": [
        "# Example: Handle division by zero in financial calculations\n",
        "try:\n",
        "    revenue = 100000\n",
        "    expenses = 0\n",
        "    profit_margin = revenue / expenses\n",
        "except ZeroDivisionError:\n",
        "    print(\"Expenses cannot be zero when calculating profit margin\")\n",
        "finally:\n",
        "    print(\"Financial calculation completed\")"
      ],
      "execution_count": null,
      "outputs": []
    },
    {
      "cell_type": "markdown",
      "metadata": {},
      "source": [
        "## Conclusion\n",
        "\n",
        "This deep dive tutorial covered the fundamentals of Python control structures, including conditional statements, loops, control flow tools, list comprehensions, and exception handling, with examples tailored to business analytics and information systems (BAIS). By mastering these concepts, you can write more efficient and readable Python code, handle complex logic, and manage errors effectively. Understanding and utilizing control structures is essential for any Python programmer, as they form the backbone of decision-making and iterative processes in your programs."
      ]
    }
  ],
  "metadata": {
    "kernelspec": {
      "name": "python3",
      "language": "python",
      "display_name": "Python 3 (ipykernel)",
      "path": "/Users/markumreed/Documents/BAIS_program_updates/python_for_BAIS/bais_env/share/jupyter/kernels/python3"
    }
  },
  "nbformat": 4,
  "nbformat_minor": 4
}