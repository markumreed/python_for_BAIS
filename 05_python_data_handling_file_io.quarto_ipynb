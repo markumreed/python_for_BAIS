{
  "cells": [
    {
      "cell_type": "markdown",
      "metadata": {},
      "source": [
        "## Introduction to Data Handling and File I/O in Python\n",
        "\n",
        "Handling data and performing file input/output (I/O) operations are fundamental tasks in any programming language. Python provides robust tools and libraries to manage data storage, read and write files, and manipulate different file formats. This tutorial will cover reading and writing files in Python, managing data storage, and performing operations on files using libraries such as `pandas`, `csv`, and `json`.\n",
        "\n",
        "### Reading and Writing Text Files\n",
        "\n",
        "Text files are the most basic form of file handling in Python. You can use built-in functions to read from and write to text files.\n",
        "\n",
        "#### Reading Text Files\n",
        "\n",
        "To read a text file, you use the `open` function in read mode (`'r'`).\n"
      ],
      "id": "3909e602"
    },
    {
      "cell_type": "code",
      "metadata": {},
      "source": [
        "# Read a text file\n",
        "with open('sample.txt', 'r') as file:\n",
        "    content = file.read()\n",
        "    print(content)"
      ],
      "id": "116d3bad",
      "execution_count": null,
      "outputs": []
    },
    {
      "cell_type": "markdown",
      "metadata": {},
      "source": [
        "#### Writing Text Files\n",
        "\n",
        "To write to a text file, you use the `open` function in write mode (`'w'`).\n"
      ],
      "id": "7f3f1322"
    },
    {
      "cell_type": "code",
      "metadata": {},
      "source": [
        "# Write to a text file\n",
        "with open('sample.txt', 'w') as file:\n",
        "    file.write('Hello, World!')"
      ],
      "id": "9cf93ee7",
      "execution_count": null,
      "outputs": []
    },
    {
      "cell_type": "markdown",
      "metadata": {},
      "source": [
        "### Handling CSV Files\n",
        "\n",
        "CSV (Comma-Separated Values) files are commonly used to store tabular data. Python provides the `csv` module to handle CSV files.\n",
        "\n",
        "#### Reading CSV Files\n",
        "\n",
        "You can read a CSV file using the `csv.reader` function.\n"
      ],
      "id": "56ab0928"
    },
    {
      "cell_type": "code",
      "metadata": {},
      "source": [
        "import csv\n",
        "\n",
        "# Read a CSV file\n",
        "with open('data.csv', 'r') as file:\n",
        "    reader = csv.reader(file)\n",
        "    for row in reader:\n",
        "        print(row)"
      ],
      "id": "c85d4b26",
      "execution_count": null,
      "outputs": []
    },
    {
      "cell_type": "markdown",
      "metadata": {},
      "source": [
        "#### Writing CSV Files\n",
        "\n",
        "You can write to a CSV file using the `csv.writer` function.\n"
      ],
      "id": "b9d07a6b"
    },
    {
      "cell_type": "code",
      "metadata": {},
      "source": [
        "import csv\n",
        "\n",
        "# Write to a CSV file\n",
        "with open('data.csv', 'w', newline='') as file:\n",
        "    writer = csv.writer(file)\n",
        "    writer.writerow(['Name', 'Age', 'Department'])\n",
        "    writer.writerow(['John Doe', 30, 'Finance'])\n",
        "    writer.writerow(['Jane Smith', 25, 'Marketing'])"
      ],
      "id": "16b461cf",
      "execution_count": null,
      "outputs": []
    },
    {
      "cell_type": "markdown",
      "metadata": {},
      "source": [
        "### Handling JSON Files\n",
        "\n",
        "JSON (JavaScript Object Notation) is a lightweight data-interchange format. Python provides the `json` module to handle JSON files.\n",
        "\n",
        "#### Reading JSON Files\n",
        "\n",
        "You can read a JSON file using the `json.load` function.\n"
      ],
      "id": "dd81328b"
    },
    {
      "cell_type": "code",
      "metadata": {},
      "source": [
        "import json\n",
        "\n",
        "# Read a JSON file\n",
        "with open('data.json', 'r') as file:\n",
        "    data = json.load(file)\n",
        "    print(data)"
      ],
      "id": "aba86ed1",
      "execution_count": null,
      "outputs": []
    },
    {
      "cell_type": "markdown",
      "metadata": {},
      "source": [
        "#### Writing JSON Files\n",
        "\n",
        "You can write to a JSON file using the `json.dump` function.\n"
      ],
      "id": "29b68c50"
    },
    {
      "cell_type": "code",
      "metadata": {},
      "source": [
        "import json\n",
        "\n",
        "# Write to a JSON file\n",
        "data = {\n",
        "    'name': 'John Doe',\n",
        "    'age': 30,\n",
        "    'department': 'Finance'\n",
        "}\n",
        "\n",
        "with open('data.json', 'w') as file:\n",
        "    json.dump(data, file, indent=4)"
      ],
      "id": "6454907a",
      "execution_count": null,
      "outputs": []
    },
    {
      "cell_type": "markdown",
      "metadata": {},
      "source": [
        "### Data Manipulation with Pandas\n",
        "\n",
        "Pandas is a powerful data manipulation library in Python. It provides data structures and functions needed to manipulate structured data seamlessly.\n",
        "\n",
        "#### Reading CSV Files with Pandas\n",
        "\n",
        "You can read a CSV file into a DataFrame using `pandas.read_csv`.\n"
      ],
      "id": "04082b22"
    },
    {
      "cell_type": "code",
      "metadata": {},
      "source": [
        "import pandas as pd\n",
        "\n",
        "# Read a CSV file into a DataFrame\n",
        "df = pd.read_csv('data.csv')\n",
        "print(df)"
      ],
      "id": "a2d8df3a",
      "execution_count": null,
      "outputs": []
    },
    {
      "cell_type": "markdown",
      "metadata": {},
      "source": [
        "#### Writing CSV Files with Pandas\n",
        "\n",
        "You can write a DataFrame to a CSV file using `DataFrame.to_csv`.\n"
      ],
      "id": "d849fc8c"
    },
    {
      "cell_type": "code",
      "metadata": {},
      "source": [
        "# Write a DataFrame to a CSV file\n",
        "df.to_csv('data_output.csv', index=False)"
      ],
      "id": "527af07f",
      "execution_count": null,
      "outputs": []
    },
    {
      "cell_type": "markdown",
      "metadata": {},
      "source": [
        "#### Reading JSON Files with Pandas\n",
        "\n",
        "You can read a JSON file into a DataFrame using `pandas.read_json`.\n"
      ],
      "id": "ca108774"
    },
    {
      "cell_type": "code",
      "metadata": {},
      "source": [
        "# Read a JSON file into a DataFrame\n",
        "df = pd.read_json('data.json')\n",
        "print(df)"
      ],
      "id": "b748b3a1",
      "execution_count": null,
      "outputs": []
    },
    {
      "cell_type": "markdown",
      "metadata": {},
      "source": [
        "#### Writing JSON Files with Pandas\n",
        "\n",
        "You can write a DataFrame to a JSON file using `DataFrame.to_json`.\n"
      ],
      "id": "1de1a1d6"
    },
    {
      "cell_type": "code",
      "metadata": {},
      "source": [
        "# Write a DataFrame to a JSON file\n",
        "df.to_json('data_output.json', orient='records', indent=4)"
      ],
      "id": "959115ad",
      "execution_count": null,
      "outputs": []
    },
    {
      "cell_type": "markdown",
      "metadata": {},
      "source": [
        "### Example: Processing Sales Data\n",
        "\n",
        "Let's combine these concepts to read sales data from a CSV file, manipulate it using Pandas, and then save the results to a JSON file.\n",
        "\n",
        "1. **Read Sales Data from a CSV File**\n"
      ],
      "id": "1c263da9"
    },
    {
      "cell_type": "code",
      "metadata": {},
      "source": [
        "import pandas as pd\n",
        "\n",
        "# Read sales data from a CSV file\n",
        "sales_df = pd.read_csv('sales_data.csv')\n",
        "print(sales_df)"
      ],
      "id": "0a9d404c",
      "execution_count": null,
      "outputs": []
    },
    {
      "cell_type": "markdown",
      "metadata": {},
      "source": [
        "2. **Manipulate Data**\n",
        "\n",
        "Calculate the total sales for each product.\n"
      ],
      "id": "54a100d5"
    },
    {
      "cell_type": "code",
      "metadata": {},
      "source": [
        "# Calculate total sales for each product\n",
        "sales_df['Total Sales'] = sales_df['Quantity'] * sales_df['Unit Price']\n",
        "print(sales_df)"
      ],
      "id": "510fb65b",
      "execution_count": null,
      "outputs": []
    },
    {
      "cell_type": "markdown",
      "metadata": {},
      "source": [
        "3. **Write the Results to a JSON File**\n"
      ],
      "id": "abb378e7"
    },
    {
      "cell_type": "code",
      "metadata": {},
      "source": [
        "# Write the results to a JSON file\n",
        "sales_df.to_json('sales_data_output.json', orient='records', indent=4)"
      ],
      "id": "6785c87a",
      "execution_count": null,
      "outputs": []
    },
    {
      "cell_type": "markdown",
      "metadata": {},
      "source": [
        "### Conclusion\n",
        "\n",
        "Handling data and performing file I/O operations are crucial skills for any programmer. Python's built-in functions and libraries like `pandas`, `csv`, and `json` make it easy to read, write, and manipulate different file formats. By mastering these tools, you can efficiently process data inputs and outputs in any system, making your programs more powerful and versatile.\n",
        "\n",
        "# Deep Dive Tutorial on Python Data Handling and File I/O Using Business Analytics and Information Systems Examples\n",
        "\n",
        "Data handling and file I/O (input/output) are critical skills in business analytics and information systems (BAIS). This tutorial will provide a deep dive into Python's data handling and file I/O capabilities, demonstrating how to use these features with practical BAIS examples.\n",
        "\n",
        "## Table of Contents\n",
        "\n",
        "1. [Introduction to File I/O](#introduction-to-file-i-o)\n",
        "2. [Reading and Writing Text Files](#reading-and-writing-text-files)\n",
        "3. [Reading and Writing CSV Files](#reading-and-writing-csv-files)\n",
        "4. [Reading and Writing Excel Files](#reading-and-writing-excel-files)\n",
        "5. [Handling JSON Data](#handling-json-data)\n",
        "6. [Database Interaction](#database-interaction)\n",
        "7. [Working with Large Data Sets](#working-with-large-data-sets)\n",
        "8. [Practical Examples in BAIS](#practical-examples-in-bais)\n",
        "    - [Sales Data Analysis](#sales-data-analysis)\n",
        "    - [Customer Data Management](#customer-data-management)\n",
        "9. [Best Practices for Data Handling and File I/O](#best-practices-for-data-handling-and-file-i-o)\n",
        "10. [Conclusion](#conclusion)\n",
        "\n",
        "## Introduction to File I/O\n",
        "\n",
        "File I/O in Python involves reading from and writing to files. Python provides built-in functions for file operations, making it easy to handle various file types such as text, CSV, Excel, and JSON.\n",
        "\n",
        "## Reading and Writing Text Files\n",
        "\n",
        "Text files are the simplest form of file I/O in Python.\n",
        "\n",
        "### Reading Text Files\n"
      ],
      "id": "21786bf2"
    },
    {
      "cell_type": "code",
      "metadata": {},
      "source": [
        "# Read entire file\n",
        "with open('data.txt', 'r') as file:\n",
        "    data = file.read()\n",
        "    print(data)\n",
        "\n",
        "# Read file line by line\n",
        "with open('data.txt', 'r') as file:\n",
        "    for line in file:\n",
        "        print(line.strip())"
      ],
      "id": "166cfead",
      "execution_count": null,
      "outputs": []
    },
    {
      "cell_type": "markdown",
      "metadata": {},
      "source": [
        "### Writing Text Files\n"
      ],
      "id": "590d912e"
    },
    {
      "cell_type": "code",
      "metadata": {},
      "source": [
        "# Write to a file\n",
        "with open('output.txt', 'w') as file:\n",
        "    file.write('This is a line of text.\\n')\n",
        "\n",
        "# Append to a file\n",
        "with open('output.txt', 'a') as file:\n",
        "    file.write('This is another line of text.\\n')"
      ],
      "id": "64f6cd8a",
      "execution_count": null,
      "outputs": []
    },
    {
      "cell_type": "markdown",
      "metadata": {},
      "source": [
        "## Reading and Writing CSV Files\n",
        "\n",
        "CSV (Comma-Separated Values) files are commonly used for data storage and exchange in business analytics.\n",
        "\n",
        "### Reading CSV Files\n"
      ],
      "id": "76e133fc"
    },
    {
      "cell_type": "code",
      "metadata": {},
      "source": [
        "import csv\n",
        "\n",
        "# Read CSV file\n",
        "with open('data.csv', 'r') as file:\n",
        "    reader = csv.reader(file)\n",
        "    for row in reader:\n",
        "        print(row)\n",
        "\n",
        "# Read CSV file into a dictionary\n",
        "with open('data.csv', 'r') as file:\n",
        "    reader = csv.DictReader(file)\n",
        "    for row in reader:\n",
        "        print(row)"
      ],
      "id": "5261b6ea",
      "execution_count": null,
      "outputs": []
    },
    {
      "cell_type": "markdown",
      "metadata": {},
      "source": [
        "### Writing CSV Files\n"
      ],
      "id": "101f4315"
    },
    {
      "cell_type": "code",
      "metadata": {},
      "source": [
        "import csv\n",
        "\n",
        "# Write to a CSV file\n",
        "with open('output.csv', 'w', newline='') as file:\n",
        "    writer = csv.writer(file)\n",
        "    writer.writerow(['Name', 'Age', 'Department'])\n",
        "    writer.writerow(['Alice', '30', 'HR'])\n",
        "    writer.writerow(['Bob', '25', 'IT'])\n",
        "\n",
        "# Write dictionary to CSV file\n",
        "with open('output.csv', 'w', newline='') as file:\n",
        "    fieldnames = ['Name', 'Age', 'Department']\n",
        "    writer = csv.DictWriter(file, fieldnames=fieldnames)\n",
        "    writer.writeheader()\n",
        "    writer.writerow({'Name': 'Alice', 'Age': '30', 'Department': 'HR'})\n",
        "    writer.writerow({'Name': 'Bob', 'Age': '25', 'Department': 'IT'})"
      ],
      "id": "0ae6fb2f",
      "execution_count": null,
      "outputs": []
    },
    {
      "cell_type": "markdown",
      "metadata": {},
      "source": [
        "## Reading and Writing Excel Files\n",
        "\n",
        "Excel files are widely used in business analytics for data storage and manipulation.\n",
        "\n",
        "### Reading Excel Files\n"
      ],
      "id": "ee4ff181"
    },
    {
      "cell_type": "code",
      "metadata": {},
      "source": [
        "import pandas as pd\n",
        "\n",
        "# Read Excel file\n",
        "df = pd.read_excel('data.xlsx', sheet_name='Sheet1')\n",
        "print(df)"
      ],
      "id": "97592a8f",
      "execution_count": null,
      "outputs": []
    },
    {
      "cell_type": "markdown",
      "metadata": {},
      "source": [
        "### Writing Excel Files\n"
      ],
      "id": "b3682f0c"
    },
    {
      "cell_type": "code",
      "metadata": {},
      "source": [
        "import pandas as pd\n",
        "\n",
        "# Write to Excel file\n",
        "df = pd.DataFrame({\n",
        "    'Name': ['Alice', 'Bob'],\n",
        "    'Age': [30, 25],\n",
        "    'Department': ['HR', 'IT']\n",
        "})\n",
        "\n",
        "df.to_excel('output.xlsx', index=False)"
      ],
      "id": "57721191",
      "execution_count": null,
      "outputs": []
    },
    {
      "cell_type": "markdown",
      "metadata": {},
      "source": [
        "## Handling JSON Data\n",
        "\n",
        "JSON (JavaScript Object Notation) is a lightweight data interchange format.\n",
        "\n",
        "### Reading JSON Data\n"
      ],
      "id": "47a74520"
    },
    {
      "cell_type": "code",
      "metadata": {},
      "source": [
        "import json\n",
        "\n",
        "# Read JSON file\n",
        "with open('data.json', 'r') as file:\n",
        "    data = json.load(file)\n",
        "    print(data)"
      ],
      "id": "f9b5f3e6",
      "execution_count": null,
      "outputs": []
    },
    {
      "cell_type": "markdown",
      "metadata": {},
      "source": [
        "### Writing JSON Data\n"
      ],
      "id": "e7d0214c"
    },
    {
      "cell_type": "code",
      "metadata": {},
      "source": [
        "import json\n",
        "\n",
        "# Write to JSON file\n",
        "data = {\n",
        "    'name': 'Alice',\n",
        "    'age': 30,\n",
        "    'department': 'HR'\n",
        "}\n",
        "\n",
        "with open('output.json', 'w') as file:\n",
        "    json.dump(data, file, indent=4)"
      ],
      "id": "535981bf",
      "execution_count": null,
      "outputs": []
    },
    {
      "cell_type": "markdown",
      "metadata": {},
      "source": [
        "## Database Interaction\n",
        "\n",
        "Interacting with databases is essential for managing and querying large datasets in business analytics.\n",
        "\n",
        "### Connecting to a SQLite Database\n"
      ],
      "id": "b0118234"
    },
    {
      "cell_type": "code",
      "metadata": {},
      "source": [
        "import sqlite3\n",
        "\n",
        "# Connect to database\n",
        "conn = sqlite3.connect('example.db')\n",
        "\n",
        "# Create a cursor object\n",
        "cursor = conn.cursor()\n",
        "\n",
        "# Execute a query\n",
        "cursor.execute('CREATE TABLE IF NOT EXISTS employees (id INTEGER PRIMARY KEY, name TEXT, age INTEGER, department TEXT)')\n",
        "\n",
        "# Insert data\n",
        "cursor.execute('INSERT INTO employees (name, age, department) VALUES (?, ?, ?)', ('Alice', 30, 'HR'))\n",
        "conn.commit()\n",
        "\n",
        "# Query data\n",
        "cursor.execute('SELECT * FROM employees')\n",
        "rows = cursor.fetchall()\n",
        "for row in rows:\n",
        "    print(row)\n",
        "\n",
        "# Close the connection\n",
        "conn.close()"
      ],
      "id": "af8f17f6",
      "execution_count": null,
      "outputs": []
    },
    {
      "cell_type": "markdown",
      "metadata": {},
      "source": [
        "## Working with Large Data Sets\n",
        "\n",
        "Handling large datasets efficiently is crucial in business analytics. The `pandas` library is often used for this purpose.\n",
        "\n",
        "### Reading Large CSV Files in Chunks\n"
      ],
      "id": "60682dd3"
    },
    {
      "cell_type": "code",
      "metadata": {},
      "source": [
        "import pandas as pd\n",
        "\n",
        "# Read CSV file in chunks\n",
        "chunk_size = 1000\n",
        "chunks = pd.read_csv('large_data.csv', chunksize=chunk_size)\n",
        "\n",
        "for chunk in chunks:\n",
        "    process(chunk)  # Replace with actual processing logic"
      ],
      "id": "a1c66de1",
      "execution_count": null,
      "outputs": []
    },
    {
      "cell_type": "markdown",
      "metadata": {},
      "source": [
        "## Practical Examples in BAIS\n",
        "\n",
        "### Sales Data Analysis\n",
        "\n",
        "**Example: Analyzing Sales Data**\n"
      ],
      "id": "fd5ce62d"
    },
    {
      "cell_type": "code",
      "metadata": {},
      "source": [
        "import pandas as pd\n",
        "\n",
        "# Read sales data from CSV\n",
        "sales_data = pd.read_csv('sales_data.csv')\n",
        "\n",
        "# Calculate total sales\n",
        "total_sales = sales_data['Sales'].sum()\n",
        "print(f'Total Sales: {total_sales}')\n",
        "\n",
        "# Group sales by region\n",
        "sales_by_region = sales_data.groupby('Region')['Sales'].sum()\n",
        "print(sales_by_region)"
      ],
      "id": "a18b499d",
      "execution_count": null,
      "outputs": []
    },
    {
      "cell_type": "markdown",
      "metadata": {},
      "source": [
        "### Customer Data Management\n",
        "\n",
        "**Example: Managing Customer Data**\n"
      ],
      "id": "2151fafe"
    },
    {
      "cell_type": "code",
      "metadata": {},
      "source": [
        "import json\n",
        "\n",
        "# Read customer data from JSON\n",
        "with open('customers.json', 'r') as file:\n",
        "    customers = json.load(file)\n",
        "\n",
        "# Filter customers by age\n",
        "young_customers = [customer for customer in customers if customer['age'] < 30]\n",
        "print(young_customers)\n",
        "\n",
        "# Write filtered data to new JSON file\n",
        "with open('young_customers.json', 'w') as file:\n",
        "    json.dump(young_customers, file, indent=4)"
      ],
      "id": "ac358ee2",
      "execution_count": null,
      "outputs": []
    },
    {
      "cell_type": "markdown",
      "metadata": {},
      "source": [
        "## Best Practices for Data Handling and File I/O\n",
        "\n",
        "1. **Use Context Managers**: Always use context managers (`with` statements) for file operations to ensure proper resource management.\n",
        "2. **Exception Handling**: Implement exception handling to manage errors during file operations.\n",
        "3. **Data Validation**: Validate data before processing to avoid errors and inconsistencies.\n",
        "4. **Efficient Processing**: Use efficient data processing techniques, especially for large datasets.\n",
        "5. **Security**: Be mindful of security when handling sensitive data, such as using secure connections for database interactions and avoiding hardcoding sensitive information.\n",
        "\n",
        "## Conclusion\n",
        "\n",
        "In this tutorial, we covered the fundamentals of data handling and file I/O in Python, with practical examples related to business analytics and information systems. Mastering these skills will enable you to efficiently manage and analyze data, a crucial aspect of BAIS. Whether you are dealing with text files, CSVs, Excel sheets, JSON data, or databases, Python provides a robust set of tools to handle your data needs."
      ],
      "id": "34043340"
    }
  ],
  "metadata": {
    "kernelspec": {
      "name": "python3",
      "language": "python",
      "display_name": "Python 3 (ipykernel)",
      "path": "/Users/markumreed/Documents/BAIS_program_updates/python_for_BAIS/venv/share/jupyter/kernels/python3"
    }
  },
  "nbformat": 4,
  "nbformat_minor": 5
}