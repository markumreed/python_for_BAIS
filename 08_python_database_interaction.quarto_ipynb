{
  "cells": [
    {
      "cell_type": "markdown",
      "metadata": {},
      "source": [
        "## Introduction to Database Interaction with Python\n",
        "\n",
        "Interacting with databases is a crucial aspect of many applications. Python provides robust libraries for connecting to databases, performing CRUD (Create, Read, Update, Delete) operations, and managing database connections. This tutorial will cover connecting to and interacting with databases using Python, focusing on `sqlite3` for SQLite databases and `SQLAlchemy` for Object Relational Mapping (ORM).\n",
        "\n",
        "### Interacting with SQLite Databases using `sqlite3`\n",
        "\n",
        "SQLite is a C library that provides a lightweight, disk-based database. It doesn't require a separate server process, making it an excellent choice for embedded systems and small applications.\n",
        "\n",
        "#### Connecting to a Database\n",
        "\n",
        "You can connect to an SQLite database using the `sqlite3` module. If the database does not exist, it will be created.\n"
      ],
      "id": "9c49b49b"
    },
    {
      "cell_type": "code",
      "metadata": {},
      "source": [
        "import sqlite3\n",
        "\n",
        "# Connect to SQLite database\n",
        "connection = sqlite3.connect('example.db')\n",
        "\n",
        "# Create a cursor object\n",
        "cursor = connection.cursor()"
      ],
      "id": "06113c54",
      "execution_count": null,
      "outputs": []
    },
    {
      "cell_type": "markdown",
      "metadata": {},
      "source": [
        "#### Creating a Table\n",
        "\n",
        "You can create a table using the `CREATE TABLE` SQL statement.\n"
      ],
      "id": "40e3efcf"
    },
    {
      "cell_type": "code",
      "metadata": {},
      "source": [
        "# Create a table\n",
        "cursor.execute('''\n",
        "CREATE TABLE IF NOT EXISTS employees (\n",
        "    id INTEGER PRIMARY KEY,\n",
        "    name TEXT NOT NULL,\n",
        "    age INTEGER,\n",
        "    department TEXT\n",
        ")\n",
        "''')\n",
        "\n",
        "# Commit the changes\n",
        "connection.commit()"
      ],
      "id": "15b7f22c",
      "execution_count": null,
      "outputs": []
    },
    {
      "cell_type": "markdown",
      "metadata": {},
      "source": [
        "#### Inserting Data\n",
        "\n",
        "You can insert data into the table using the `INSERT INTO` SQL statement.\n"
      ],
      "id": "59fc30eb"
    },
    {
      "cell_type": "code",
      "metadata": {},
      "source": [
        "# Insert data into the table\n",
        "cursor.execute('''\n",
        "INSERT INTO employees (name, age, department)\n",
        "VALUES ('John Doe', 30, 'Finance')\n",
        "''')\n",
        "\n",
        "# Commit the changes\n",
        "connection.commit()"
      ],
      "id": "07d24617",
      "execution_count": null,
      "outputs": []
    },
    {
      "cell_type": "markdown",
      "metadata": {},
      "source": [
        "#### Reading Data\n",
        "\n",
        "You can read data from the table using the `SELECT` SQL statement.\n"
      ],
      "id": "468f52e6"
    },
    {
      "cell_type": "code",
      "metadata": {},
      "source": [
        "# Read data from the table\n",
        "cursor.execute('SELECT * FROM employees')\n",
        "rows = cursor.fetchall()\n",
        "\n",
        "for row in rows:\n",
        "    print(row)"
      ],
      "id": "b53f603a",
      "execution_count": null,
      "outputs": []
    },
    {
      "cell_type": "markdown",
      "metadata": {},
      "source": [
        "#### Updating Data\n",
        "\n",
        "You can update data in the table using the `UPDATE` SQL statement.\n"
      ],
      "id": "bd90d0d5"
    },
    {
      "cell_type": "code",
      "metadata": {},
      "source": [
        "# Update data in the table\n",
        "cursor.execute('''\n",
        "UPDATE employees\n",
        "SET age = 31\n",
        "WHERE name = 'John Doe'\n",
        "''')\n",
        "\n",
        "# Commit the changes\n",
        "connection.commit()"
      ],
      "id": "9eb335df",
      "execution_count": null,
      "outputs": []
    },
    {
      "cell_type": "markdown",
      "metadata": {},
      "source": [
        "#### Deleting Data\n",
        "\n",
        "You can delete data from the table using the `DELETE` SQL statement.\n"
      ],
      "id": "8b13fb1e"
    },
    {
      "cell_type": "code",
      "metadata": {},
      "source": [
        "# Delete data from the table\n",
        "cursor.execute('''\n",
        "DELETE FROM employees\n",
        "WHERE name = 'John Doe'\n",
        "''')\n",
        "\n",
        "# Commit the changes\n",
        "connection.commit()"
      ],
      "id": "0d0960a5",
      "execution_count": null,
      "outputs": []
    },
    {
      "cell_type": "markdown",
      "metadata": {},
      "source": [
        "#### Closing the Connection\n",
        "\n",
        "Always close the connection when you're done interacting with the database.\n"
      ],
      "id": "8425303d"
    },
    {
      "cell_type": "code",
      "metadata": {},
      "source": [
        "# Close the connection\n",
        "connection.close()"
      ],
      "id": "2d681489",
      "execution_count": null,
      "outputs": []
    },
    {
      "cell_type": "markdown",
      "metadata": {},
      "source": [
        "### Interacting with Databases using SQLAlchemy\n",
        "\n",
        "SQLAlchemy is a powerful ORM library that provides a high-level interface for interacting with databases in Python.\n",
        "\n",
        "#### Installing SQLAlchemy\n",
        "\n",
        "First, install SQLAlchemy using pip:\n",
        "\n",
        "```bash\n",
        "pip install sqlalchemy\n",
        "```\n",
        "\n",
        "#### Connecting to a Database\n",
        "\n",
        "You can connect to a database using SQLAlchemy's `create_engine` function.\n"
      ],
      "id": "edc086e0"
    },
    {
      "cell_type": "code",
      "metadata": {},
      "source": [
        "from sqlalchemy import create_engine\n",
        "\n",
        "# Create an engine\n",
        "engine = create_engine('sqlite:///example.db')"
      ],
      "id": "00bcb38f",
      "execution_count": null,
      "outputs": []
    },
    {
      "cell_type": "markdown",
      "metadata": {},
      "source": [
        "#### Defining a Model\n",
        "\n",
        "You define models using Python classes and SQLAlchemy's ORM features.\n"
      ],
      "id": "4b954247"
    },
    {
      "cell_type": "code",
      "metadata": {},
      "source": [
        "from sqlalchemy.orm import declarative_base\n",
        "from sqlalchemy import Column, Integer, String, create_engine\n",
        "from sqlalchemy.orm import sessionmaker\n",
        "\n",
        "Base = declarative_base()\n",
        "\n",
        "class Employee(Base):\n",
        "    __tablename__ = 'employees'\n",
        "\n",
        "    id = Column(Integer, primary_key=True)\n",
        "    name = Column(String, nullable=False)\n",
        "    age = Column(Integer)\n",
        "    department = Column(String)\n",
        "\n",
        "    def __repr__(self):\n",
        "        return f\"<Employee(name={self.name}, age={self.age}, department={self.department})>\"\n",
        "\n",
        "# Database setup\n",
        "DATABASE_URL = \"sqlite:///example.db\"  # Replace with your database URL\n",
        "engine = create_engine(DATABASE_URL)\n",
        "\n",
        "# Create tables\n",
        "Base.metadata.create_all(engine)\n",
        "\n",
        "# Session setup\n",
        "Session = sessionmaker(bind=engine)\n",
        "session = Session()\n",
        "\n",
        "# Example usage\n",
        "new_employee = Employee(name=\"John Doe\", age=30, department=\"Finance\")\n",
        "session.add(new_employee)\n",
        "session.commit()\n",
        "\n",
        "# Query the database\n",
        "for employee in session.query(Employee).all():\n",
        "    print(employee)"
      ],
      "id": "caad6ece",
      "execution_count": null,
      "outputs": []
    },
    {
      "cell_type": "markdown",
      "metadata": {},
      "source": [
        "#### Creating a Table\n",
        "\n",
        "You can create tables in the database using the `create_all` method.\n"
      ],
      "id": "2e05ea10"
    },
    {
      "cell_type": "code",
      "metadata": {},
      "source": [
        "# Create tables\n",
        "Base.metadata.create_all(engine)"
      ],
      "id": "0920c3ef",
      "execution_count": null,
      "outputs": []
    },
    {
      "cell_type": "markdown",
      "metadata": {},
      "source": [
        "#### Creating a Session\n",
        "\n",
        "You need a session to interact with the database.\n"
      ],
      "id": "b843ff1d"
    },
    {
      "cell_type": "code",
      "metadata": {},
      "source": [
        "from sqlalchemy.orm import sessionmaker\n",
        "\n",
        "# Create a session\n",
        "Session = sessionmaker(bind=engine)\n",
        "session = Session()"
      ],
      "id": "e96db6cc",
      "execution_count": null,
      "outputs": []
    },
    {
      "cell_type": "markdown",
      "metadata": {},
      "source": [
        "#### Inserting Data\n",
        "\n",
        "You can insert data into the database by creating instances of the model and adding them to the session.\n"
      ],
      "id": "693f5809"
    },
    {
      "cell_type": "code",
      "metadata": {},
      "source": [
        "# Insert data\n",
        "new_employee = Employee(name='Jane Doe', age=28, department='Marketing')\n",
        "session.add(new_employee)\n",
        "session.commit()"
      ],
      "id": "b342eb69",
      "execution_count": null,
      "outputs": []
    },
    {
      "cell_type": "markdown",
      "metadata": {},
      "source": [
        "#### Reading Data\n",
        "\n",
        "You can read data from the database using the session's `query` method.\n"
      ],
      "id": "2f7e705a"
    },
    {
      "cell_type": "code",
      "metadata": {},
      "source": [
        "# Read data\n",
        "employees = session.query(Employee).all()\n",
        "for employee in employees:\n",
        "    print(employee)"
      ],
      "id": "756c7c45",
      "execution_count": null,
      "outputs": []
    },
    {
      "cell_type": "markdown",
      "metadata": {},
      "source": [
        "#### Updating Data\n",
        "\n",
        "You can update data in the database by modifying the attributes of the model instance and committing the session.\n"
      ],
      "id": "a51d3fd1"
    },
    {
      "cell_type": "code",
      "metadata": {},
      "source": [
        "# Update data\n",
        "employee = session.query(Employee).filter_by(name='Jane Doe').first()\n",
        "employee.age = 29\n",
        "session.commit()"
      ],
      "id": "1edc8e9a",
      "execution_count": null,
      "outputs": []
    },
    {
      "cell_type": "markdown",
      "metadata": {},
      "source": [
        "#### Deleting Data\n",
        "\n",
        "You can delete data from the database by deleting the model instance from the session.\n"
      ],
      "id": "364d2ac5"
    },
    {
      "cell_type": "code",
      "metadata": {},
      "source": [
        "# Delete data\n",
        "employee = session.query(Employee).filter_by(name='Jane Doe').first()\n",
        "session.delete(employee)\n",
        "session.commit()"
      ],
      "id": "27f818d7",
      "execution_count": null,
      "outputs": []
    },
    {
      "cell_type": "markdown",
      "metadata": {},
      "source": [
        "### Conclusion\n",
        "\n",
        "Interacting with databases is a fundamental skill for developing data-driven applications. Python provides powerful libraries like `sqlite3` for simple database interactions and `SQLAlchemy` for advanced ORM capabilities. By mastering these tools, you can efficiently manage database connections, perform CRUD operations, and build robust applications.\n",
        "\n",
        "## Establishing Connectivity with SQLAlchemy\n",
        "\n",
        "### Introduction to SQLAlchemy Engine\n",
        "\n",
        "Every SQLAlchemy application that connects to a database needs to use an Engine. The Engine acts as a central source of connections to a particular database, providing both a factory and a holding space called a connection pool for these database connections. This tutorial will guide you through the process of establishing connectivity using the Engine, applicable to both ORM and Core users.\n",
        "\n",
        "### Creating the Engine\n",
        "\n",
        "The start of any SQLAlchemy application is an object called the Engine. The Engine is typically a global object created just once for a particular database server and is configured using a URL string that describes how it should connect to the database host or backend.\n",
        "\n",
        "For this tutorial, we will use an in-memory-only SQLite database. This is an easy way to test things without needing a pre-existing database setup. The Engine is created using the `create_engine()` function:\n"
      ],
      "id": "8662b931"
    },
    {
      "cell_type": "code",
      "metadata": {},
      "source": [
        "from sqlalchemy import create_engine\n",
        "\n",
        "# Create an in-memory SQLite database\n",
        "engine = create_engine(\"sqlite+pysqlite:///:memory:\", echo=True)"
      ],
      "id": "afc70f43",
      "execution_count": null,
      "outputs": []
    },
    {
      "cell_type": "markdown",
      "metadata": {},
      "source": [
        "### Understanding the URL String\n",
        "\n",
        "The main argument to `create_engine` is a string URL, in this case, passed as the string `\"sqlite+pysqlite:///:memory:\"`. This string indicates three important facts to the Engine:\n",
        "\n",
        "1. **Database Type**: The type of database we are communicating with, specified by `sqlite` in the URL, links SQLAlchemy to an object known as the dialect.\n",
        "2. **DBAPI**: The Python DBAPI used to interact with the database. Here, `pysqlite` indicates that we are using the `sqlite3` standard library interface for SQLite. If omitted, SQLAlchemy will use a default DBAPI for the selected database.\n",
        "3. **Database Location**: The phrase `/:memory:` indicates that we are using an in-memory-only database. This is perfect for experimenting as it does not require any server or create any new files.\n",
        "\n",
        "### Lazy Connecting\n",
        "\n",
        "The Engine, when first returned by `create_engine()`, has not actually tried to connect to the database yet; that happens only the first time it is asked to perform a task against the database. This design pattern is known as lazy initialization.\n",
        "\n",
        "### Enabling SQL Logging\n",
        "\n",
        "We have also specified a parameter `echo=True` in `create_engine`, which instructs the Engine to log all the SQL it emits to a Python logger that writes to standard output. This flag is a shorthand way of setting up Python logging and is useful for experimentation in scripts. Many of the SQL examples will include this SQL logging output beneath a `[SQL]` link that, when clicked, will reveal the full SQL interaction.\n",
        "\n",
        "### Example: Connecting to an In-Memory SQLite Database\n",
        "\n",
        "Here’s a complete example of how to create an Engine and connect to an in-memory SQLite database. The example includes a discussion of each part of the code.\n"
      ],
      "id": "9f2c7025"
    },
    {
      "cell_type": "code",
      "metadata": {},
      "source": [
        "from sqlalchemy import create_engine, text\n",
        "\n",
        "# Create an in-memory SQLite database\n",
        "engine = create_engine(\"sqlite+pysqlite:///:memory:\", echo=True)\n",
        "\n",
        "# Perform a simple database operation\n",
        "with engine.connect() as connection:\n",
        "    result = connection.execute(text(\"SELECT 'Hello, World!'\"))\n",
        "    print(result.fetchall())"
      ],
      "id": "d6b5ff21",
      "execution_count": null,
      "outputs": []
    },
    {
      "cell_type": "markdown",
      "metadata": {},
      "source": [
        "### Discussion\n",
        "\n",
        "#### Importing Required Modules\n",
        "```python\n",
        "from sqlalchemy import create_engine, text\n",
        "```\n",
        "- **`create_engine`**: This function from SQLAlchemy is used to create a new SQLAlchemy Engine instance, which is the starting point for any SQLAlchemy application. It establishes a connection to the database.\n",
        "- **`text`**: This function from SQLAlchemy is used to safely execute raw SQL queries. It ensures that SQLAlchemy can properly parse and handle the query.\n",
        "\n",
        "#### Creating an In-Memory SQLite Database\n",
        "```python\n",
        "engine = create_engine(\"sqlite+pysqlite:///:memory:\", echo=True)\n",
        "```\n",
        "- **`create_engine(\"sqlite+pysqlite:///:memory:\")`**: This line creates an Engine instance that connects to an in-memory SQLite database. The database resides in memory and will be discarded when the program ends.\n",
        "  - **`sqlite+pysqlite:///:memory:`**: This is the database URL. `sqlite+pysqlite` specifies the use of the SQLite database with the pysqlite driver, and `:memory:` indicates that the database is in-memory.\n",
        "- **`echo=True`**: This argument enables logging of all the SQL statements issued to the database, which is useful for debugging and understanding the interactions with the database.\n",
        "\n",
        "#### Performing a Simple Database Operation\n",
        "```python\n",
        "with engine.connect() as connection:\n",
        "    result = connection.execute(text(\"SELECT 'Hello, World!'\"))\n",
        "    print(result.fetchall())\n",
        "```\n",
        "- **`with engine.connect() as connection:`**: This line establishes a connection to the database using a context manager. The context manager ensures that the connection is properly closed after the block of code is executed.\n",
        "- **`connection.execute(text(\"SELECT 'Hello, World!'\"))`**: This line executes a raw SQL query. The `text` function wraps the raw SQL query string to ensure SQLAlchemy can handle it correctly.\n",
        "- **`result.fetchall()`**: This method retrieves all rows of the query result. In this example, it fetches the result of the `SELECT 'Hello, World!'` query, which is a single row containing the string \"Hello, World!\".\n",
        "\n",
        "By using `text` to wrap the raw SQL query and ensuring the use of the correct driver and database URL, this code creates an in-memory SQLite database, executes a simple query, and prints the result without encountering errors.\n",
        "### Conclusion\n",
        "\n",
        "In this tutorial, we have covered the basics of establishing connectivity with SQLAlchemy using the Engine. We created an Engine for an in-memory SQLite database, understood the components of the connection URL, and enabled SQL logging for better visibility into the SQL operations performed by SQLAlchemy. This foundational knowledge is essential for both ORM and Core users as it sets the stage for more advanced database interactions using SQLAlchemy.\n",
        "\n",
        "## Working with Transactions and the DBAPI with SQLAlchemy\n",
        "\n",
        "### Introduction\n",
        "\n",
        "With the Engine object ready, we can dive into the basic operation of an Engine and its primary interactive endpoints: the Connection and the Result. For ORM users, the Session object manages the Engine and emphasizes a transactional SQL execution pattern similar to the Connection. This tutorial will cover how to establish a connection, execute transactions, and work with results using both Core and ORM contexts in SQLAlchemy.\n",
        "\n",
        "### Establishing a Connection\n",
        "\n",
        "The primary purpose of the Engine object is to provide a unit of connectivity to the database called the Connection. When working with SQLAlchemy Core, the Connection object is the primary interface for interacting with the database.\n",
        "\n",
        "#### Creating a Connection\n",
        "\n",
        "A Connection object can be created using the `engine.connect()` method. It's best to use a context manager to ensure the connection is properly managed and closed.\n"
      ],
      "id": "2096206f"
    },
    {
      "cell_type": "code",
      "metadata": {},
      "source": [
        "from sqlalchemy import create_engine, text\n",
        "\n",
        "# Create an in-memory SQLite database\n",
        "engine = create_engine(\"sqlite+pysqlite:///:memory:\", echo=True)\n",
        "\n",
        "# Establishing a connection using a context manager\n",
        "with engine.connect() as conn:\n",
        "    result = conn.execute(text(\"SELECT 'hello world'\"))\n",
        "    print(result.all())"
      ],
      "id": "98946c95",
      "execution_count": null,
      "outputs": []
    },
    {
      "cell_type": "markdown",
      "metadata": {},
      "source": [
        "### Transactions\n",
        "\n",
        "Transactions are crucial for maintaining data integrity. By default, a transaction is always in progress, and a ROLLBACK is issued when the connection scope is released.\n",
        "\n",
        "#### Committing Changes\n",
        "\n",
        "To commit changes, use the `Connection.commit()` method within the context block.\n"
      ],
      "id": "9d8d69a1"
    },
    {
      "cell_type": "code",
      "metadata": {},
      "source": [
        "with engine.connect() as conn:\n",
        "    conn.execute(text(\"CREATE TABLE some_table (x int, y int)\"))\n",
        "    conn.execute(\n",
        "        text(\"INSERT INTO some_table (x, y) VALUES (:x, :y)\"),\n",
        "        [{\"x\": 1, \"y\": 1}, {\"x\": 2, \"y\": 4}]\n",
        "    )\n",
        "    conn.commit()"
      ],
      "id": "c60d5ece",
      "execution_count": null,
      "outputs": []
    },
    {
      "cell_type": "markdown",
      "metadata": {},
      "source": [
        "#### Begin Once Style\n",
        "\n",
        "Alternatively, use `engine.begin()` to manage the connection and transaction scope automatically.\n"
      ],
      "id": "a9cea1b1"
    },
    {
      "cell_type": "code",
      "metadata": {},
      "source": [
        "with engine.begin() as conn:\n",
        "    conn.execute(\n",
        "        text(\"INSERT INTO some_table (x, y) VALUES (:x, :y)\"),\n",
        "        [{\"x\": 6, \"y\": 8}, {\"x\": 9, \"y\": 10}]\n",
        "    )"
      ],
      "id": "c8c2ddf0",
      "execution_count": null,
      "outputs": []
    },
    {
      "cell_type": "markdown",
      "metadata": {},
      "source": [
        "### Statement Execution\n",
        "\n",
        "SQL statements can be executed using the `Connection.execute()` method along with the `text()` construct.\n",
        "\n",
        "#### Fetching Rows\n",
        "\n",
        "Results are fetched using the Result object, which supports various methods for accessing data.\n"
      ],
      "id": "23ad04d5"
    },
    {
      "cell_type": "code",
      "metadata": {},
      "source": [
        "with engine.connect() as conn:\n",
        "    result = conn.execute(text(\"SELECT x, y FROM some_table\"))\n",
        "    for row in result:\n",
        "        print(f\"x: {row.x}  y: {row.y}\")"
      ],
      "id": "a43c1e10",
      "execution_count": null,
      "outputs": []
    },
    {
      "cell_type": "markdown",
      "metadata": {},
      "source": [
        "### Parameterized Queries\n",
        "\n",
        "Parameters can be passed to SQL statements using dictionaries, ensuring proper value sanitization and preventing SQL injection.\n"
      ],
      "id": "148c58a5"
    },
    {
      "cell_type": "code",
      "metadata": {},
      "source": [
        "with engine.connect() as conn:\n",
        "    result = conn.execute(text(\"SELECT x, y FROM some_table WHERE y > :y\"), {\"y\": 2})\n",
        "    for row in result:\n",
        "        print(f\"x: {row.x}  y: {row.y}\")"
      ],
      "id": "d5346910",
      "execution_count": null,
      "outputs": []
    },
    {
      "cell_type": "markdown",
      "metadata": {},
      "source": [
        "### Sending Multiple Parameters\n",
        "\n",
        "Multiple parameter sets can be sent using a list of dictionaries, enabling efficient execution of multiple SQL statements.\n"
      ],
      "id": "f546eeda"
    },
    {
      "cell_type": "code",
      "metadata": {},
      "source": [
        "with engine.connect() as conn:\n",
        "    conn.execute(\n",
        "        text(\"INSERT INTO some_table (x, y) VALUES (:x, :y)\"),\n",
        "        [{\"x\": 11, \"y\": 12}, {\"x\": 13, \"y\": 14}]\n",
        "    )\n",
        "    conn.commit()"
      ],
      "id": "2fae193d",
      "execution_count": null,
      "outputs": []
    },
    {
      "cell_type": "markdown",
      "metadata": {},
      "source": [
        "### Using ORM Session\n",
        "\n",
        "The Session object in SQLAlchemy ORM provides a higher-level interface for managing database interactions.\n",
        "\n",
        "#### Executing with ORM Session\n"
      ],
      "id": "3cebb9da"
    },
    {
      "cell_type": "code",
      "metadata": {},
      "source": [
        "from sqlalchemy.orm import Session\n",
        "\n",
        "stmt = text(\"SELECT x, y FROM some_table WHERE y > :y ORDER BY x, y\")\n",
        "with Session(engine) as session:\n",
        "    result = session.execute(stmt, {\"y\": 6})\n",
        "    for row in result:\n",
        "        print(f\"x: {row.x}  y: {row.y}\")"
      ],
      "id": "aac7cbd5",
      "execution_count": null,
      "outputs": []
    },
    {
      "cell_type": "markdown",
      "metadata": {},
      "source": [
        "#### Committing Changes with ORM Session\n"
      ],
      "id": "44fa227b"
    },
    {
      "cell_type": "code",
      "metadata": {},
      "source": [
        "with Session(engine) as session:\n",
        "    session.execute(\n",
        "        text(\"UPDATE some_table SET y=:y WHERE x=:x\"),\n",
        "        [{\"x\": 9, \"y\": 11}, {\"x\": 13, \"y\": 15}]\n",
        "    )\n",
        "    session.commit()"
      ],
      "id": "2a95ea6c",
      "execution_count": null,
      "outputs": []
    },
    {
      "cell_type": "markdown",
      "metadata": {},
      "source": [
        "### Conclusion\n",
        "\n",
        "This tutorial covered the basics of working with transactions and the DBAPI using SQLAlchemy. We demonstrated how to establish a connection, execute transactions, and work with results using both Core and ORM contexts. Understanding these foundational concepts will enable you to effectively manage database interactions in your SQLAlchemy applications.\n",
        "\n",
        "## Working with Database Metadata with SQLAlchemy\n",
        "\n",
        "### Introduction\n",
        "\n",
        "With the basics of engines and SQL execution covered, we can now delve into SQLAlchemy's core strength: working with database metadata. Database metadata allows for fluent, composable construction of SQL queries using Python objects that represent database concepts like tables and columns. This tutorial will illustrate how to work with database metadata in both Core and ORM contexts.\n",
        "\n",
        "### Setting Up Metadata with Table Objects\n",
        "\n",
        "In SQLAlchemy, the primary object representing a table is the `Table` object. To start using SQLAlchemy's Expression Language, we need to construct `Table` objects that represent our database tables. This is done using the `MetaData` object, which acts as a collection for `Table` objects.\n",
        "\n",
        "#### Creating a MetaData Object\n",
        "\n",
        "First, create a `MetaData` object:\n"
      ],
      "id": "ab1fa28a"
    },
    {
      "cell_type": "code",
      "metadata": {},
      "source": [
        "from sqlalchemy import MetaData\n",
        "\n",
        "metadata_obj = MetaData()"
      ],
      "id": "16dc8c6f",
      "execution_count": null,
      "outputs": []
    },
    {
      "cell_type": "markdown",
      "metadata": {},
      "source": [
        "#### Defining Table Objects\n",
        "\n",
        "We can now define `Table` objects. For this tutorial, we will use a `user_account` table and an `address` table.\n"
      ],
      "id": "3c73e920"
    },
    {
      "cell_type": "code",
      "metadata": {},
      "source": [
        "from sqlalchemy import Table, Column, Integer, String, ForeignKey\n",
        "\n",
        "# Define the user_account table\n",
        "user_table = Table(\n",
        "    \"user_account\",\n",
        "    metadata_obj,\n",
        "    Column(\"id\", Integer, primary_key=True),\n",
        "    Column(\"name\", String(30)),\n",
        "    Column(\"fullname\", String),\n",
        ")\n",
        "\n",
        "# Define the address table with a foreign key to user_account\n",
        "address_table = Table(\n",
        "    \"address\",\n",
        "    metadata_obj,\n",
        "    Column(\"id\", Integer, primary_key=True),\n",
        "    Column(\"user_id\", ForeignKey(\"user_account.id\"), nullable=False),\n",
        "    Column(\"email_address\", String, nullable=False),\n",
        ")"
      ],
      "id": "a0cc732e",
      "execution_count": null,
      "outputs": []
    },
    {
      "cell_type": "markdown",
      "metadata": {},
      "source": [
        "### Emitting DDL to the Database\n",
        "\n",
        "With our `Table` objects defined, we can create the actual tables in the database using the `MetaData.create_all()` method.\n"
      ],
      "id": "7778daa3"
    },
    {
      "cell_type": "code",
      "metadata": {},
      "source": [
        "from sqlalchemy import create_engine\n",
        "\n",
        "# Create an in-memory SQLite database\n",
        "engine = create_engine(\"sqlite+pysqlite:///:memory:\", echo=True)\n",
        "\n",
        "# Create the tables in the database\n",
        "metadata_obj.create_all(engine)"
      ],
      "id": "66b54480",
      "execution_count": null,
      "outputs": []
    },
    {
      "cell_type": "markdown",
      "metadata": {},
      "source": [
        "### Working with Constraints\n",
        "\n",
        "Constraints such as primary keys and foreign keys can be defined using the `Column` object parameters and `ForeignKey` objects.\n",
        "\n",
        "#### Primary Key Constraint\n",
        "\n",
        "The primary key is defined using the `primary_key` parameter in the `Column` definition.\n"
      ],
      "id": "2eac3555"
    },
    {
      "cell_type": "code",
      "metadata": {},
      "source": [
        "Column(\"id\", Integer, primary_key=True)"
      ],
      "id": "687c551c",
      "execution_count": null,
      "outputs": []
    },
    {
      "cell_type": "markdown",
      "metadata": {},
      "source": [
        "#### Foreign Key Constraint\n",
        "\n",
        "A foreign key constraint is defined using the `ForeignKey` object.\n"
      ],
      "id": "8e77e27f"
    },
    {
      "cell_type": "code",
      "metadata": {},
      "source": [
        "Column(\"user_id\", ForeignKey(\"user_account.id\"), nullable=False)"
      ],
      "id": "4ed139e7",
      "execution_count": null,
      "outputs": []
    },
    {
      "cell_type": "markdown",
      "metadata": {},
      "source": [
        "### Declaring ORM Mapped Classes\n",
        "\n",
        "Using the ORM, we can define our tables and mapped classes using the `DeclarativeBase` class.\n",
        "\n",
        "#### Establishing a Declarative Base\n"
      ],
      "id": "0f187d7b"
    },
    {
      "cell_type": "code",
      "metadata": {},
      "source": [
        "from sqlalchemy.orm import DeclarativeBase\n",
        "\n",
        "class Base(DeclarativeBase):\n",
        "    pass"
      ],
      "id": "a227db56",
      "execution_count": null,
      "outputs": []
    },
    {
      "cell_type": "markdown",
      "metadata": {},
      "source": [
        "#### Defining Mapped Classes\n",
        "\n",
        "We can now define our ORM mapped classes `User` and `Address`.\n"
      ],
      "id": "87fdc841"
    },
    {
      "cell_type": "code",
      "metadata": {},
      "source": [
        "from typing import List, Optional\n",
        "from sqlalchemy.orm import Mapped, mapped_column, relationship\n",
        "\n",
        "class User(Base):\n",
        "    __tablename__ = \"user_account\"\n",
        "\n",
        "    id: Mapped[int] = mapped_column(primary_key=True)\n",
        "    name: Mapped[str] = mapped_column(String(30))\n",
        "    fullname: Mapped[Optional[str]]\n",
        "\n",
        "    addresses: Mapped[List[\"Address\"]] = relationship(back_populates=\"user\")\n",
        "\n",
        "    def __repr__(self) -> str:\n",
        "        return f\"User(id={self.id!r}, name={self.name!r}, fullname={self.fullname!r})\"\n",
        "\n",
        "class Address(Base):\n",
        "    __tablename__ = \"address\"\n",
        "\n",
        "    id: Mapped[int] = mapped_column(primary_key=True)\n",
        "    email_address: Mapped[str]\n",
        "    user_id = mapped_column(ForeignKey(\"user_account.id\"))\n",
        "\n",
        "    user: Mapped[User] = relationship(back_populates=\"addresses\")\n",
        "\n",
        "    def __repr__(self) -> str:\n",
        "        return f\"Address(id={self.id!r}, email_address={self.email_address!r})\""
      ],
      "id": "3fac8dd8",
      "execution_count": null,
      "outputs": []
    },
    {
      "cell_type": "markdown",
      "metadata": {},
      "source": [
        "### Emitting DDL from ORM Mapped Classes\n",
        "\n",
        "To create tables from our ORM mapped classes, use the `Base.metadata.create_all()` method.\n"
      ],
      "id": "e07e4a01"
    },
    {
      "cell_type": "code",
      "metadata": {},
      "source": [
        "# Create the tables in the database\n",
        "Base.metadata.create_all(engine)"
      ],
      "id": "da758dab",
      "execution_count": null,
      "outputs": []
    },
    {
      "cell_type": "markdown",
      "metadata": {},
      "source": [
        "### Table Reflection\n",
        "\n",
        "Table reflection generates `Table` objects from an existing database schema.\n",
        "\n",
        "To create a table that works with the reflection example, we need to first define the table schema and create it in the database. Then we can use SQLAlchemy's reflection capabilities to reflect the table.\n",
        "\n",
        "### Step-by-Step Guide\n",
        "\n",
        "1. **Define and create the table in the database.**\n",
        "2. **Use SQLAlchemy's reflection to reflect the table schema.**\n",
        "\n",
        "### Complete Example\n"
      ],
      "id": "326c3eb1"
    },
    {
      "cell_type": "code",
      "metadata": {},
      "source": [
        "from sqlalchemy import create_engine, MetaData, Table, Column, Integer, String, text\n",
        "\n",
        "# Step 1: Create an Engine and an in-memory SQLite database\n",
        "engine = create_engine(\"sqlite+pysqlite:///:memory:\", echo=True)\n",
        "\n",
        "# Step 2: Create the table schema and create the table in the database\n",
        "metadata_obj = MetaData()\n",
        "\n",
        "# Define the table schema\n",
        "some_table = Table(\n",
        "    \"some_table\", metadata_obj,\n",
        "    Column(\"id\", Integer, primary_key=True),\n",
        "    Column(\"name\", String, nullable=False),\n",
        "    Column(\"value\", Integer)\n",
        ")\n",
        "\n",
        "# Create the table in the database\n",
        "metadata_obj.create_all(engine)\n",
        "\n",
        "# Step 3: Reflect the table from the existing database\n",
        "reflected_metadata = MetaData()\n",
        "reflected_some_table = Table(\"some_table\", reflected_metadata, autoload_with=engine)\n",
        "\n",
        "# Print the reflected table schema\n",
        "print(reflected_some_table)\n",
        "\n",
        "# Perform a simple insert and query to verify the table\n",
        "with engine.connect() as connection:\n",
        "    # Insert data\n",
        "    connection.execute(some_table.insert().values(name=\"Test Name\", value=42))\n",
        "\n",
        "    # Query data\n",
        "    result = connection.execute(text(\"SELECT * FROM some_table\"))\n",
        "    for row in result:\n",
        "        print(row)"
      ],
      "id": "4fc27b05",
      "execution_count": null,
      "outputs": []
    },
    {
      "cell_type": "markdown",
      "metadata": {},
      "source": [
        "### Discussion\n",
        "\n",
        "#### Importing Required Modules\n"
      ],
      "id": "edbf79f2"
    },
    {
      "cell_type": "code",
      "metadata": {},
      "source": [
        "from sqlalchemy import create_engine, MetaData, Table, Column, Integer, String, text"
      ],
      "id": "d7c843de",
      "execution_count": null,
      "outputs": []
    },
    {
      "cell_type": "markdown",
      "metadata": {},
      "source": [
        "- **`create_engine`**: Used to create a new SQLAlchemy Engine instance.\n",
        "- **`MetaData`**: A container object that keeps together many different features of a database (or multiple databases) being described.\n",
        "- **`Table`**: Represents a table in a database.\n",
        "- **`Column`**: Represents a column in a database table.\n",
        "- **`Integer`, `String`**: Column data types.\n",
        "- **`text`**: Used to execute raw SQL queries.\n",
        "\n",
        "#### Creating an In-Memory SQLite Database\n",
        "```python\n",
        "engine = create_engine(\"sqlite+pysqlite:///:memory:\", echo=True)\n",
        "```\n",
        "- **`sqlite+pysqlite:///:memory:`**: Database URL for an in-memory SQLite database.\n",
        "- **`echo=True`**: Enables logging of SQL statements for debugging.\n",
        "\n",
        "#### Defining and Creating the Table\n",
        "```python\n",
        "metadata_obj = MetaData()\n",
        "\n",
        "some_table = Table(\n",
        "    \"some_table\", metadata_obj,\n",
        "    Column(\"id\", Integer, primary_key=True),\n",
        "    Column(\"name\", String, nullable=False),\n",
        "    Column(\"value\", Integer)\n",
        ")\n",
        "\n",
        "metadata_obj.create_all(engine)\n",
        "```\n",
        "- **`MetaData()`**: Creates a new MetaData object.\n",
        "- **`Table`**: Defines the table schema.\n",
        "- **`create_all(engine)`**: Creates the table in the database.\n",
        "\n",
        "#### Reflecting the Table\n",
        "```python\n",
        "reflected_metadata = MetaData()\n",
        "reflected_some_table = Table(\"some_table\", reflected_metadata, autoload_with=engine)\n",
        "print(reflected_some_table)\n",
        "```\n",
        "- **`MetaData()`**: Creates a new MetaData object for reflection.\n",
        "- **`Table(\"some_table\", reflected_metadata, autoload_with=engine)`**: Reflects the table schema from the database.\n",
        "- **`print(reflected_some_table)`**: Prints the reflected table schema.\n",
        "\n",
        "#### Verifying the Table\n",
        "```python\n",
        "with engine.connect() as connection:\n",
        "    # Insert data\n",
        "    connection.execute(some_table.insert().values(name=\"Test Name\", value=42))\n",
        "\n",
        "    # Query data\n",
        "    result = connection.execute(text(\"SELECT * FROM some_table\"))\n",
        "    for row in result:\n",
        "        print(row)\n",
        "```\n",
        "- **`with engine.connect() as connection`**: Establishes a connection to the database.\n",
        "- **`connection.execute(some_table.insert().values(...))`**: Inserts data into the table.\n",
        "- **`connection.execute(text(\"SELECT * FROM some_table\"))`**: Executes a raw SQL query to retrieve data.\n",
        "- **`print(row)`**: Prints the result of the query.\n",
        "\n",
        "### Next Steps\n",
        "\n",
        "With our database schema defined and tables created, we can now proceed to create, manipulate, and select data using both Core and ORM constructs in SQLAlchemy.\n",
        "\n",
        "### Conclusion\n",
        "\n",
        "This tutorial covered the basics of working with database metadata in SQLAlchemy, including defining tables, emitting DDL to the database, and using ORM mapped classes. Understanding these concepts is fundamental for effective database management and query construction in SQLAlchemy.\n",
        "\n",
        "## Working with Data with SQLAlchemy\n",
        "\n",
        "In the previous tutorials, we covered interacting with the Python DBAPI and its transactional state, and representing database tables, columns, and constraints using SQLAlchemy's MetaData and related objects. In this tutorial, we'll combine these concepts to create, select, and manipulate data within a relational database. Interactions with the database are always within the context of a transaction, even if autocommit is used behind the scenes.\n",
        "\n",
        "### Components of this Tutorial\n",
        "\n",
        "1. **Using INSERT Statements**: We'll introduce and demonstrate the Core Insert construct to get data into the database.\n",
        "2. **Using SELECT Statements**: We'll describe the Select construct, which emits SELECT statements for both Core and ORM-centric applications.\n",
        "3. **Using UPDATE and DELETE Statements**: We'll cover the use of the Update and Delete constructs from a Core perspective.\n",
        "\n",
        "### Using INSERT Statements\n",
        "\n",
        "To insert data into the database, we use the Core Insert construct.\n",
        "\n",
        "#### Example: Inserting Data with Core\n"
      ],
      "id": "3d653825"
    },
    {
      "cell_type": "code",
      "metadata": {},
      "source": [
        "from sqlalchemy import create_engine, MetaData, Table, Column, Integer, String, insert\n",
        "\n",
        "# Create an in-memory SQLite database\n",
        "engine = create_engine(\"sqlite+pysqlite:///:memory:\", echo=True)\n",
        "metadata = MetaData()\n",
        "\n",
        "# Define a user_account table\n",
        "user_table = Table(\n",
        "    \"user_account\", metadata,\n",
        "    Column(\"id\", Integer, primary_key=True),\n",
        "    Column(\"name\", String(30)),\n",
        "    Column(\"fullname\", String)\n",
        ")\n",
        "\n",
        "# Create the table in the database\n",
        "metadata.create_all(engine)\n",
        "\n",
        "# Insert data into the user_account table\n",
        "with engine.connect() as conn:\n",
        "    stmt = insert(user_table).values(name=\"john\", fullname=\"John Doe\")\n",
        "    conn.execute(stmt)\n",
        "    conn.commit()"
      ],
      "id": "78b2ac9f",
      "execution_count": null,
      "outputs": []
    },
    {
      "cell_type": "markdown",
      "metadata": {},
      "source": [
        "### Using SELECT Statements\n",
        "\n",
        "The `Select` construct is the most commonly used object in SQLAlchemy, allowing us to query data from the database.\n",
        "\n",
        "#### Example: Selecting Data with Core\n"
      ],
      "id": "d733e3de"
    },
    {
      "cell_type": "code",
      "metadata": {},
      "source": [
        "from sqlalchemy import select\n",
        "\n",
        "# Select data from the user_account table\n",
        "with engine.connect() as conn:\n",
        "    stmt = select(user_table)\n",
        "    result = conn.execute(stmt)\n",
        "    for row in result:\n",
        "        print(row)"
      ],
      "id": "01785cb1",
      "execution_count": null,
      "outputs": []
    },
    {
      "cell_type": "markdown",
      "metadata": {},
      "source": [
        "Here’s a complete example of selecting data with ORM using SQLAlchemy, ensuring it works correctly:\n",
        "\n",
        "### Example: Selecting Data with ORM\n"
      ],
      "id": "2b59acee"
    },
    {
      "cell_type": "code",
      "metadata": {},
      "source": [
        "from sqlalchemy import create_engine, Column, Integer, String, select\n",
        "from sqlalchemy.orm import declarative_base, sessionmaker, relationship, Session\n",
        "from sqlalchemy.orm import Mapped\n",
        "from typing import List\n",
        "\n",
        "Base = declarative_base()\n",
        "\n",
        "# Define the User model\n",
        "class User(Base):\n",
        "    __tablename__ = \"user_account\"\n",
        "    id = Column(Integer, primary_key=True)\n",
        "    name = Column(String(30))\n",
        "    fullname = Column(String)\n",
        "\n",
        "# Define the Address model to maintain consistency\n",
        "class Address(Base):\n",
        "    __tablename__ = \"address\"\n",
        "    id = Column(Integer, primary_key=True)\n",
        "    email_address = Column(String(100))\n",
        "    user_id = Column(Integer, ForeignKey(\"user_account.id\"))\n",
        "    user: Mapped[\"User\"] = relationship(\"User\", back_populates=\"addresses\")\n",
        "\n",
        "User.addresses = relationship(\"Address\", back_populates=\"user\")\n",
        "\n",
        "# Create an in-memory SQLite database\n",
        "engine = create_engine(\"sqlite+pysqlite:///:memory:\", echo=True)\n",
        "\n",
        "# Create tables in the database\n",
        "Base.metadata.create_all(engine)\n",
        "\n",
        "# Create a session factory\n",
        "SessionLocal = sessionmaker(bind=engine)\n",
        "\n",
        "# Add sample data\n",
        "with SessionLocal() as session:\n",
        "    new_user = User(name=\"John\", fullname=\"John Doe\")\n",
        "    session.add(new_user)\n",
        "    session.commit()\n",
        "\n",
        "# Select data using ORM\n",
        "with Session(engine) as session:\n",
        "    stmt = select(User)\n",
        "    result = session.execute(stmt)\n",
        "    for user in result.scalars():\n",
        "        print(user.name, user.fullname)"
      ],
      "id": "88cb7800",
      "execution_count": null,
      "outputs": []
    },
    {
      "cell_type": "markdown",
      "metadata": {},
      "source": [
        "### Discussion:\n",
        "\n",
        "1. **Imports and Base Declaration:**\n",
        "    ```python\n",
        "    from sqlalchemy import create_engine, Column, Integer, String, select\n",
        "    from sqlalchemy.orm import declarative_base, sessionmaker, relationship, Session\n",
        "    from sqlalchemy.orm import Mapped\n",
        "    from typing import List\n",
        "\n",
        "    Base = declarative_base()\n",
        "    ```\n",
        "    - These imports include necessary modules and functions from SQLAlchemy and the `typing` module for type annotations.\n",
        "\n",
        "2. **Defining the User Model:**\n",
        "    ```python\n",
        "    class User(Base):\n",
        "        __tablename__ = \"user_account\"\n",
        "        id = Column(Integer, primary_key=True)\n",
        "        name = Column(String(30))\n",
        "        fullname = Column(String)\n",
        "    ```\n",
        "    - Defines the `User` class with columns `id`, `name`, and `fullname`.\n",
        "\n",
        "3. **Defining the Address Model:**\n",
        "    ```python\n",
        "    class Address(Base):\n",
        "        __tablename__ = \"address\"\n",
        "        id = Column(Integer, primary_key=True)\n",
        "        email_address = Column(String(100))\n",
        "        user_id = Column(Integer, ForeignKey(\"user_account.id\"))\n",
        "        user: Mapped[\"User\"] = relationship(\"User\", back_populates=\"addresses\")\n",
        "    \n",
        "    User.addresses = relationship(\"Address\", back_populates=\"user\")\n",
        "    ```\n",
        "    - Defines the `Address` class to maintain consistency and relationship with `User`.\n",
        "\n",
        "4. **Creating the Database and Tables:**\n",
        "    ```python\n",
        "    engine = create_engine(\"sqlite+pysqlite:///:memory:\", echo=True)\n",
        "    Base.metadata.create_all(engine)\n",
        "    ```\n",
        "    - Creates an in-memory SQLite database and the tables defined by the models.\n",
        "\n",
        "5. **Creating a Session Factory:**\n",
        "    ```python\n",
        "    SessionLocal = sessionmaker(bind=engine)\n",
        "    ```\n",
        "    - Creates a session factory for interacting with the database.\n",
        "\n",
        "6. **Adding Sample Data:**\n",
        "    ```python\n",
        "    with SessionLocal() as session:\n",
        "        new_user = User(name=\"John\", fullname=\"John Doe\")\n",
        "        session.add(new_user)\n",
        "        session.commit()\n",
        "    ```\n",
        "    - Adds a sample user to the database and commits the transaction.\n",
        "\n",
        "7. **Selecting Data Using ORM:**\n",
        "    ```python\n",
        "    with Session(engine) as session:\n",
        "        stmt = select(User)\n",
        "        result = session.execute(stmt)\n",
        "        for user in result.scalars():\n",
        "            print(user.name, user.fullname)\n",
        "    ```\n",
        "    - Creates a session to select data from the `User` table.\n",
        "    - Executes a `select` statement and iterates over the result to print each user's name and fullname.\n",
        "\n",
        "### Using UPDATE and DELETE Statements\n",
        "\n",
        "To update or delete data, we use the `Update` and `Delete` constructs.\n",
        "\n",
        "#### Example: Updating Data with Core\n"
      ],
      "id": "560da89f"
    },
    {
      "cell_type": "code",
      "metadata": {},
      "source": [
        "from sqlalchemy import update\n",
        "\n",
        "# Update data in the user_account table\n",
        "with engine.connect() as conn:\n",
        "    stmt = update(user_table).where(user_table.c.name == \"john\").values(fullname=\"Jonathan Doe\")\n",
        "    conn.execute(stmt)\n",
        "    conn.commit()"
      ],
      "id": "23c39516",
      "execution_count": null,
      "outputs": []
    },
    {
      "cell_type": "markdown",
      "metadata": {},
      "source": [
        "#### Example: Deleting Data with Core\n"
      ],
      "id": "d7d78a35"
    },
    {
      "cell_type": "code",
      "metadata": {},
      "source": [
        "from sqlalchemy import delete\n",
        "\n",
        "# Delete data from the user_account table\n",
        "with engine.connect() as conn:\n",
        "    stmt = delete(user_table).where(user_table.c.name == \"john\")\n",
        "    conn.execute(stmt)\n",
        "    conn.commit()"
      ],
      "id": "4e249725",
      "execution_count": null,
      "outputs": []
    },
    {
      "cell_type": "markdown",
      "metadata": {},
      "source": [
        "### Data Manipulation with ORM\n",
        "\n",
        "For ORM-specific data manipulation, we use the Session object.\n",
        "\n",
        "#### Example: Inserting Data with ORM\n"
      ],
      "id": "d9548561"
    },
    {
      "cell_type": "code",
      "metadata": {},
      "source": [
        "# Insert data using ORM\n",
        "with Session(engine) as session:\n",
        "    new_user = User(name=\"sandy\", fullname=\"Sandy Cheeks\")\n",
        "    session.add(new_user)\n",
        "    session.commit()"
      ],
      "id": "e055ea45",
      "execution_count": null,
      "outputs": []
    },
    {
      "cell_type": "markdown",
      "metadata": {},
      "source": [
        "#### Example: Updating Data with ORM\n"
      ],
      "id": "f030bcc0"
    },
    {
      "cell_type": "code",
      "metadata": {},
      "source": [
        "# Update data using ORM\n",
        "with Session(engine) as session:\n",
        "    stmt = update(User).where(User.name == \"sandy\").values(fullname=\"Sandra Cheeks\")\n",
        "    session.execute(stmt)\n",
        "    session.commit()"
      ],
      "id": "3314aefa",
      "execution_count": null,
      "outputs": []
    },
    {
      "cell_type": "markdown",
      "metadata": {},
      "source": [
        "#### Example: Deleting Data with ORM\n"
      ],
      "id": "8fede009"
    },
    {
      "cell_type": "code",
      "metadata": {},
      "source": [
        "# Delete data using ORM\n",
        "with Session(engine) as session:\n",
        "    stmt = delete(User).where(User.name == \"sandy\")\n",
        "    session.execute(stmt)\n",
        "    session.commit()"
      ],
      "id": "50e68954",
      "execution_count": null,
      "outputs": []
    },
    {
      "cell_type": "markdown",
      "metadata": {},
      "source": [
        "### Conclusion\n",
        "\n",
        "In this tutorial, we covered the basics of creating, selecting, and manipulating data using SQLAlchemy. We demonstrated how to use the Core Insert, Select, Update, and Delete constructs, as well as their ORM equivalents. Understanding these concepts allows you to effectively manage data within your SQLAlchemy applications.\n",
        "\n",
        "## Using INSERT Statements with SQLAlchemy\n",
        "\n",
        "In SQLAlchemy, whether using Core or the ORM, a SQL INSERT statement is generated directly using the `insert()` function. This function generates a new instance of `Insert` which represents an INSERT statement in SQL, adding new data into a table. This tutorial will detail how to use the Core methods for generating SQL INSERT statements to add new rows to a table. Understanding this process is useful even when using the ORM, as the ORM automates many of these steps.\n",
        "\n",
        "### The `insert()` SQL Expression Construct\n",
        "\n",
        "The `insert()` function creates an instance of the `Insert` construct, which represents an INSERT statement in SQL. Here’s a simple example:\n"
      ],
      "id": "dfcfe5b3"
    },
    {
      "cell_type": "code",
      "metadata": {},
      "source": [
        "from sqlalchemy import create_engine, MetaData, Table, Column, Integer, String, insert\n",
        "\n",
        "# Create an in-memory SQLite database\n",
        "engine = create_engine(\"sqlite+pysqlite:///:memory:\", echo=True)\n",
        "metadata = MetaData()\n",
        "\n",
        "# Define a user_account table\n",
        "user_table = Table(\n",
        "    \"user_account\", metadata,\n",
        "    Column(\"id\", Integer, primary_key=True),\n",
        "    Column(\"name\", String(30)),\n",
        "    Column(\"fullname\", String)\n",
        ")\n",
        "\n",
        "# Create the table in the database\n",
        "metadata.create_all(engine)\n",
        "\n",
        "# Create an INSERT statement\n",
        "stmt = insert(user_table).values(name=\"spongebob\", fullname=\"Spongebob Squarepants\")\n",
        "print(stmt)"
      ],
      "id": "523c36ef",
      "execution_count": null,
      "outputs": []
    },
    {
      "cell_type": "markdown",
      "metadata": {},
      "source": [
        "The `stmt` variable is an instance of `Insert`. The stringified form shows the general form of the SQL being produced. The statement is parameterized, meaning it uses placeholders for the values to be inserted.\n",
        "\n",
        "### Executing the Statement\n",
        "\n",
        "To execute the statement and insert data into the `user_table`, we use a connection object:\n"
      ],
      "id": "ff7ec6d5"
    },
    {
      "cell_type": "code",
      "metadata": {},
      "source": [
        "with engine.connect() as conn:\n",
        "    result = conn.execute(stmt)\n",
        "    conn.commit()"
      ],
      "id": "5ce7ebba",
      "execution_count": null,
      "outputs": []
    },
    {
      "cell_type": "markdown",
      "metadata": {},
      "source": [
        "This will insert the row into the `user_table`. The SQL and the parameters used will be logged:\n",
        "\n",
        "```\n",
        "BEGIN (implicit)\n",
        "INSERT INTO user_account (name, fullname) VALUES (?, ?)\n",
        "[...] ('spongebob', 'Spongebob Squarepants')\n",
        "COMMIT\n",
        "```\n",
        "\n",
        "To get the primary key of the inserted row:\n"
      ],
      "id": "cc2a8c91"
    },
    {
      "cell_type": "code",
      "metadata": {},
      "source": [
        "print(result.inserted_primary_key)"
      ],
      "id": "458935e7",
      "execution_count": null,
      "outputs": []
    },
    {
      "cell_type": "markdown",
      "metadata": {},
      "source": [
        "### Automatic VALUES Clause\n",
        "\n",
        "If we don’t use `Insert.values()` and just print an \"empty\" statement, it will include all columns in the table:\n"
      ],
      "id": "91a35807"
    },
    {
      "cell_type": "code",
      "metadata": {},
      "source": [
        "print(insert(user_table))"
      ],
      "id": "79a2af21",
      "execution_count": null,
      "outputs": []
    },
    {
      "cell_type": "markdown",
      "metadata": {},
      "source": [
        "When executing an empty `Insert` construct, the actual columns used in the INSERT are determined by the parameters passed to the `Connection.execute()` method:\n"
      ],
      "id": "c2ef6915"
    },
    {
      "cell_type": "code",
      "metadata": {},
      "source": [
        "with engine.connect() as conn:\n",
        "    result = conn.execute(\n",
        "        insert(user_table),\n",
        "        [\n",
        "            {\"name\": \"sandy\", \"fullname\": \"Sandy Cheeks\"},\n",
        "            {\"name\": \"patrick\", \"fullname\": \"Patrick Star\"}\n",
        "        ]\n",
        "    )\n",
        "    conn.commit()"
      ],
      "id": "9c6f50d0",
      "execution_count": null,
      "outputs": []
    },
    {
      "cell_type": "markdown",
      "metadata": {},
      "source": [
        "### INSERT with Subqueries\n",
        "\n",
        "For more complex INSERTs, you can use subqueries. Here's an example that uses a scalar subquery to insert data into the `address_table` based on data in the `user_table`:\n"
      ],
      "id": "da6033ef"
    },
    {
      "cell_type": "code",
      "metadata": {},
      "source": [
        "from sqlalchemy import select, bindparam\n",
        "\n",
        "# Define the address table\n",
        "address_table = Table(\n",
        "    \"address\", metadata,\n",
        "    Column(\"id\", Integer, primary_key=True),\n",
        "    Column(\"user_id\", ForeignKey(\"user_account.id\"), nullable=False),\n",
        "    Column(\"email_address\", String, nullable=False)\n",
        ")\n",
        "\n",
        "# Create the table in the database\n",
        "metadata.create_all(engine)\n",
        "\n",
        "# Scalar subquery\n",
        "scalar_subq = (\n",
        "    select(user_table.c.id)\n",
        "    .where(user_table.c.name == bindparam(\"username\"))\n",
        "    .scalar_subquery()\n",
        ")\n",
        "\n",
        "# Insert into address table using subquery\n",
        "with engine.connect() as conn:\n",
        "    result = conn.execute(\n",
        "        insert(address_table).values(user_id=scalar_subq),\n",
        "        [\n",
        "            {\"username\": \"spongebob\", \"email_address\": \"spongebob@sqlalchemy.org\"},\n",
        "            {\"username\": \"sandy\", \"email_address\": \"sandy@sqlalchemy.org\"},\n",
        "            {\"username\": \"sandy\", \"email_address\": \"sandy@squirrelpower.org\"}\n",
        "        ]\n",
        "    )\n",
        "    conn.commit()"
      ],
      "id": "434a03be",
      "execution_count": null,
      "outputs": []
    },
    {
      "cell_type": "markdown",
      "metadata": {},
      "source": [
        "Here's how you can use the `RETURNING` clause with an `INSERT` statement in SQLAlchemy to return values from the inserted row. This example includes the necessary setup and a working implementation of inserting a row into the `address` table and returning specific columns.\n",
        "\n",
        "### Complete Example: INSERT with RETURNING\n"
      ],
      "id": "a686b153"
    },
    {
      "cell_type": "code",
      "metadata": {},
      "source": [
        "from sqlalchemy import create_engine, Column, Integer, String, ForeignKey, insert, Table, MetaData\n",
        "from sqlalchemy.orm import declarative_base, sessionmaker, relationship, Session\n",
        "from sqlalchemy.orm import Mapped\n",
        "from typing import List\n",
        "\n",
        "Base = declarative_base()\n",
        "metadata = MetaData()\n",
        "\n",
        "# Define the User model\n",
        "class User(Base):\n",
        "    __tablename__ = \"user_account\"\n",
        "    id = Column(Integer, primary_key=True)\n",
        "    name = Column(String(30))\n",
        "    fullname = Column(String)\n",
        "\n",
        "# Define the Address model\n",
        "class Address(Base):\n",
        "    __tablename__ = \"address\"\n",
        "    id = Column(Integer, primary_key=True)\n",
        "    email_address = Column(String(100))\n",
        "    user_id = Column(Integer, ForeignKey(\"user_account.id\"))\n",
        "    user: Mapped[\"User\"] = relationship(\"User\", back_populates=\"addresses\")\n",
        "\n",
        "User.addresses = relationship(\"Address\", back_populates=\"user\")\n",
        "\n",
        "# Create an in-memory SQLite database\n",
        "engine = create_engine(\"sqlite+pysqlite:///:memory:\", echo=True)\n",
        "\n",
        "# Create tables in the database\n",
        "Base.metadata.create_all(engine)\n",
        "\n",
        "# Create a session factory\n",
        "SessionLocal = sessionmaker(bind=engine)\n",
        "\n",
        "# Add sample data to User table\n",
        "with SessionLocal() as session:\n",
        "    new_user = User(name=\"John\", fullname=\"John Doe\")\n",
        "    session.add(new_user)\n",
        "    session.commit()\n",
        "\n",
        "# Reflect the address table from the existing database\n",
        "address_table = Address.__table__\n",
        "\n",
        "# Define the insert statement with returning clause\n",
        "insert_stmt = insert(address_table).values(email_address=\"john.doe@example.com\", user_id=1).returning(address_table.c.id, address_table.c.email_address)\n",
        "print(insert_stmt)\n",
        "\n",
        "# Execute the insert statement and get the returned values\n",
        "with engine.connect() as conn:\n",
        "    result = conn.execute(insert_stmt)\n",
        "    for row in result:\n",
        "        print(row)"
      ],
      "id": "89351e57",
      "execution_count": null,
      "outputs": []
    },
    {
      "cell_type": "markdown",
      "metadata": {},
      "source": [
        "### Explanation:\n",
        "\n",
        "1. **Imports and Base Declaration:**\n",
        "    ```python\n",
        "    from sqlalchemy import create_engine, Column, Integer, String, ForeignKey, insert, Table, MetaData\n",
        "    from sqlalchemy.orm import declarative_base, sessionmaker, relationship, Session\n",
        "    from sqlalchemy.orm import Mapped\n",
        "    from typing import List\n",
        "\n",
        "    Base = declarative_base()\n",
        "    metadata = MetaData()\n",
        "    ```\n",
        "\n",
        "2. **Defining the User Model:**\n",
        "    ```python\n",
        "    class User(Base):\n",
        "        __tablename__ = \"user_account\"\n",
        "        id = Column(Integer, primary_key=True)\n",
        "        name = Column(String(30))\n",
        "        fullname = Column(String)\n",
        "    ```\n",
        "\n",
        "3. **Defining the Address Model:**\n",
        "    ```python\n",
        "    class Address(Base):\n",
        "        __tablename__ = \"address\"\n",
        "        id = Column(Integer, primary_key=True)\n",
        "        email_address = Column(String(100))\n",
        "        user_id = Column(Integer, ForeignKey(\"user_account.id\"))\n",
        "        user: Mapped[\"User\"] = relationship(\"User\", back_populates=\"addresses\")\n",
        "\n",
        "    User.addresses = relationship(\"Address\", back_populates=\"user\")\n",
        "    ```\n",
        "\n",
        "4. **Creating the Database and Tables:**\n",
        "    ```python\n",
        "    engine = create_engine(\"sqlite+pysqlite:///:memory:\", echo=True)\n",
        "    Base.metadata.create_all(engine)\n",
        "    ```\n",
        "\n",
        "5. **Creating a Session Factory and Adding Sample Data:**\n",
        "    ```python\n",
        "    SessionLocal = sessionmaker(bind=engine)\n",
        "\n",
        "    with SessionLocal() as session:\n",
        "        new_user = User(name=\"John\", fullname=\"John Doe\")\n",
        "        session.add(new_user)\n",
        "        session.commit()\n",
        "    ```\n",
        "\n",
        "6. **Reflecting the Address Table and Inserting Data with RETURNING Clause:**\n",
        "    ```python\n",
        "    address_table = Address.__table__\n",
        "\n",
        "    insert_stmt = insert(address_table).values(email_address=\"john.doe@example.com\", user_id=1).returning(address_table.c.id, address_table.c.email_address)\n",
        "    print(insert_stmt)\n",
        "\n",
        "    with engine.connect() as conn:\n",
        "        result = conn.execute(insert_stmt)\n",
        "        for row in result:\n",
        "            print(row)\n",
        "    ```\n",
        "\n",
        "### Output:\n",
        "- The `insert_stmt` will print the generated SQL `INSERT` statement with the `RETURNING` clause.\n",
        "- The returned values from the executed statement will be printed, showing the `id` and `email_address` of the inserted row.\n",
        "\n",
        "This example demonstrates how to use the `RETURNING` clause with an `INSERT` statement in SQLAlchemy to return specific values from the inserted row.\n",
        "\n",
        "### INSERT from SELECT\n",
        "\n",
        "You can also insert rows based on a SELECT statement using the `Insert.from_select()` method:\n"
      ],
      "id": "a223e97a"
    },
    {
      "cell_type": "code",
      "metadata": {},
      "source": [
        "select_stmt = select(user_table.c.id, user_table.c.name + \"@aol.com\")\n",
        "insert_stmt = insert(address_table).from_select([\"user_id\", \"email_address\"], select_stmt)\n",
        "print(insert_stmt)\n",
        "\n",
        "with engine.connect() as conn:\n",
        "    result = conn.execute(insert_stmt)\n",
        "    conn.commit()"
      ],
      "id": "04b11934",
      "execution_count": null,
      "outputs": []
    },
    {
      "cell_type": "markdown",
      "metadata": {},
      "source": [
        "### Conclusion\n",
        "\n",
        "This tutorial covered the basics of using the `insert()` function in SQLAlchemy to create SQL INSERT statements and add data to tables. We explored various ways to insert data, including basic inserts, inserts with subqueries, using the RETURNING clause, and inserting data from a SELECT statement. Understanding these concepts is essential for effective data manipulation in SQLAlchemy applications.\n",
        "\n",
        "## Using SELECT Statements with SQLAlchemy\n",
        "\n",
        "The `select()` function in SQLAlchemy generates a `Select` construct used for all SELECT queries. When passed to methods like `Connection.execute()` in Core and `Session.execute()` in ORM, a SELECT statement is emitted in the current transaction and the result rows are available via the returned `Result` object.\n",
        "\n",
        "### The `select()` SQL Expression Construct\n",
        "\n",
        "The `select()` construct builds a SELECT statement in a generative manner, where each method builds more state onto the object. It can be stringified to see the SQL being generated:\n"
      ],
      "id": "2a424a1a"
    },
    {
      "cell_type": "code",
      "metadata": {},
      "source": [
        "from sqlalchemy import select\n",
        "\n",
        "stmt = select(user_table).where(user_table.c.name == \"spongebob\")\n",
        "print(stmt)"
      ],
      "id": "92cf3c47",
      "execution_count": null,
      "outputs": []
    },
    {
      "cell_type": "markdown",
      "metadata": {},
      "source": [
        "To execute the statement and fetch the results:\n"
      ],
      "id": "37ae9359"
    },
    {
      "cell_type": "code",
      "metadata": {},
      "source": [
        "with engine.connect() as conn:\n",
        "    for row in conn.execute(stmt):\n",
        "        print(row)"
      ],
      "id": "6da59000",
      "execution_count": null,
      "outputs": []
    },
    {
      "cell_type": "markdown",
      "metadata": {},
      "source": [
        "When using the ORM, a `select()` construct composed against ORM entities can be executed using the `Session.execute()` method on the `Session`:\n"
      ],
      "id": "ab21d54e"
    },
    {
      "cell_type": "code",
      "metadata": {},
      "source": [
        "stmt = select(User).where(User.name == \"spongebob\")\n",
        "with Session(engine) as session:\n",
        "    for row in session.execute(stmt):\n",
        "        print(row)"
      ],
      "id": "e55e5ce9",
      "execution_count": null,
      "outputs": []
    },
    {
      "cell_type": "markdown",
      "metadata": {},
      "source": [
        "### Setting the COLUMNS and FROM Clause\n",
        "\n",
        "The `select()` function can accept positional elements representing any number of `Column` and/or `Table` expressions:\n"
      ],
      "id": "034ab45f"
    },
    {
      "cell_type": "code",
      "metadata": {},
      "source": [
        "print(select(user_table))"
      ],
      "id": "322eed03",
      "execution_count": null,
      "outputs": []
    },
    {
      "cell_type": "markdown",
      "metadata": {},
      "source": [
        "Selecting specific columns:\n"
      ],
      "id": "f1cc96cf"
    },
    {
      "cell_type": "code",
      "metadata": {},
      "source": [
        "print(select(user_table.c.name, user_table.c.fullname))"
      ],
      "id": "22756ae6",
      "execution_count": null,
      "outputs": []
    },
    {
      "cell_type": "markdown",
      "metadata": {},
      "source": [
        "### Selecting ORM Entities and Columns\n",
        "\n",
        "Selecting from ORM entities works similarly to selecting from tables. Here’s an example:\n"
      ],
      "id": "b29c62e3"
    },
    {
      "cell_type": "code",
      "metadata": {},
      "source": [
        "print(select(User))"
      ],
      "id": "d73412b2",
      "execution_count": null,
      "outputs": []
    },
    {
      "cell_type": "markdown",
      "metadata": {},
      "source": [
        "When executing this statement with the ORM, the result rows contain instances of the `User` class:\n"
      ],
      "id": "1b417f26"
    },
    {
      "cell_type": "code",
      "metadata": {},
      "source": [
        "row = session.execute(select(User)).first()\n",
        "print(row)"
      ],
      "id": "88f36f3a",
      "execution_count": null,
      "outputs": []
    },
    {
      "cell_type": "markdown",
      "metadata": {},
      "source": [
        "To get the first element directly:\n"
      ],
      "id": "d06b0133"
    },
    {
      "cell_type": "code",
      "metadata": {},
      "source": [
        "user = session.scalars(select(User)).first()\n",
        "print(user)"
      ],
      "id": "51b61aa2",
      "execution_count": null,
      "outputs": []
    },
    {
      "cell_type": "markdown",
      "metadata": {},
      "source": [
        "### The WHERE Clause\n",
        "\n",
        "SQLAlchemy allows composing SQL expressions using standard Python operators:\n"
      ],
      "id": "f88ef11d"
    },
    {
      "cell_type": "code",
      "metadata": {},
      "source": [
        "print(user_table.c.name == \"squidward\")"
      ],
      "id": "36a08e41",
      "execution_count": null,
      "outputs": []
    },
    {
      "cell_type": "markdown",
      "metadata": {},
      "source": [
        "Using these expressions in the `WHERE` clause:\n"
      ],
      "id": "fc662891"
    },
    {
      "cell_type": "code",
      "metadata": {},
      "source": [
        "print(select(user_table).where(user_table.c.name == \"squidward\"))"
      ],
      "id": "539a9b6a",
      "execution_count": null,
      "outputs": []
    },
    {
      "cell_type": "markdown",
      "metadata": {},
      "source": [
        "Combining multiple expressions with `AND`:\n"
      ],
      "id": "03bb0610"
    },
    {
      "cell_type": "code",
      "metadata": {},
      "source": [
        "print(select(address_table.c.email_address).where(user_table.c.name == \"squidward\").where(address_table.c.user_id == user_table.c.id))"
      ],
      "id": "03a6ce59",
      "execution_count": null,
      "outputs": []
    },
    {
      "cell_type": "markdown",
      "metadata": {},
      "source": [
        "The error message indicates that SQLAlchemy is unsure how to perform the join because the left side of the join and the ON clause are not explicitly defined. To fix this, you need to use the `.select_from()` method to specify the table from which to start the join and provide the explicit ON clause.\n",
        "\n",
        "Here's the corrected example:\n",
        "\n",
        "### Complete Example with Explicit Join\n"
      ],
      "id": "a8bfe7eb"
    },
    {
      "cell_type": "code",
      "metadata": {},
      "source": [
        "from sqlalchemy import create_engine, Column, Integer, String, ForeignKey, select, insert, Table, MetaData\n",
        "from sqlalchemy.orm import declarative_base, sessionmaker, relationship, Session\n",
        "from sqlalchemy.orm import Mapped\n",
        "from typing import List\n",
        "\n",
        "Base = declarative_base()\n",
        "metadata = MetaData()\n",
        "\n",
        "# Define the User model\n",
        "class User(Base):\n",
        "    __tablename__ = \"user_account\"\n",
        "    id = Column(Integer, primary_key=True)\n",
        "    name = Column(String(30))\n",
        "    fullname = Column(String)\n",
        "\n",
        "# Define the Address model\n",
        "class Address(Base):\n",
        "    __tablename__ = \"address\"\n",
        "    id = Column(Integer, primary_key=True)\n",
        "    email_address = Column(String(100))\n",
        "    user_id = Column(Integer, ForeignKey(\"user_account.id\"))\n",
        "    user: Mapped[\"User\"] = relationship(\"User\", back_populates=\"addresses\")\n",
        "\n",
        "User.addresses = relationship(\"Address\", back_populates=\"user\")\n",
        "\n",
        "# Create an in-memory SQLite database\n",
        "engine = create_engine(\"sqlite+pysqlite:///:memory:\", echo=True)\n",
        "\n",
        "# Create tables in the database\n",
        "Base.metadata.create_all(engine)\n",
        "\n",
        "# Create a session factory\n",
        "SessionLocal = sessionmaker(bind=engine)\n",
        "\n",
        "# Add sample data to User and Address tables\n",
        "with SessionLocal() as session:\n",
        "    new_user = User(name=\"John\", fullname=\"John Doe\")\n",
        "    session.add(new_user)\n",
        "    session.commit()\n",
        "    \n",
        "    new_address = Address(email_address=\"john.doe@example.com\", user_id=new_user.id)\n",
        "    session.add(new_address)\n",
        "    session.commit()\n",
        "\n",
        "# Reflect the tables from the existing database\n",
        "user_table = User.__table__\n",
        "address_table = Address.__table__\n",
        "\n",
        "# Perform a join between the user and address tables using .select_from() to explicitly define the left side\n",
        "stmt = (\n",
        "    select(user_table.c.name, address_table.c.email_address)\n",
        "    .select_from(user_table.join(address_table, user_table.c.id == address_table.c.user_id))\n",
        ")\n",
        "print(stmt)\n",
        "\n",
        "# Execute the join statement and print the results\n",
        "with engine.connect() as conn:\n",
        "    result = conn.execute(stmt)\n",
        "    for row in result:\n",
        "        print(row)"
      ],
      "id": "71b3a553",
      "execution_count": null,
      "outputs": []
    },
    {
      "cell_type": "markdown",
      "metadata": {},
      "source": [
        "### Explanation:\n",
        "\n",
        "1. **Imports and Base Declaration:**\n",
        "    ```python\n",
        "    from sqlalchemy import create_engine, Column, Integer, String, ForeignKey, select, insert, Table, MetaData\n",
        "    from sqlalchemy.orm import declarative_base, sessionmaker, relationship, Session\n",
        "    from sqlalchemy.orm import Mapped\n",
        "    from typing import List\n",
        "\n",
        "    Base = declarative_base()\n",
        "    metadata = MetaData()\n",
        "    ```\n",
        "\n",
        "2. **Defining the User and Address Models:**\n",
        "    ```python\n",
        "    class User(Base):\n",
        "        __tablename__ = \"user_account\"\n",
        "        id = Column(Integer, primary_key=True)\n",
        "        name = Column(String(30))\n",
        "        fullname = Column(String)\n",
        "\n",
        "    class Address(Base):\n",
        "        __tablename__ = \"address\"\n",
        "        id = Column(Integer, primary_key=True)\n",
        "        email_address = Column(String(100))\n",
        "        user_id = Column(Integer, ForeignKey(\"user_account.id\"))\n",
        "        user: Mapped[\"User\"] = relationship(\"User\", back_populates=\"addresses\")\n",
        "\n",
        "    User.addresses = relationship(\"Address\", back_populates=\"user\")\n",
        "    ```\n",
        "\n",
        "3. **Creating the Database and Tables:**\n",
        "    ```python\n",
        "    engine = create_engine(\"sqlite+pysqlite:///:memory:\", echo=True)\n",
        "    Base.metadata.create_all(engine)\n",
        "    ```\n",
        "\n",
        "4. **Creating a Session Factory and Adding Sample Data:**\n",
        "    ```python\n",
        "    SessionLocal = sessionmaker(bind=engine)\n",
        "\n",
        "    with SessionLocal() as session:\n",
        "        new_user = User(name=\"John\", fullname=\"John Doe\")\n",
        "        session.add(new_user)\n",
        "        session.commit()\n",
        "        \n",
        "        new_address = Address(email_address=\"john.doe@example.com\", user_id=new_user.id)\n",
        "        session.add(new_address)\n",
        "        session.commit()\n",
        "    ```\n",
        "\n",
        "5. **Reflecting the Tables:**\n",
        "    ```python\n",
        "    user_table = User.__table__\n",
        "    address_table = Address.__table__\n",
        "    ```\n",
        "\n",
        "6. **Performing a Join Between the Tables Using `.select_from()`:**\n",
        "    ```python\n",
        "    stmt = (\n",
        "        select(user_table.c.name, address_table.c.email_address)\n",
        "        .select_from(user_table.join(address_table, user_table.c.id == address_table.c.user_id))\n",
        "    )\n",
        "    print(stmt)\n",
        "    ```\n",
        "\n",
        "7. **Executing the Join Statement and Printing the Results:**\n",
        "    ```python\n",
        "    with engine.connect() as conn:\n",
        "        result = conn.execute(stmt)\n",
        "        for row in result:\n",
        "            print(row)\n",
        "    ```\n",
        "\n",
        "### Output:\n",
        "- The `stmt` will print the generated SQL `SELECT` statement with the join.\n",
        "- The returned values from the executed statement will be printed, showing the `name` and `email_address` of the joined rows.\n",
        "\n",
        "This example demonstrates how to perform a join between the `user` and `address` tables using SQLAlchemy's ORM with an explicit `select_from` and `join`, ensuring the join is correctly defined and executed.\n",
        "\n",
        "Let's address the issues in the provided code for ordering and grouping results. We'll make sure the necessary imports are included and the ORM relationships are correctly defined. We'll also ensure the examples are executed properly.\n",
        "\n",
        "### Complete Example with ORDER BY, GROUP BY, HAVING\n"
      ],
      "id": "abeeb076"
    },
    {
      "cell_type": "code",
      "metadata": {},
      "source": [
        "from sqlalchemy import create_engine, Column, Integer, String, ForeignKey, select, func, Table, MetaData\n",
        "from sqlalchemy.orm import declarative_base, sessionmaker, relationship, Session\n",
        "from sqlalchemy.orm import Mapped\n",
        "from typing import List\n",
        "\n",
        "Base = declarative_base()\n",
        "metadata = MetaData()\n",
        "\n",
        "# Define the User model\n",
        "class User(Base):\n",
        "    __tablename__ = \"user_account\"\n",
        "    id = Column(Integer, primary_key=True)\n",
        "    name = Column(String(30))\n",
        "    fullname = Column(String)\n",
        "\n",
        "# Define the Address model\n",
        "class Address(Base):\n",
        "    __tablename__ = \"address\"\n",
        "    id = Column(Integer, primary_key=True)\n",
        "    email_address = Column(String(100))\n",
        "    user_id = Column(Integer, ForeignKey(\"user_account.id\"))\n",
        "    user: Mapped[\"User\"] = relationship(\"User\", back_populates=\"addresses\")\n",
        "\n",
        "User.addresses = relationship(\"Address\", back_populates=\"user\")\n",
        "\n",
        "# Create an in-memory SQLite database\n",
        "engine = create_engine(\"sqlite+pysqlite:///:memory:\", echo=True)\n",
        "\n",
        "# Create tables in the database\n",
        "Base.metadata.create_all(engine)\n",
        "\n",
        "# Create a session factory\n",
        "SessionLocal = sessionmaker(bind=engine)\n",
        "\n",
        "# Add sample data to User and Address tables\n",
        "with SessionLocal() as session:\n",
        "    user1 = User(name=\"John\", fullname=\"John Doe\")\n",
        "    user2 = User(name=\"Jane\", fullname=\"Jane Doe\")\n",
        "    session.add_all([user1, user2])\n",
        "    session.commit()\n",
        "    \n",
        "    addresses = [\n",
        "        Address(email_address=\"john.doe@example.com\", user_id=user1.id),\n",
        "        Address(email_address=\"jane.doe@example.com\", user_id=user2.id),\n",
        "        Address(email_address=\"john.doe2@example.com\", user_id=user1.id)\n",
        "    ]\n",
        "    session.add_all(addresses)\n",
        "    session.commit()\n",
        "\n",
        "# Reflect the tables from the existing database\n",
        "user_table = User.__table__\n",
        "address_table = Address.__table__\n",
        "\n",
        "# Ordering results\n",
        "stmt_order_by = select(user_table).order_by(user_table.c.name)\n",
        "print(stmt_order_by)\n",
        "\n",
        "with engine.connect() as conn:\n",
        "    result = conn.execute(stmt_order_by)\n",
        "    for row in result:\n",
        "        print(row)\n",
        "\n",
        "# Grouping results\n",
        "stmt_group_by = (\n",
        "    select(User.name, func.count(Address.id).label(\"count\"))\n",
        "    .join(Address)\n",
        "    .group_by(User.name)\n",
        "    .having(func.count(Address.id) > 1)\n",
        ")\n",
        "print(stmt_group_by)\n",
        "\n",
        "with engine.connect() as conn:\n",
        "    result = conn.execute(stmt_group_by)\n",
        "    print(result.all())"
      ],
      "id": "56a61aaa",
      "execution_count": null,
      "outputs": []
    },
    {
      "cell_type": "markdown",
      "metadata": {},
      "source": [
        "### Explanation:\n",
        "\n",
        "1. **Imports and Base Declaration:**\n",
        "    ```python\n",
        "    from sqlalchemy import create_engine, Column, Integer, String, ForeignKey, select, func, Table, MetaData\n",
        "    from sqlalchemy.orm import declarative_base, sessionmaker, relationship, Session\n",
        "    from sqlalchemy.orm import Mapped\n",
        "    from typing import List\n",
        "\n",
        "    Base = declarative_base()\n",
        "    metadata = MetaData()\n",
        "    ```\n",
        "\n",
        "2. **Defining the User and Address Models:**\n",
        "    ```python\n",
        "    class User(Base):\n",
        "        __tablename__ = \"user_account\"\n",
        "        id = Column(Integer, primary_key=True)\n",
        "        name = Column(String(30))\n",
        "        fullname = Column(String)\n",
        "\n",
        "    class Address(Base):\n",
        "        __tablename__ = \"address\"\n",
        "        id = Column(Integer, primary_key=True)\n",
        "        email_address = Column(String(100))\n",
        "        user_id = Column(Integer, ForeignKey(\"user_account.id\"))\n",
        "        user: Mapped[\"User\"] = relationship(\"User\", back_populates=\"addresses\")\n",
        "\n",
        "    User.addresses = relationship(\"Address\", back_populates=\"user\")\n",
        "    ```\n",
        "\n",
        "3. **Creating the Database and Tables:**\n",
        "    ```python\n",
        "    engine = create_engine(\"sqlite+pysqlite:///:memory:\", echo=True)\n",
        "    Base.metadata.create_all(engine)\n",
        "    ```\n",
        "\n",
        "4. **Creating a Session Factory and Adding Sample Data:**\n",
        "    ```python\n",
        "    SessionLocal = sessionmaker(bind=engine)\n",
        "\n",
        "    with SessionLocal() as session:\n",
        "        user1 = User(name=\"John\", fullname=\"John Doe\")\n",
        "        user2 = User(name=\"Jane\", fullname=\"Jane Doe\")\n",
        "        session.add_all([user1, user2])\n",
        "        session.commit()\n",
        "        \n",
        "        addresses = [\n",
        "            Address(email_address=\"john.doe@example.com\", user_id=user1.id),\n",
        "            Address(email_address=\"jane.doe@example.com\", user_id=user2.id),\n",
        "            Address(email_address=\"john.doe2@example.com\", user_id=user1.id)\n",
        "        ]\n",
        "        session.add_all(addresses)\n",
        "        session.commit()\n",
        "    ```\n",
        "\n",
        "5. **Reflecting the Tables:**\n",
        "    ```python\n",
        "    user_table = User.__table__\n",
        "    address_table = Address.__table__\n",
        "    ```\n",
        "\n",
        "6. **Ordering Results:**\n",
        "    ```python\n",
        "    stmt_order_by = select(user_table).order_by(user_table.c.name)\n",
        "    print(stmt_order_by)\n",
        "\n",
        "    with engine.connect() as conn:\n",
        "        result = conn.execute(stmt_order_by)\n",
        "        for row in result:\n",
        "            print(row)\n",
        "    ```\n",
        "\n",
        "7. **Grouping Results:**\n",
        "    ```python\n",
        "    stmt_group_by = (\n",
        "        select(User.name, func.count(Address.id).label(\"count\"))\n",
        "        .join(Address)\n",
        "        .group_by(User.name)\n",
        "        .having(func.count(Address.id) > 1)\n",
        "    )\n",
        "    print(stmt_group_by)\n",
        "\n",
        "    with engine.connect() as conn:\n",
        "        result = conn.execute(stmt_group_by)\n",
        "        print(result.all())\n",
        "    ```\n",
        "\n",
        "### Output:\n",
        "- **Ordering Results**: The `stmt_order_by` will print the generated SQL `SELECT` statement with the `ORDER BY` clause. The results will be ordered by the `name` column.\n",
        "- **Grouping Results**: The `stmt_group_by` will print the generated SQL `SELECT` statement with the `GROUP BY` and `HAVING` clauses. The results will be grouped by the `name` column, and only groups with more than one address will be included in the results.\n",
        "\n",
        "This example demonstrates how to order and group results using SQLAlchemy's ORM, including adding sample data, performing the operations, and printing the results.\n",
        "\n",
        "### Subqueries and CTEs\n",
        "\n",
        "Creating and using subqueries:\n"
      ],
      "id": "de48c983"
    },
    {
      "cell_type": "code",
      "metadata": {},
      "source": [
        "subq = select(func.count(address_table.c.id).label(\"count\"), address_table.c.user_id).group_by(address_table.c.user_id).subquery()\n",
        "print(subq)"
      ],
      "id": "c9dcd485",
      "execution_count": null,
      "outputs": []
    },
    {
      "cell_type": "markdown",
      "metadata": {},
      "source": [
        "Output:\n",
        "\n",
        "```\n",
        "SELECT count(address.id) AS count, address.user_id\n",
        "FROM address GROUP BY address.user_id\n",
        "```\n",
        "\n",
        "Using subqueries in a larger `SELECT`:\n"
      ],
      "id": "87efa692"
    },
    {
      "cell_type": "code",
      "metadata": {},
      "source": [
        "stmt = select(user_table.c.name, user_table.c.fullname, subq.c.count).join_from(user_table, subq)\n",
        "print(stmt)"
      ],
      "id": "38335f8b",
      "execution_count": null,
      "outputs": []
    },
    {
      "cell_type": "markdown",
      "metadata": {},
      "source": [
        "Output:\n",
        "\n",
        "```\n",
        "SELECT user_account.name, user_account.fullname, anon_1.count\n",
        "FROM user_account JOIN (SELECT count(address.id) AS count, address.user_id\n",
        "FROM address GROUP BY address.user_id) AS anon_1 ON user_account.id = anon_1.user_id\n",
        "```\n",
        "\n",
        "Using CTEs (Common Table Expressions):\n"
      ],
      "id": "c3657185"
    },
    {
      "cell_type": "code",
      "metadata": {},
      "source": [
        "cte_obj = select(func.count(address_table.c.id).label(\"count\"), address_table.c.user_id).group_by(address_table.c.user_id).cte()\n",
        "stmt = select(user_table.c.name, user_table.c.fullname, cte_obj.c.count).join_from(user_table, cte_obj)\n",
        "print(stmt)"
      ],
      "id": "7c909042",
      "execution_count": null,
      "outputs": []
    },
    {
      "cell_type": "markdown",
      "metadata": {},
      "source": [
        "Output:\n",
        "\n",
        "```\n",
        "WITH anon_1 AS\n",
        "(SELECT count(address.id) AS count, address.user_id AS user_id\n",
        "FROM address GROUP BY address.user_id)\n",
        " SELECT user_account.name, user_account.fullname, anon_1.count\n",
        "FROM user_account JOIN anon_1 ON user_account.id = anon_1.user_id\n",
        "```\n",
        "\n",
        "### EXISTS Subqueries\n",
        "\n",
        "Using EXISTS:\n"
      ],
      "id": "57c8cccc"
    },
    {
      "cell_type": "code",
      "metadata": {},
      "source": [
        "subq = select(func.count(address_table.c.id)).where(user_table.c.id == address_table.c.user_id).group_by(address_table.c.user_id).having(func.count(address_table.c.id) > 1).exists()\n",
        "with engine.connect() as conn:\n",
        "    result = conn.execute(select(user_table.c.name).where(subq))\n",
        "    print(result.all())"
      ],
      "id": "b8d93626",
      "execution_count": null,
      "outputs": []
    },
    {
      "cell_type": "markdown",
      "metadata": {},
      "source": [
        "Output:\n",
        "\n",
        "```\n",
        "BEGIN (implicit)\n",
        "SELECT user_account.name\n",
        "FROM user_account\n",
        "WHERE EXISTS (SELECT count(address.id) AS count_1\n",
        "FROM address\n",
        "WHERE user_account.id = address.user_id GROUP BY address.user_id\n",
        "HAVING count(address.id) > ?)\n",
        "[...] (1,)\n",
        "[('sandy',)]\n",
        "ROLLBACK\n",
        "```\n",
        "\n",
        "### Working with SQL Functions\n",
        "\n",
        "Using SQL functions:\n"
      ],
      "id": "f7ac719c"
    },
    {
      "cell_type": "code",
      "metadata": {},
      "source": [
        "from sqlalchemy import func\n",
        "\n",
        "stmt = select(func.count()).select_from(user_table)\n",
        "with engine.connect() as conn:\n",
        "    result = conn.execute(stmt)\n",
        "    print(result.all())"
      ],
      "id": "20ac2142",
      "execution_count": null,
      "outputs": []
    },
    {
      "cell_type": "markdown",
      "metadata": {},
      "source": [
        "Output:\n",
        "\n",
        "```\n",
        "BEGIN (implicit)\n",
        "SELECT count(*) AS count_1\n",
        "FROM user_account\n",
        "[...] ()\n",
        "[(3,)]\n",
        "ROLLBACK\n",
        "```\n",
        "\n",
        "### Conclusion\n",
        "\n",
        "This tutorial covers the basics of using the `select()` function in SQLAlchemy to create SQL SELECT statements and retrieve data from tables. We explored various aspects such as setting columns, using WHERE clauses, performing joins, and using advanced features like subqueries, CTEs, and SQL functions. Understanding these concepts is essential for effective querying in SQLAlchemy applications.\n",
        "\n",
        "## Using UPDATE and DELETE Statements with SQLAlchemy\n",
        "\n",
        "So far, we've covered `Insert` statements to get data into the database and `Select` statements to retrieve it. Now, we'll cover the `Update` and `Delete` constructs, used to modify and delete existing rows in a table. This tutorial focuses on these constructs from a Core-centric perspective.\n",
        "\n",
        "### The `update()` SQL Expression Construct\n",
        "\n",
        "The `update()` function generates a new instance of `Update`, representing an SQL `UPDATE` statement to modify existing data in a table.\n",
        "\n",
        "A basic `UPDATE` statement:\n"
      ],
      "id": "f246b8ea"
    },
    {
      "cell_type": "code",
      "metadata": {},
      "source": [
        "from sqlalchemy import update\n",
        "\n",
        "stmt = (\n",
        "    update(user_table)\n",
        "    .where(user_table.c.name == \"patrick\")\n",
        "    .values(fullname=\"Patrick the Star\")\n",
        ")\n",
        "print(stmt)"
      ],
      "id": "167c8db2",
      "execution_count": null,
      "outputs": []
    },
    {
      "cell_type": "markdown",
      "metadata": {},
      "source": [
        "Output:\n",
        "\n",
        "```\n",
        "UPDATE user_account SET fullname=:fullname WHERE user_account.name = :name_1\n",
        "```\n",
        "\n",
        "The `Update.values()` method controls the `SET` elements of the `UPDATE` statement. You can pass parameters using the column names as keyword arguments.\n",
        "\n",
        "#### Using Expressions in UPDATE\n",
        "\n",
        "You can use column expressions within the `SET` clause:\n"
      ],
      "id": "8ec0698f"
    },
    {
      "cell_type": "code",
      "metadata": {},
      "source": [
        "stmt = update(user_table).values(fullname=\"Username: \" + user_table.c.name)\n",
        "print(stmt)"
      ],
      "id": "404b9099",
      "execution_count": null,
      "outputs": []
    },
    {
      "cell_type": "markdown",
      "metadata": {},
      "source": [
        "Output:\n",
        "\n",
        "```\n",
        "UPDATE user_account SET fullname=(:name_1 || user_account.name)\n",
        "```\n",
        "\n",
        "#### Executing the Statement with Multiple Parameter Sets\n",
        "\n",
        "To support multiple parameter sets with the same statement, use the `bindparam()` construct:\n"
      ],
      "id": "08f67c65"
    },
    {
      "cell_type": "code",
      "metadata": {},
      "source": [
        "from sqlalchemy import bindparam\n",
        "\n",
        "stmt = (\n",
        "    update(user_table)\n",
        "    .where(user_table.c.name == bindparam(\"oldname\"))\n",
        "    .values(name=bindparam(\"newname\"))\n",
        ")\n",
        "with engine.begin() as conn:\n",
        "    conn.execute(\n",
        "        stmt,\n",
        "        [\n",
        "            {\"oldname\": \"jack\", \"newname\": \"ed\"},\n",
        "            {\"oldname\": \"wendy\", \"newname\": \"mary\"},\n",
        "            {\"oldname\": \"jim\", \"newname\": \"jake\"},\n",
        "        ],\n",
        "    )"
      ],
      "id": "8afb11bb",
      "execution_count": null,
      "outputs": []
    },
    {
      "cell_type": "markdown",
      "metadata": {},
      "source": [
        "Output:\n",
        "\n",
        "```\n",
        "BEGIN (implicit)\n",
        "UPDATE user_account SET name=? WHERE user_account.name = ?\n",
        "[...] [('ed', 'jack'), ('mary', 'wendy'), ('jake', 'jim')]\n",
        "COMMIT\n",
        "```\n",
        "\n",
        "### Advanced UPDATE Techniques\n",
        "\n",
        "#### Correlated Updates\n",
        "\n",
        "An `UPDATE` statement can use rows from other tables by employing a correlated subquery:\n"
      ],
      "id": "09172d2c"
    },
    {
      "cell_type": "code",
      "metadata": {},
      "source": [
        "scalar_subq = (\n",
        "    select(address_table.c.email_address)\n",
        "    .where(address_table.c.user_id == user_table.c.id)\n",
        "    .order_by(address_table.c.id)\n",
        "    .limit(1)\n",
        "    .scalar_subquery()\n",
        ")\n",
        "update_stmt = update(user_table).values(fullname=scalar_subq)\n",
        "print(update_stmt)"
      ],
      "id": "0ff00e68",
      "execution_count": null,
      "outputs": []
    },
    {
      "cell_type": "markdown",
      "metadata": {},
      "source": [
        "Output:\n",
        "\n",
        "```\n",
        "UPDATE user_account SET fullname=(SELECT address.email_address\n",
        "FROM address\n",
        "WHERE address.user_id = user_account.id ORDER BY address.id\n",
        "LIMIT :param_1)\n",
        "```\n",
        "\n",
        "#### UPDATE..FROM Syntax\n",
        "\n",
        "Some databases support an `UPDATE FROM` syntax:\n"
      ],
      "id": "8d7466b1"
    },
    {
      "cell_type": "code",
      "metadata": {},
      "source": [
        "update_stmt = (\n",
        "    update(user_table)\n",
        "    .where(user_table.c.id == address_table.c.user_id)\n",
        "    .where(address_table.c.email_address == \"patrick@aol.com\")\n",
        "    .values(fullname=\"Pat\")\n",
        ")\n",
        "print(update_stmt)"
      ],
      "id": "52a68dbf",
      "execution_count": null,
      "outputs": []
    },
    {
      "cell_type": "markdown",
      "metadata": {},
      "source": [
        "Output:\n",
        "\n",
        "```\n",
        "UPDATE user_account SET fullname=:fullname FROM address\n",
        "WHERE user_account.id = address.user_id AND address.email_address = :email_address_1\n",
        "```\n",
        "\n",
        "### The `delete()` SQL Expression Construct\n",
        "\n",
        "The `delete()` function generates a new instance of `Delete`, representing an SQL `DELETE` statement to remove rows from a table.\n",
        "\n",
        "A basic `DELETE` statement:\n"
      ],
      "id": "2ffc9da1"
    },
    {
      "cell_type": "code",
      "metadata": {},
      "source": [
        "from sqlalchemy import delete\n",
        "\n",
        "stmt = delete(user_table).where(user_table.c.name == \"patrick\")\n",
        "print(stmt)"
      ],
      "id": "d57faf58",
      "execution_count": null,
      "outputs": []
    },
    {
      "cell_type": "markdown",
      "metadata": {},
      "source": [
        "Output:\n",
        "\n",
        "```\n",
        "DELETE FROM user_account WHERE user_account.name = :name_1\n",
        "```\n",
        "\n",
        "### Advanced DELETE Techniques\n",
        "\n",
        "#### Multiple Table Deletes\n",
        "\n",
        "Like `Update`, `Delete` supports correlated subqueries and backend-specific multiple table syntaxes, such as `DELETE FROM..USING` on MySQL:\n"
      ],
      "id": "6edb9105"
    },
    {
      "cell_type": "code",
      "metadata": {},
      "source": [
        "delete_stmt = (\n",
        "    delete(user_table)\n",
        "    .where(user_table.c.id == address_table.c.user_id)\n",
        "    .where(address_table.c.email_address == \"patrick@aol.com\")\n",
        ")\n",
        "from sqlalchemy.dialects import mysql\n",
        "print(delete_stmt.compile(dialect=mysql.dialect()))"
      ],
      "id": "5a6b6262",
      "execution_count": null,
      "outputs": []
    },
    {
      "cell_type": "markdown",
      "metadata": {},
      "source": [
        "Output:\n",
        "\n",
        "```\n",
        "DELETE FROM user_account USING user_account, address\n",
        "WHERE user_account.id = address.user_id AND address.email_address = %s\n",
        "```\n",
        "\n",
        "### Getting Affected Row Count from UPDATE, DELETE\n",
        "\n",
        "Both `Update` and `Delete` support retrieving the number of rows matched after execution via the `CursorResult.rowcount` attribute:\n"
      ],
      "id": "ea28d058"
    },
    {
      "cell_type": "code",
      "metadata": {},
      "source": [
        "with engine.begin() as conn:\n",
        "    result = conn.execute(\n",
        "        update(user_table)\n",
        "        .values(fullname=\"Patrick McStar\")\n",
        "        .where(user_table.c.name == \"patrick\")\n",
        "    )\n",
        "    print(result.rowcount)"
      ],
      "id": "4662e745",
      "execution_count": null,
      "outputs": []
    },
    {
      "cell_type": "markdown",
      "metadata": {},
      "source": [
        "Output:\n",
        "\n",
        "```\n",
        "BEGIN (implicit)\n",
        "UPDATE user_account SET fullname=? WHERE user_account.name = ?\n",
        "[...] ('Patrick McStar', 'patrick')\n",
        "1\n",
        "COMMIT\n",
        "```\n",
        "\n",
        "### Using RETURNING with UPDATE, DELETE\n",
        "\n",
        "The `RETURNING` clause can be added using `Update.returning()` and `Delete.returning()` methods:\n"
      ],
      "id": "c3b97675"
    },
    {
      "cell_type": "code",
      "metadata": {},
      "source": [
        "update_stmt = (\n",
        "    update(user_table)\n",
        "    .where(user_table.c.name == \"patrick\")\n",
        "    .values(fullname=\"Patrick the Star\")\n",
        "    .returning(user_table.c.id, user_table.c.name)\n",
        ")\n",
        "print(update_stmt)\n",
        "\n",
        "delete_stmt = (\n",
        "    delete(user_table)\n",
        "    .where(user_table.c.name == \"patrick\")\n",
        "    .returning(user_table.c.id, user_table.c.name)\n",
        ")\n",
        "print(delete_stmt)"
      ],
      "id": "edeac022",
      "execution_count": null,
      "outputs": []
    },
    {
      "cell_type": "markdown",
      "metadata": {},
      "source": [
        "Output for `update_stmt`:\n",
        "\n",
        "```\n",
        "UPDATE user_account SET fullname=:fullname\n",
        "WHERE user_account.name = :name_1\n",
        "RETURNING user_account.id, user_account.name\n",
        "```\n",
        "\n",
        "Output for `delete_stmt`:\n",
        "\n",
        "```\n",
        "DELETE FROM user_account\n",
        "WHERE user_account.name = :name_1\n",
        "RETURNING user_account.id, user_account.name\n",
        "```\n",
        "\n",
        "### Further Reading for UPDATE, DELETE\n",
        "\n",
        "See also:\n",
        "\n",
        "- [Update](https://docs.sqlalchemy.org/en/14/core/dml.html#sqlalchemy.sql.expression.Update)\n",
        "- [Delete](https://docs.sqlalchemy.org/en/14/core/dml.html#sqlalchemy.sql.expression.Delete)\n",
        "- [ORM-Enabled INSERT, UPDATE, and DELETE Statements](https://docs.sqlalchemy.org/en/14/orm/query.html#orm-enabled-insert-update-and-delete)\n",
        "\n",
        "Understanding these constructs is crucial for modifying and deleting data efficiently in your SQLAlchemy applications.\n",
        "\n",
        "# Data Manipulation with the ORM in SQLAlchemy\n",
        "\n",
        "This tutorial will guide you through data manipulation using the ORM (Object-Relational Mapping) approach in SQLAlchemy. The ORM focuses on the lifecycle of the `Session` and how it interacts with data manipulation constructs.\n",
        "\n",
        "## Prerequisites\n",
        "\n",
        "Before diving into this section, make sure you have gone through the following:\n",
        "\n",
        "1. **Executing with an ORM Session**: Introduces creating an ORM `Session` object.\n",
        "2. **Using ORM Declarative Forms to Define Table Metadata**: Sets up ORM mappings for entities like `User` and `Address`.\n",
        "3. **Selecting ORM Entities and Columns**: Examples on running `SELECT` statements for ORM entities.\n",
        "\n",
        "## Inserting Rows Using the ORM Unit of Work Pattern\n",
        "\n",
        "### Instances of Classes Represent Rows\n",
        "\n",
        "In the ORM, instances of your classes (e.g., `User`, `Address`) represent rows in the database. Here’s how to create new instances of `User`:\n"
      ],
      "id": "40720178"
    },
    {
      "cell_type": "code",
      "metadata": {},
      "source": [
        "squidward = User(name=\"squidward\", fullname=\"Squidward Tentacles\")\n",
        "krabs = User(name=\"ehkrabs\", fullname=\"Eugene H. Krabs\")"
      ],
      "id": "6de74122",
      "execution_count": null,
      "outputs": []
    },
    {
      "cell_type": "markdown",
      "metadata": {},
      "source": [
        "These objects are in a transient state, meaning they are not yet associated with any database.\n",
        "\n",
        "### Adding Objects to a Session\n",
        "\n",
        "To add these objects to the database, you must add them to a `Session`:\n"
      ],
      "id": "ffcd76e8"
    },
    {
      "cell_type": "code",
      "metadata": {},
      "source": [
        "session = Session(engine)\n",
        "\n",
        "session.add(squidward)\n",
        "session.add(krabs)\n",
        "\n",
        "print(session.new)\n",
        "# IdentitySet([User(id=None, name='squidward', fullname='Squidward Tentacles'), User(id=None, name='ehkrabs', fullname='Eugene H. Krabs')])"
      ],
      "id": "5563acc1",
      "execution_count": null,
      "outputs": []
    },
    {
      "cell_type": "markdown",
      "metadata": {},
      "source": [
        "### Flushing\n",
        "\n",
        "The `Session` uses a pattern called unit of work to accumulate changes and then push them to the database. You can manually flush the session to see the pending SQL statements:\n"
      ],
      "id": "8291d4f5"
    },
    {
      "cell_type": "code",
      "metadata": {},
      "source": [
        "session.flush()"
      ],
      "id": "97e0fff6",
      "execution_count": null,
      "outputs": []
    },
    {
      "cell_type": "markdown",
      "metadata": {},
      "source": [
        "### Autogenerated Primary Key Attributes\n",
        "\n",
        "Once the rows are inserted, the ORM retrieves the new primary key identifiers for each object:\n"
      ],
      "id": "37ab6372"
    },
    {
      "cell_type": "code",
      "metadata": {},
      "source": [
        "print(squidward.id)  # e.g., 4\n",
        "print(krabs.id)  # e.g., 5"
      ],
      "id": "11d3c5c1",
      "execution_count": null,
      "outputs": []
    },
    {
      "cell_type": "markdown",
      "metadata": {},
      "source": [
        "### Committing\n",
        "\n",
        "Commit the transaction to make the changes permanent:\n"
      ],
      "id": "6ca33015"
    },
    {
      "cell_type": "code",
      "metadata": {},
      "source": [
        "session.commit()"
      ],
      "id": "cc8ed60f",
      "execution_count": null,
      "outputs": []
    },
    {
      "cell_type": "markdown",
      "metadata": {},
      "source": [
        "To update ORM objects using the Unit of Work pattern in SQLAlchemy, you need to ensure that the session is properly created, the object is loaded, modified, and changes are committed. Here’s the complete code to update the object and handle the session correctly:\n",
        "\n",
        "### Complete Example with Updating ORM Objects\n"
      ],
      "id": "9cd07ad3"
    },
    {
      "cell_type": "code",
      "metadata": {},
      "source": [
        "from sqlalchemy import create_engine, Column, Integer, String, ForeignKey, select, func\n",
        "from sqlalchemy.orm import declarative_base, sessionmaker, relationship, Session\n",
        "from sqlalchemy.orm import Mapped\n",
        "from typing import List\n",
        "\n",
        "Base = declarative_base()\n",
        "\n",
        "# Define the User model\n",
        "class User(Base):\n",
        "    __tablename__ = \"user_account\"\n",
        "    id = Column(Integer, primary_key=True)\n",
        "    name = Column(String(30))\n",
        "    fullname = Column(String)\n",
        "\n",
        "# Define the Address model for completeness\n",
        "class Address(Base):\n",
        "    __tablename__ = \"address\"\n",
        "    id = Column(Integer, primary_key=True)\n",
        "    email_address = Column(String(100))\n",
        "    user_id = Column(Integer, ForeignKey(\"user_account.id\"))\n",
        "    user: Mapped[\"User\"] = relationship(\"User\", back_populates=\"addresses\")\n",
        "\n",
        "User.addresses = relationship(\"Address\", back_populates=\"user\")\n",
        "\n",
        "# Create an in-memory SQLite database\n",
        "engine = create_engine(\"sqlite+pysqlite:///:memory:\", echo=True)\n",
        "\n",
        "# Create tables in the database\n",
        "Base.metadata.create_all(engine)\n",
        "\n",
        "# Create a session factory\n",
        "SessionLocal = sessionmaker(bind=engine)\n",
        "\n",
        "# Add sample data to User table\n",
        "with SessionLocal() as session:\n",
        "    user1 = User(name=\"John\", fullname=\"John Doe\")\n",
        "    user2 = User(name=\"Jane\", fullname=\"Jane Doe\")\n",
        "    user3 = User(name=\"sandy\", fullname=\"Sandy Cheeks\")\n",
        "    session.add_all([user1, user2, user3])\n",
        "    session.commit()\n",
        "\n",
        "# Perform the update operation\n",
        "with SessionLocal() as session:\n",
        "    # Load the object into the session\n",
        "    sandy = session.execute(select(User).filter_by(name=\"sandy\")).scalar_one()\n",
        "\n",
        "    # Modify the object's attributes\n",
        "    sandy.fullname = \"Sandy Squirrel\"\n",
        "\n",
        "    # Check if the object is marked as dirty (has pending changes)\n",
        "    print(sandy in session.dirty)  # True\n",
        "\n",
        "    # Commit the transaction to save changes to the database\n",
        "    session.commit()\n",
        "\n",
        "    # Verify the update by querying the database again\n",
        "    sandy_fullname = session.execute(select(User.fullname).where(User.id == sandy.id)).scalar_one()\n",
        "    print(sandy_fullname)  # \"Sandy Squirrel\"\n",
        "\n",
        "    # Check if the object is still marked as dirty (should be False after commit)\n",
        "    print(sandy in session.dirty)  # False"
      ],
      "id": "b75cbe0e",
      "execution_count": null,
      "outputs": []
    },
    {
      "cell_type": "markdown",
      "metadata": {},
      "source": [
        "### Explanation:\n",
        "\n",
        "1. **Imports and Base Declaration:**\n",
        "    ```python\n",
        "    from sqlalchemy import create_engine, Column, Integer, String, ForeignKey, select, func\n",
        "    from sqlalchemy.orm import declarative_base, sessionmaker, relationship, Session\n",
        "    from sqlalchemy.orm import Mapped\n",
        "    from typing import List\n",
        "\n",
        "    Base = declarative_base()\n",
        "    ```\n",
        "\n",
        "2. **Defining the User and Address Models:**\n",
        "    ```python\n",
        "    class User(Base):\n",
        "        __tablename__ = \"user_account\"\n",
        "        id = Column(Integer, primary_key=True)\n",
        "        name = Column(String(30))\n",
        "        fullname = Column(String)\n",
        "\n",
        "    class Address(Base):\n",
        "        __tablename__ = \"address\"\n",
        "        id = Column(Integer, primary_key=True)\n",
        "        email_address = Column(String(100))\n",
        "        user_id = Column(Integer, ForeignKey(\"user_account.id\"))\n",
        "        user: Mapped[\"User\"] = relationship(\"User\", back_populates=\"addresses\")\n",
        "\n",
        "    User.addresses = relationship(\"Address\", back_populates=\"user\")\n",
        "    ```\n",
        "\n",
        "3. **Creating the Database and Tables:**\n",
        "    ```python\n",
        "    engine = create_engine(\"sqlite+pysqlite:///:memory:\", echo=True)\n",
        "    Base.metadata.create_all(engine)\n",
        "    ```\n",
        "\n",
        "4. **Creating a Session Factory and Adding Sample Data:**\n",
        "    ```python\n",
        "    SessionLocal = sessionmaker(bind=engine)\n",
        "\n",
        "    with SessionLocal() as session:\n",
        "        user1 = User(name=\"John\", fullname=\"John Doe\")\n",
        "        user2 = User(name=\"Jane\", fullname=\"Jane Doe\")\n",
        "        user3 = User(name=\"sandy\", fullname=\"Sandy Cheeks\")\n",
        "        session.add_all([user1, user2, user3])\n",
        "        session.commit()\n",
        "    ```\n",
        "\n",
        "5. **Updating ORM Objects Using the Unit of Work Pattern:**\n",
        "    ```python\n",
        "    with SessionLocal() as session:\n",
        "        # Load the object into the session\n",
        "        sandy = session.execute(select(User).filter_by(name=\"sandy\")).scalar_one()\n",
        "\n",
        "        # Modify the object's attributes\n",
        "        sandy.fullname = \"Sandy Squirrel\"\n",
        "\n",
        "        # Check if the object is marked as dirty (has pending changes)\n",
        "        print(sandy in session.dirty)  # True\n",
        "\n",
        "        # Commit the transaction to save changes to the database\n",
        "        session.commit()\n",
        "\n",
        "        # Verify the update by querying the database again\n",
        "        sandy_fullname = session.execute(select(User.fullname).where(User.id == sandy.id)).scalar_one()\n",
        "        print(sandy_fullname)  # \"Sandy Squirrel\"\n",
        "\n",
        "        # Check if the object is still marked as dirty (should be False after commit)\n",
        "        print(sandy in session.dirty)  # False\n",
        "    ```\n",
        "\n",
        "### Output:\n",
        "- **Dirty Check Before Commit**: Prints `True` indicating the object has pending changes.\n",
        "- **Updated Fullname**: Prints `\"Sandy Squirrel\"` verifying the update.\n",
        "- **Dirty Check After Commit**: Prints `False` indicating the changes have been committed and the object is no longer dirty.\n",
        "\n",
        "This example demonstrates how to use the Unit of Work pattern in SQLAlchemy to update ORM objects, ensuring the session correctly tracks changes and commits them to the database.\n",
        "## Deleting ORM Objects Using the Unit of Work Pattern\n",
        "\n",
        "To delete objects, mark them for deletion and let the `Session` handle the delete during a flush:\n"
      ],
      "id": "1bb5eb3c"
    },
    {
      "cell_type": "code",
      "metadata": {},
      "source": [
        "patrick = session.get(User, 3)\n",
        "\n",
        "session.delete(patrick)\n",
        "\n",
        "session.execute(select(User).where(User.name == \"patrick\")).first()\n",
        "# Output will show the DELETE statement"
      ],
      "id": "eb3ebc35",
      "execution_count": null,
      "outputs": []
    },
    {
      "cell_type": "markdown",
      "metadata": {},
      "source": [
        "### Rolling Back\n",
        "\n",
        "Rollback the transaction to undo the changes:\n"
      ],
      "id": "7d79658c"
    },
    {
      "cell_type": "code",
      "metadata": {},
      "source": [
        "session.rollback()"
      ],
      "id": "a1f54689",
      "execution_count": null,
      "outputs": []
    },
    {
      "cell_type": "markdown",
      "metadata": {},
      "source": [
        "### Closing a Session\n",
        "\n",
        "Close the session to release resources and detach objects:\n"
      ],
      "id": "0d8049d8"
    },
    {
      "cell_type": "code",
      "metadata": {},
      "source": [
        "session.close()"
      ],
      "id": "0da36973",
      "execution_count": null,
      "outputs": []
    },
    {
      "cell_type": "markdown",
      "metadata": {},
      "source": [
        "## Bulk / Multi-Row INSERT, UPSERT, UPDATE, and DELETE\n",
        "\n",
        "For performance-intensive tasks involving large numbers of rows, use bulk operations. This mode is crucial when dealing with massive datasets without needing to construct and manipulate individual ORM objects.\n",
        "\n",
        "See the [ORM-Enabled INSERT, UPDATE, and DELETE Statements](https://docs.sqlalchemy.org/en/14/orm/query.html#orm-enabled-insert-update-and-delete) in the ORM Querying Guide for more details.\n",
        "\n",
        "## Conclusion\n",
        "\n",
        "Understanding the `Session` and its unit of work pattern is crucial for efficient data manipulation with SQLAlchemy's ORM. Use the techniques discussed to manage the lifecycle of your objects and perform CRUD operations seamlessly.\n",
        "\n",
        "For further reading:\n",
        "\n",
        "- [Update](https://docs.sqlalchemy.org/en/14/core/dml.html#sqlalchemy.sql.expression.Update)\n",
        "- [Delete](https://docs.sqlalchemy.org/en/14/core/dml.html#sqlalchemy.sql.expression.Delete)\n",
        "- [ORM-Enabled INSERT, UPDATE, and DELETE Statements](https://docs.sqlalchemy.org/en/14/orm/query.html#orm-enabled-insert-update-and-delete)\n",
        "\n",
        "These resources will help you dive deeper into the capabilities and best practices of using SQLAlchemy's ORM for data manipulation.\n",
        "\n",
        "# Working with ORM Related Objects with SQLAlchemy\n",
        "\n",
        "In this section, we'll explore how SQLAlchemy's ORM handles relationships between mapped classes. Relationships are defined using the `relationship()` construct, allowing us to create associations between different classes or even within the same class (self-referential relationships). This tutorial will cover creating, persisting, loading, and querying related objects using the ORM.\n",
        "\n",
        "## Declaring Relationships\n",
        "\n",
        "Here’s the corrected and complete example for declaring relationships between two classes, `User` and `Address`, ensuring it works as intended:\n",
        "\n",
        "### Basic Relationship Example\n",
        "\n",
        "```python\n",
        "from sqlalchemy import create_engine, Column, Integer, String, ForeignKey\n",
        "from sqlalchemy.orm import declarative_base, sessionmaker, relationship\n",
        "from sqlalchemy.orm import Mapped\n",
        "from typing import List\n",
        "\n",
        "Base = declarative_base()\n",
        "\n",
        "class User(Base):\n",
        "    __tablename__ = \"user_account\"\n",
        "    __table_args__ = {'extend_existing': True}\n",
        "\n",
        "    id = Column(Integer, primary_key=True)\n",
        "    name = Column(String(50))\n",
        "    fullname = Column(String(100))\n",
        "    \n",
        "    addresses: Mapped[List[\"Address\"]] = relationship(\"Address\", back_populates=\"user\")\n",
        "\n",
        "class Address(Base):\n",
        "    __tablename__ = \"address\"\n",
        "\n",
        "    id = Column(Integer, primary_key=True)\n",
        "    email_address = Column(String(100))\n",
        "    user_id = Column(Integer, ForeignKey(\"user_account.id\"))\n",
        "    \n",
        "    user: Mapped[\"User\"] = relationship(\"User\", back_populates=\"addresses\")\n",
        "\n",
        "# Create an in-memory SQLite database\n",
        "engine = create_engine(\"sqlite+pysqlite:///:memory:\", echo=True)\n",
        "\n",
        "# Create tables in the database\n",
        "Base.metadata.create_all(engine)\n",
        "\n",
        "# Session setup\n",
        "Session = sessionmaker(bind=engine)\n",
        "session = Session()\n",
        "\n",
        "# Example usage\n",
        "new_user = User(name=\"John\", fullname=\"John Doe\")\n",
        "session.add(new_user)\n",
        "session.commit()\n",
        "\n",
        "# Query the database\n",
        "for user in session.query(User).all():\n",
        "    print(user)\n",
        "```\n",
        "\n",
        "### Discussion:\n",
        "\n",
        "1. **Imports and Base Declaration:**\n",
        "    ```python\n",
        "    from sqlalchemy import create_engine, Column, Integer, String, ForeignKey\n",
        "    from sqlalchemy.orm import declarative_base, sessionmaker, relationship\n",
        "    from sqlalchemy.orm import Mapped\n",
        "    from typing import List\n",
        "\n",
        "    Base = declarative_base()\n",
        "    ```\n",
        "    - These imports include necessary modules and functions from SQLAlchemy and the `typing` module for type annotations.\n",
        "\n",
        "2. **User Class Definition:**\n",
        "    ```python\n",
        "    class User(Base):\n",
        "        __tablename__ = \"user_account\"\n",
        "        __table_args__ = {'extend_existing': True}\n",
        "\n",
        "        id = Column(Integer, primary_key=True)\n",
        "        name = Column(String(50))\n",
        "        fullname = Column(String(100))\n",
        "\n",
        "        addresses: Mapped[List[\"Address\"]] = relationship(\"Address\", back_populates=\"user\")\n",
        "    ```\n",
        "    - Defines the `User` class with columns `id`, `name`, and `fullname`.\n",
        "    - The `addresses` attribute establishes a relationship to the `Address` class, using `relationship` with `back_populates` to create a bidirectional relationship.\n",
        "\n",
        "3. **Address Class Definition:**\n",
        "    ```python\n",
        "    class Address(Base):\n",
        "        __tablename__ = \"address\"\n",
        "\n",
        "        id = Column(Integer, primary_key=True)\n",
        "        email_address = Column(String(100))\n",
        "        user_id = Column(Integer, ForeignKey(\"user_account.id\"))\n",
        "\n",
        "        user: Mapped[\"User\"] = relationship(\"User\", back_populates=\"addresses\")\n",
        "    ```\n",
        "    - Defines the `Address` class with columns `id`, `email_address`, and `user_id`.\n",
        "    - The `user` attribute establishes a relationship to the `User` class, using `relationship` with `back_populates`.\n",
        "\n",
        "4. **Creating the Database and Tables:**\n",
        "    ```python\n",
        "    engine = create_engine(\"sqlite+pysqlite:///:memory:\", echo=True)\n",
        "    Base.metadata.create_all(engine)\n",
        "    ```\n",
        "    - Creates an in-memory SQLite database and creates the tables defined by the models.\n",
        "\n",
        "5. **Session Setup:**\n",
        "    ```python\n",
        "    Session = sessionmaker(bind=engine)\n",
        "    session = Session()\n",
        "    ```\n",
        "    - Sets up a session to interact with the database.\n",
        "\n",
        "6. **Example Usage and Query:**\n",
        "    ```python\n",
        "    new_user = User(name=\"John\", fullname=\"John Doe\")\n",
        "    session.add(new_user)\n",
        "    session.commit()\n",
        "\n",
        "    for user in session.query(User).all():\n",
        "        print(user)\n",
        "    ```\n",
        "    - Adds a new user to the database and commits the transaction.\n",
        "    - Queries the database to retrieve and print all users.\n",
        "\n",
        "This example should work without errors and correctly demonstrate the declaration and usage of relationships between `User` and `Address` classes in SQLAlchemy.\n",
        "\n",
        "## Persisting and Loading Relationships\n",
        "\n",
        "### Creating and Associating Objects\n",
        "\n",
        "Let's create a new `User` object and associate it with `Address` objects:\n"
      ],
      "id": "0404fa59"
    },
    {
      "cell_type": "code",
      "metadata": {},
      "source": [
        "u1 = User(name=\"pkrabs\", fullname=\"Pearl Krabs\")\n",
        "print(u1.addresses)  \n",
        "\n",
        "a1 = Address(email_address=\"pearl.krabs@gmail.com\")\n",
        "u1.addresses.append(a1)\n",
        "print(u1.addresses)  \n",
        "\n",
        "print(a1.user)  "
      ],
      "id": "ea46b7b1",
      "execution_count": null,
      "outputs": []
    },
    {
      "cell_type": "markdown",
      "metadata": {},
      "source": [
        "Adding an `Address` object to the `User.addresses` collection also updates the `Address.user` attribute automatically, thanks to the `back_populates` parameter.\n",
        "\n",
        "### Adding to a Session\n",
        "\n",
        "We need to add the objects to a session to persist them in the database:\n"
      ],
      "id": "840667d3"
    },
    {
      "cell_type": "code",
      "metadata": {},
      "source": [
        "session.add(u1)\n",
        "print(u1 in session)  # Output: True\n",
        "print(a1 in session)  # Output: True\n",
        "\n",
        "session.commit()"
      ],
      "id": "9bbdf64f",
      "execution_count": null,
      "outputs": []
    },
    {
      "cell_type": "markdown",
      "metadata": {},
      "source": [
        "After committing the session, the objects are stored in the database, and primary key values are assigned.\n",
        "\n",
        "### Loading Relationships\n",
        "\n",
        "Accessing a relationship attribute triggers a lazy load if the related objects are not already loaded:\n"
      ],
      "id": "1617f159"
    },
    {
      "cell_type": "code",
      "metadata": {},
      "source": [
        "u1 = session.query(User).filter_by(name=\"pkrabs\").one()\n",
        "print(u1.addresses)  # Triggers a SELECT statement to load addresses"
      ],
      "id": "0677be5b",
      "execution_count": null,
      "outputs": []
    },
    {
      "cell_type": "markdown",
      "metadata": {},
      "source": [
        "## Using Relationships in Queries\n",
        "\n",
        "### Joining Related Tables\n",
        "\n",
        "You can use relationships to simplify joining related tables:\n"
      ],
      "id": "156ab090"
    },
    {
      "cell_type": "code",
      "metadata": {},
      "source": [
        "stmt = select(Address.email_address).select_from(User).join(User.addresses)\n",
        "print(stmt)\n",
        "# Output: SELECT address.email_address FROM user_account JOIN address ON user_account.id = address.user_id"
      ],
      "id": "5d5fb122",
      "execution_count": null,
      "outputs": []
    },
    {
      "cell_type": "markdown",
      "metadata": {},
      "source": [
        "### Using `joinedload()` and `selectinload()`\n",
        "\n",
        "These methods help optimize query performance by loading related objects eagerly:\n"
      ],
      "id": "aef5396a"
    },
    {
      "cell_type": "code",
      "metadata": {},
      "source": [
        "from sqlalchemy.orm import selectinload, joinedload\n",
        "\n",
        "# Using selectinload\n",
        "stmt = select(User).options(selectinload(User.addresses)).order_by(User.id)\n",
        "for row in session.execute(stmt):\n",
        "    print(f\"{row.User.name} ({', '.join(a.email_address for a in row.User.addresses)})\")\n",
        "\n",
        "# Using joinedload\n",
        "stmt = select(Address).options(joinedload(Address.user)).order_by(Address.id)\n",
        "for row in session.execute(stmt):\n",
        "    print(f\"{row.Address.email_address} {row.Address.user.name}\")"
      ],
      "id": "4678087f",
      "execution_count": null,
      "outputs": []
    },
    {
      "cell_type": "markdown",
      "metadata": {},
      "source": [
        "## Loader Strategies\n",
        "\n",
        "### Configuring Loader Strategies\n",
        "\n",
        "You can set loader strategies at mapping time or query time to control how related objects are loaded:\n"
      ],
      "id": "3aec0c04"
    },
    {
      "cell_type": "code",
      "metadata": {},
      "source": [
        "# At mapping time\n",
        "class User(Base):\n",
        "    __tablename__ = \"user_account\"\n",
        "    addresses: Mapped[List[\"Address\"]] = relationship(back_populates=\"user\", lazy=\"selectin\")\n",
        "\n",
        "# At query time\n",
        "stmt = select(User).options(selectinload(User.addresses)).order_by(User.id)"
      ],
      "id": "f1567144",
      "execution_count": null,
      "outputs": []
    },
    {
      "cell_type": "markdown",
      "metadata": {},
      "source": [
        "### Using `raiseload()`\n",
        "\n",
        "The `raiseload()` strategy raises an error when a lazy load is attempted, preventing unwanted lazy loads:\n"
      ],
      "id": "a9ffa0da"
    },
    {
      "cell_type": "code",
      "metadata": {},
      "source": [
        "class User(Base):\n",
        "    __tablename__ = \"user_account\"\n",
        "    addresses: Mapped[List[\"Address\"]] = relationship(back_populates=\"user\", lazy=\"raise_on_sql\")\n",
        "\n",
        "u1 = session.query(User).first()\n",
        "u1.addresses  # Raises an InvalidRequestError"
      ],
      "id": "5d3f7183",
      "execution_count": null,
      "outputs": []
    },
    {
      "cell_type": "markdown",
      "metadata": {},
      "source": [
        "## Conclusion\n",
        "\n",
        "Understanding and using relationships in SQLAlchemy's ORM allows you to efficiently manage and query related data. By defining relationships with `relationship()`, using the unit of work pattern, and employing appropriate loader strategies, you can optimize your database interactions and maintain clean, readable code. For more details, refer to SQLAlchemy's [Relationship Loading Techniques](https://docs.sqlalchemy.org/en/14/orm/loading_relationships.html) documentation."
      ],
      "id": "d13fd773"
    }
  ],
  "metadata": {
    "kernelspec": {
      "name": "python3",
      "language": "python",
      "display_name": "Python 3 (ipykernel)",
      "path": "/Users/markumreed/Documents/BAIS_program_updates/python_for_BAIS/venv/share/jupyter/kernels/python3"
    }
  },
  "nbformat": 4,
  "nbformat_minor": 5
}